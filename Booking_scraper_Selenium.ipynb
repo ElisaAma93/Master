{
  "nbformat": 4,
  "nbformat_minor": 0,
  "metadata": {
    "colab": {
      "name": "Booking_scraper_Selenium.ipynb",
      "provenance": [],
      "authorship_tag": "ABX9TyPyyImyfxOviW6gXJbO+Nu/",
      "include_colab_link": true
    },
    "kernelspec": {
      "name": "python3",
      "display_name": "Python 3"
    },
    "widgets": {
      "application/vnd.jupyter.widget-state+json": {
        "fd094821d768474cb817a91b37d824f3": {
          "model_module": "@jupyter-widgets/controls",
          "model_name": "HBoxModel",
          "state": {
            "_view_name": "HBoxView",
            "_dom_classes": [],
            "_model_name": "HBoxModel",
            "_view_module": "@jupyter-widgets/controls",
            "_model_module_version": "1.5.0",
            "_view_count": null,
            "_view_module_version": "1.5.0",
            "box_style": "",
            "layout": "IPY_MODEL_dd2d653e359949849ac64b30d0b6abdd",
            "_model_module": "@jupyter-widgets/controls",
            "children": [
              "IPY_MODEL_74b1e4d8f30d41aab129d1f040ce2a54",
              "IPY_MODEL_b5efac1dedd24ffa8ad43ec2cd9ff795"
            ]
          }
        },
        "dd2d653e359949849ac64b30d0b6abdd": {
          "model_module": "@jupyter-widgets/base",
          "model_name": "LayoutModel",
          "state": {
            "_view_name": "LayoutView",
            "grid_template_rows": null,
            "right": null,
            "justify_content": null,
            "_view_module": "@jupyter-widgets/base",
            "overflow": null,
            "_model_module_version": "1.2.0",
            "_view_count": null,
            "flex_flow": null,
            "width": null,
            "min_width": null,
            "border": null,
            "align_items": null,
            "bottom": null,
            "_model_module": "@jupyter-widgets/base",
            "top": null,
            "grid_column": null,
            "overflow_y": null,
            "overflow_x": null,
            "grid_auto_flow": null,
            "grid_area": null,
            "grid_template_columns": null,
            "flex": null,
            "_model_name": "LayoutModel",
            "justify_items": null,
            "grid_row": null,
            "max_height": null,
            "align_content": null,
            "visibility": null,
            "align_self": null,
            "height": null,
            "min_height": null,
            "padding": null,
            "grid_auto_rows": null,
            "grid_gap": null,
            "max_width": null,
            "order": null,
            "_view_module_version": "1.2.0",
            "grid_template_areas": null,
            "object_position": null,
            "object_fit": null,
            "grid_auto_columns": null,
            "margin": null,
            "display": null,
            "left": null
          }
        },
        "74b1e4d8f30d41aab129d1f040ce2a54": {
          "model_module": "@jupyter-widgets/controls",
          "model_name": "FloatProgressModel",
          "state": {
            "_view_name": "ProgressView",
            "style": "IPY_MODEL_53a6a3de28ea43829de617e20592b385",
            "_dom_classes": [],
            "description": "100%",
            "_model_name": "FloatProgressModel",
            "bar_style": "success",
            "max": 11,
            "_view_module": "@jupyter-widgets/controls",
            "_model_module_version": "1.5.0",
            "value": 11,
            "_view_count": null,
            "_view_module_version": "1.5.0",
            "orientation": "horizontal",
            "min": 0,
            "description_tooltip": null,
            "_model_module": "@jupyter-widgets/controls",
            "layout": "IPY_MODEL_31518e3b042e445eb33aa25515cb8db9"
          }
        },
        "b5efac1dedd24ffa8ad43ec2cd9ff795": {
          "model_module": "@jupyter-widgets/controls",
          "model_name": "HTMLModel",
          "state": {
            "_view_name": "HTMLView",
            "style": "IPY_MODEL_024a986c4f8146aa9665f3a669dd5113",
            "_dom_classes": [],
            "description": "",
            "_model_name": "HTMLModel",
            "placeholder": "​",
            "_view_module": "@jupyter-widgets/controls",
            "_model_module_version": "1.5.0",
            "value": " 11/11 [05:30&lt;00:00, 30.01s/it]",
            "_view_count": null,
            "_view_module_version": "1.5.0",
            "description_tooltip": null,
            "_model_module": "@jupyter-widgets/controls",
            "layout": "IPY_MODEL_140c69cbf86342109b267b9da9ed637b"
          }
        },
        "53a6a3de28ea43829de617e20592b385": {
          "model_module": "@jupyter-widgets/controls",
          "model_name": "ProgressStyleModel",
          "state": {
            "_view_name": "StyleView",
            "_model_name": "ProgressStyleModel",
            "description_width": "initial",
            "_view_module": "@jupyter-widgets/base",
            "_model_module_version": "1.5.0",
            "_view_count": null,
            "_view_module_version": "1.2.0",
            "bar_color": null,
            "_model_module": "@jupyter-widgets/controls"
          }
        },
        "31518e3b042e445eb33aa25515cb8db9": {
          "model_module": "@jupyter-widgets/base",
          "model_name": "LayoutModel",
          "state": {
            "_view_name": "LayoutView",
            "grid_template_rows": null,
            "right": null,
            "justify_content": null,
            "_view_module": "@jupyter-widgets/base",
            "overflow": null,
            "_model_module_version": "1.2.0",
            "_view_count": null,
            "flex_flow": null,
            "width": null,
            "min_width": null,
            "border": null,
            "align_items": null,
            "bottom": null,
            "_model_module": "@jupyter-widgets/base",
            "top": null,
            "grid_column": null,
            "overflow_y": null,
            "overflow_x": null,
            "grid_auto_flow": null,
            "grid_area": null,
            "grid_template_columns": null,
            "flex": null,
            "_model_name": "LayoutModel",
            "justify_items": null,
            "grid_row": null,
            "max_height": null,
            "align_content": null,
            "visibility": null,
            "align_self": null,
            "height": null,
            "min_height": null,
            "padding": null,
            "grid_auto_rows": null,
            "grid_gap": null,
            "max_width": null,
            "order": null,
            "_view_module_version": "1.2.0",
            "grid_template_areas": null,
            "object_position": null,
            "object_fit": null,
            "grid_auto_columns": null,
            "margin": null,
            "display": null,
            "left": null
          }
        },
        "024a986c4f8146aa9665f3a669dd5113": {
          "model_module": "@jupyter-widgets/controls",
          "model_name": "DescriptionStyleModel",
          "state": {
            "_view_name": "StyleView",
            "_model_name": "DescriptionStyleModel",
            "description_width": "",
            "_view_module": "@jupyter-widgets/base",
            "_model_module_version": "1.5.0",
            "_view_count": null,
            "_view_module_version": "1.2.0",
            "_model_module": "@jupyter-widgets/controls"
          }
        },
        "140c69cbf86342109b267b9da9ed637b": {
          "model_module": "@jupyter-widgets/base",
          "model_name": "LayoutModel",
          "state": {
            "_view_name": "LayoutView",
            "grid_template_rows": null,
            "right": null,
            "justify_content": null,
            "_view_module": "@jupyter-widgets/base",
            "overflow": null,
            "_model_module_version": "1.2.0",
            "_view_count": null,
            "flex_flow": null,
            "width": null,
            "min_width": null,
            "border": null,
            "align_items": null,
            "bottom": null,
            "_model_module": "@jupyter-widgets/base",
            "top": null,
            "grid_column": null,
            "overflow_y": null,
            "overflow_x": null,
            "grid_auto_flow": null,
            "grid_area": null,
            "grid_template_columns": null,
            "flex": null,
            "_model_name": "LayoutModel",
            "justify_items": null,
            "grid_row": null,
            "max_height": null,
            "align_content": null,
            "visibility": null,
            "align_self": null,
            "height": null,
            "min_height": null,
            "padding": null,
            "grid_auto_rows": null,
            "grid_gap": null,
            "max_width": null,
            "order": null,
            "_view_module_version": "1.2.0",
            "grid_template_areas": null,
            "object_position": null,
            "object_fit": null,
            "grid_auto_columns": null,
            "margin": null,
            "display": null,
            "left": null
          }
        },
        "dbed59e2eea44098bafcb3ed586979d8": {
          "model_module": "@jupyter-widgets/controls",
          "model_name": "HBoxModel",
          "state": {
            "_view_name": "HBoxView",
            "_dom_classes": [],
            "_model_name": "HBoxModel",
            "_view_module": "@jupyter-widgets/controls",
            "_model_module_version": "1.5.0",
            "_view_count": null,
            "_view_module_version": "1.5.0",
            "box_style": "",
            "layout": "IPY_MODEL_e1b571cde0cd49bbaf08b50949944010",
            "_model_module": "@jupyter-widgets/controls",
            "children": [
              "IPY_MODEL_60eda272ebcd47bb818f735abc913bca",
              "IPY_MODEL_e2b697c9a5854e40960483195f4c429d"
            ]
          }
        },
        "e1b571cde0cd49bbaf08b50949944010": {
          "model_module": "@jupyter-widgets/base",
          "model_name": "LayoutModel",
          "state": {
            "_view_name": "LayoutView",
            "grid_template_rows": null,
            "right": null,
            "justify_content": null,
            "_view_module": "@jupyter-widgets/base",
            "overflow": null,
            "_model_module_version": "1.2.0",
            "_view_count": null,
            "flex_flow": null,
            "width": null,
            "min_width": null,
            "border": null,
            "align_items": null,
            "bottom": null,
            "_model_module": "@jupyter-widgets/base",
            "top": null,
            "grid_column": null,
            "overflow_y": null,
            "overflow_x": null,
            "grid_auto_flow": null,
            "grid_area": null,
            "grid_template_columns": null,
            "flex": null,
            "_model_name": "LayoutModel",
            "justify_items": null,
            "grid_row": null,
            "max_height": null,
            "align_content": null,
            "visibility": null,
            "align_self": null,
            "height": null,
            "min_height": null,
            "padding": null,
            "grid_auto_rows": null,
            "grid_gap": null,
            "max_width": null,
            "order": null,
            "_view_module_version": "1.2.0",
            "grid_template_areas": null,
            "object_position": null,
            "object_fit": null,
            "grid_auto_columns": null,
            "margin": null,
            "display": null,
            "left": null
          }
        },
        "60eda272ebcd47bb818f735abc913bca": {
          "model_module": "@jupyter-widgets/controls",
          "model_name": "FloatProgressModel",
          "state": {
            "_view_name": "ProgressView",
            "style": "IPY_MODEL_5dd8c62fc6f5473abd12499db97884f1",
            "_dom_classes": [],
            "description": "",
            "_model_name": "FloatProgressModel",
            "bar_style": "success",
            "max": 1,
            "_view_module": "@jupyter-widgets/controls",
            "_model_module_version": "1.5.0",
            "value": 1,
            "_view_count": null,
            "_view_module_version": "1.5.0",
            "orientation": "horizontal",
            "min": 0,
            "description_tooltip": null,
            "_model_module": "@jupyter-widgets/controls",
            "layout": "IPY_MODEL_f885bd5ad6c54d38ac40dfe74844ac02"
          }
        },
        "e2b697c9a5854e40960483195f4c429d": {
          "model_module": "@jupyter-widgets/controls",
          "model_name": "HTMLModel",
          "state": {
            "_view_name": "HTMLView",
            "style": "IPY_MODEL_2a4060b7c3d04d57bdc605c47095ecb8",
            "_dom_classes": [],
            "description": "",
            "_model_name": "HTMLModel",
            "placeholder": "​",
            "_view_module": "@jupyter-widgets/controls",
            "_model_module_version": "1.5.0",
            "value": " 5/? [37:17&lt;00:00, 447.56s/it]",
            "_view_count": null,
            "_view_module_version": "1.5.0",
            "description_tooltip": null,
            "_model_module": "@jupyter-widgets/controls",
            "layout": "IPY_MODEL_1b8ce19cb037450ba1113dd5b7a6bbf1"
          }
        },
        "5dd8c62fc6f5473abd12499db97884f1": {
          "model_module": "@jupyter-widgets/controls",
          "model_name": "ProgressStyleModel",
          "state": {
            "_view_name": "StyleView",
            "_model_name": "ProgressStyleModel",
            "description_width": "initial",
            "_view_module": "@jupyter-widgets/base",
            "_model_module_version": "1.5.0",
            "_view_count": null,
            "_view_module_version": "1.2.0",
            "bar_color": null,
            "_model_module": "@jupyter-widgets/controls"
          }
        },
        "f885bd5ad6c54d38ac40dfe74844ac02": {
          "model_module": "@jupyter-widgets/base",
          "model_name": "LayoutModel",
          "state": {
            "_view_name": "LayoutView",
            "grid_template_rows": null,
            "right": null,
            "justify_content": null,
            "_view_module": "@jupyter-widgets/base",
            "overflow": null,
            "_model_module_version": "1.2.0",
            "_view_count": null,
            "flex_flow": null,
            "width": null,
            "min_width": null,
            "border": null,
            "align_items": null,
            "bottom": null,
            "_model_module": "@jupyter-widgets/base",
            "top": null,
            "grid_column": null,
            "overflow_y": null,
            "overflow_x": null,
            "grid_auto_flow": null,
            "grid_area": null,
            "grid_template_columns": null,
            "flex": null,
            "_model_name": "LayoutModel",
            "justify_items": null,
            "grid_row": null,
            "max_height": null,
            "align_content": null,
            "visibility": null,
            "align_self": null,
            "height": null,
            "min_height": null,
            "padding": null,
            "grid_auto_rows": null,
            "grid_gap": null,
            "max_width": null,
            "order": null,
            "_view_module_version": "1.2.0",
            "grid_template_areas": null,
            "object_position": null,
            "object_fit": null,
            "grid_auto_columns": null,
            "margin": null,
            "display": null,
            "left": null
          }
        },
        "2a4060b7c3d04d57bdc605c47095ecb8": {
          "model_module": "@jupyter-widgets/controls",
          "model_name": "DescriptionStyleModel",
          "state": {
            "_view_name": "StyleView",
            "_model_name": "DescriptionStyleModel",
            "description_width": "",
            "_view_module": "@jupyter-widgets/base",
            "_model_module_version": "1.5.0",
            "_view_count": null,
            "_view_module_version": "1.2.0",
            "_model_module": "@jupyter-widgets/controls"
          }
        },
        "1b8ce19cb037450ba1113dd5b7a6bbf1": {
          "model_module": "@jupyter-widgets/base",
          "model_name": "LayoutModel",
          "state": {
            "_view_name": "LayoutView",
            "grid_template_rows": null,
            "right": null,
            "justify_content": null,
            "_view_module": "@jupyter-widgets/base",
            "overflow": null,
            "_model_module_version": "1.2.0",
            "_view_count": null,
            "flex_flow": null,
            "width": null,
            "min_width": null,
            "border": null,
            "align_items": null,
            "bottom": null,
            "_model_module": "@jupyter-widgets/base",
            "top": null,
            "grid_column": null,
            "overflow_y": null,
            "overflow_x": null,
            "grid_auto_flow": null,
            "grid_area": null,
            "grid_template_columns": null,
            "flex": null,
            "_model_name": "LayoutModel",
            "justify_items": null,
            "grid_row": null,
            "max_height": null,
            "align_content": null,
            "visibility": null,
            "align_self": null,
            "height": null,
            "min_height": null,
            "padding": null,
            "grid_auto_rows": null,
            "grid_gap": null,
            "max_width": null,
            "order": null,
            "_view_module_version": "1.2.0",
            "grid_template_areas": null,
            "object_position": null,
            "object_fit": null,
            "grid_auto_columns": null,
            "margin": null,
            "display": null,
            "left": null
          }
        },
        "b380a971a31642a08eddef25ef89aea1": {
          "model_module": "@jupyter-widgets/controls",
          "model_name": "HBoxModel",
          "state": {
            "_view_name": "HBoxView",
            "_dom_classes": [],
            "_model_name": "HBoxModel",
            "_view_module": "@jupyter-widgets/controls",
            "_model_module_version": "1.5.0",
            "_view_count": null,
            "_view_module_version": "1.5.0",
            "box_style": "",
            "layout": "IPY_MODEL_10413d4d68f540fcbdf1a16353425993",
            "_model_module": "@jupyter-widgets/controls",
            "children": [
              "IPY_MODEL_2defa76fa6864200aa1d31a0adc29da7",
              "IPY_MODEL_e4c0947792424b96b2d7090b2d8c72ae"
            ]
          }
        },
        "10413d4d68f540fcbdf1a16353425993": {
          "model_module": "@jupyter-widgets/base",
          "model_name": "LayoutModel",
          "state": {
            "_view_name": "LayoutView",
            "grid_template_rows": null,
            "right": null,
            "justify_content": null,
            "_view_module": "@jupyter-widgets/base",
            "overflow": null,
            "_model_module_version": "1.2.0",
            "_view_count": null,
            "flex_flow": null,
            "width": null,
            "min_width": null,
            "border": null,
            "align_items": null,
            "bottom": null,
            "_model_module": "@jupyter-widgets/base",
            "top": null,
            "grid_column": null,
            "overflow_y": null,
            "overflow_x": null,
            "grid_auto_flow": null,
            "grid_area": null,
            "grid_template_columns": null,
            "flex": null,
            "_model_name": "LayoutModel",
            "justify_items": null,
            "grid_row": null,
            "max_height": null,
            "align_content": null,
            "visibility": null,
            "align_self": null,
            "height": null,
            "min_height": null,
            "padding": null,
            "grid_auto_rows": null,
            "grid_gap": null,
            "max_width": null,
            "order": null,
            "_view_module_version": "1.2.0",
            "grid_template_areas": null,
            "object_position": null,
            "object_fit": null,
            "grid_auto_columns": null,
            "margin": null,
            "display": null,
            "left": null
          }
        },
        "2defa76fa6864200aa1d31a0adc29da7": {
          "model_module": "@jupyter-widgets/controls",
          "model_name": "FloatProgressModel",
          "state": {
            "_view_name": "ProgressView",
            "style": "IPY_MODEL_518c11b9e983476c8ca9dd6aba2121fd",
            "_dom_classes": [],
            "description": "",
            "_model_name": "FloatProgressModel",
            "bar_style": "success",
            "max": 1,
            "_view_module": "@jupyter-widgets/controls",
            "_model_module_version": "1.5.0",
            "value": 1,
            "_view_count": null,
            "_view_module_version": "1.5.0",
            "orientation": "horizontal",
            "min": 0,
            "description_tooltip": null,
            "_model_module": "@jupyter-widgets/controls",
            "layout": "IPY_MODEL_5ed8115a843548a4a69098a463ec910b"
          }
        },
        "e4c0947792424b96b2d7090b2d8c72ae": {
          "model_module": "@jupyter-widgets/controls",
          "model_name": "HTMLModel",
          "state": {
            "_view_name": "HTMLView",
            "style": "IPY_MODEL_4b985fe3a6ea4dc5b6f9f0c1cfcad8db",
            "_dom_classes": [],
            "description": "",
            "_model_name": "HTMLModel",
            "placeholder": "​",
            "_view_module": "@jupyter-widgets/controls",
            "_model_module_version": "1.5.0",
            "value": " 295/? [36:24&lt;00:00,  7.40s/it]",
            "_view_count": null,
            "_view_module_version": "1.5.0",
            "description_tooltip": null,
            "_model_module": "@jupyter-widgets/controls",
            "layout": "IPY_MODEL_3e6eb421a741401cbd013ea0e5f3ed68"
          }
        },
        "518c11b9e983476c8ca9dd6aba2121fd": {
          "model_module": "@jupyter-widgets/controls",
          "model_name": "ProgressStyleModel",
          "state": {
            "_view_name": "StyleView",
            "_model_name": "ProgressStyleModel",
            "description_width": "initial",
            "_view_module": "@jupyter-widgets/base",
            "_model_module_version": "1.5.0",
            "_view_count": null,
            "_view_module_version": "1.2.0",
            "bar_color": null,
            "_model_module": "@jupyter-widgets/controls"
          }
        },
        "5ed8115a843548a4a69098a463ec910b": {
          "model_module": "@jupyter-widgets/base",
          "model_name": "LayoutModel",
          "state": {
            "_view_name": "LayoutView",
            "grid_template_rows": null,
            "right": null,
            "justify_content": null,
            "_view_module": "@jupyter-widgets/base",
            "overflow": null,
            "_model_module_version": "1.2.0",
            "_view_count": null,
            "flex_flow": null,
            "width": null,
            "min_width": null,
            "border": null,
            "align_items": null,
            "bottom": null,
            "_model_module": "@jupyter-widgets/base",
            "top": null,
            "grid_column": null,
            "overflow_y": null,
            "overflow_x": null,
            "grid_auto_flow": null,
            "grid_area": null,
            "grid_template_columns": null,
            "flex": null,
            "_model_name": "LayoutModel",
            "justify_items": null,
            "grid_row": null,
            "max_height": null,
            "align_content": null,
            "visibility": null,
            "align_self": null,
            "height": null,
            "min_height": null,
            "padding": null,
            "grid_auto_rows": null,
            "grid_gap": null,
            "max_width": null,
            "order": null,
            "_view_module_version": "1.2.0",
            "grid_template_areas": null,
            "object_position": null,
            "object_fit": null,
            "grid_auto_columns": null,
            "margin": null,
            "display": null,
            "left": null
          }
        },
        "4b985fe3a6ea4dc5b6f9f0c1cfcad8db": {
          "model_module": "@jupyter-widgets/controls",
          "model_name": "DescriptionStyleModel",
          "state": {
            "_view_name": "StyleView",
            "_model_name": "DescriptionStyleModel",
            "description_width": "",
            "_view_module": "@jupyter-widgets/base",
            "_model_module_version": "1.5.0",
            "_view_count": null,
            "_view_module_version": "1.2.0",
            "_model_module": "@jupyter-widgets/controls"
          }
        },
        "3e6eb421a741401cbd013ea0e5f3ed68": {
          "model_module": "@jupyter-widgets/base",
          "model_name": "LayoutModel",
          "state": {
            "_view_name": "LayoutView",
            "grid_template_rows": null,
            "right": null,
            "justify_content": null,
            "_view_module": "@jupyter-widgets/base",
            "overflow": null,
            "_model_module_version": "1.2.0",
            "_view_count": null,
            "flex_flow": null,
            "width": null,
            "min_width": null,
            "border": null,
            "align_items": null,
            "bottom": null,
            "_model_module": "@jupyter-widgets/base",
            "top": null,
            "grid_column": null,
            "overflow_y": null,
            "overflow_x": null,
            "grid_auto_flow": null,
            "grid_area": null,
            "grid_template_columns": null,
            "flex": null,
            "_model_name": "LayoutModel",
            "justify_items": null,
            "grid_row": null,
            "max_height": null,
            "align_content": null,
            "visibility": null,
            "align_self": null,
            "height": null,
            "min_height": null,
            "padding": null,
            "grid_auto_rows": null,
            "grid_gap": null,
            "max_width": null,
            "order": null,
            "_view_module_version": "1.2.0",
            "grid_template_areas": null,
            "object_position": null,
            "object_fit": null,
            "grid_auto_columns": null,
            "margin": null,
            "display": null,
            "left": null
          }
        },
        "059be392a51d4ba8b77b7540077d4bab": {
          "model_module": "@jupyter-widgets/controls",
          "model_name": "HBoxModel",
          "state": {
            "_view_name": "HBoxView",
            "_dom_classes": [],
            "_model_name": "HBoxModel",
            "_view_module": "@jupyter-widgets/controls",
            "_model_module_version": "1.5.0",
            "_view_count": null,
            "_view_module_version": "1.5.0",
            "box_style": "",
            "layout": "IPY_MODEL_6d37b33bc6d4400bb9692fb029d562df",
            "_model_module": "@jupyter-widgets/controls",
            "children": [
              "IPY_MODEL_608ae9e526e74a33adc1c712d52c8d4e",
              "IPY_MODEL_b37ee60239c943c78a043212ae09214e"
            ]
          }
        },
        "6d37b33bc6d4400bb9692fb029d562df": {
          "model_module": "@jupyter-widgets/base",
          "model_name": "LayoutModel",
          "state": {
            "_view_name": "LayoutView",
            "grid_template_rows": null,
            "right": null,
            "justify_content": null,
            "_view_module": "@jupyter-widgets/base",
            "overflow": null,
            "_model_module_version": "1.2.0",
            "_view_count": null,
            "flex_flow": null,
            "width": null,
            "min_width": null,
            "border": null,
            "align_items": null,
            "bottom": null,
            "_model_module": "@jupyter-widgets/base",
            "top": null,
            "grid_column": null,
            "overflow_y": null,
            "overflow_x": null,
            "grid_auto_flow": null,
            "grid_area": null,
            "grid_template_columns": null,
            "flex": null,
            "_model_name": "LayoutModel",
            "justify_items": null,
            "grid_row": null,
            "max_height": null,
            "align_content": null,
            "visibility": null,
            "align_self": null,
            "height": null,
            "min_height": null,
            "padding": null,
            "grid_auto_rows": null,
            "grid_gap": null,
            "max_width": null,
            "order": null,
            "_view_module_version": "1.2.0",
            "grid_template_areas": null,
            "object_position": null,
            "object_fit": null,
            "grid_auto_columns": null,
            "margin": null,
            "display": null,
            "left": null
          }
        },
        "608ae9e526e74a33adc1c712d52c8d4e": {
          "model_module": "@jupyter-widgets/controls",
          "model_name": "FloatProgressModel",
          "state": {
            "_view_name": "ProgressView",
            "style": "IPY_MODEL_0388cfa52cab485c9209e3fe34349b83",
            "_dom_classes": [],
            "description": "",
            "_model_name": "FloatProgressModel",
            "bar_style": "success",
            "max": 1,
            "_view_module": "@jupyter-widgets/controls",
            "_model_module_version": "1.5.0",
            "value": 1,
            "_view_count": null,
            "_view_module_version": "1.5.0",
            "orientation": "horizontal",
            "min": 0,
            "description_tooltip": null,
            "_model_module": "@jupyter-widgets/controls",
            "layout": "IPY_MODEL_a73c2e343d2447b7bdc10a9a69061ab9"
          }
        },
        "b37ee60239c943c78a043212ae09214e": {
          "model_module": "@jupyter-widgets/controls",
          "model_name": "HTMLModel",
          "state": {
            "_view_name": "HTMLView",
            "style": "IPY_MODEL_d540ddfaad6e41c395ce1f5647642f1b",
            "_dom_classes": [],
            "description": "",
            "_model_name": "HTMLModel",
            "placeholder": "​",
            "_view_module": "@jupyter-widgets/controls",
            "_model_module_version": "1.5.0",
            "value": " 295/? [29:05&lt;00:00,  5.92s/it]",
            "_view_count": null,
            "_view_module_version": "1.5.0",
            "description_tooltip": null,
            "_model_module": "@jupyter-widgets/controls",
            "layout": "IPY_MODEL_cf3acd41a3314f36847ece5fb47620a7"
          }
        },
        "0388cfa52cab485c9209e3fe34349b83": {
          "model_module": "@jupyter-widgets/controls",
          "model_name": "ProgressStyleModel",
          "state": {
            "_view_name": "StyleView",
            "_model_name": "ProgressStyleModel",
            "description_width": "initial",
            "_view_module": "@jupyter-widgets/base",
            "_model_module_version": "1.5.0",
            "_view_count": null,
            "_view_module_version": "1.2.0",
            "bar_color": null,
            "_model_module": "@jupyter-widgets/controls"
          }
        },
        "a73c2e343d2447b7bdc10a9a69061ab9": {
          "model_module": "@jupyter-widgets/base",
          "model_name": "LayoutModel",
          "state": {
            "_view_name": "LayoutView",
            "grid_template_rows": null,
            "right": null,
            "justify_content": null,
            "_view_module": "@jupyter-widgets/base",
            "overflow": null,
            "_model_module_version": "1.2.0",
            "_view_count": null,
            "flex_flow": null,
            "width": null,
            "min_width": null,
            "border": null,
            "align_items": null,
            "bottom": null,
            "_model_module": "@jupyter-widgets/base",
            "top": null,
            "grid_column": null,
            "overflow_y": null,
            "overflow_x": null,
            "grid_auto_flow": null,
            "grid_area": null,
            "grid_template_columns": null,
            "flex": null,
            "_model_name": "LayoutModel",
            "justify_items": null,
            "grid_row": null,
            "max_height": null,
            "align_content": null,
            "visibility": null,
            "align_self": null,
            "height": null,
            "min_height": null,
            "padding": null,
            "grid_auto_rows": null,
            "grid_gap": null,
            "max_width": null,
            "order": null,
            "_view_module_version": "1.2.0",
            "grid_template_areas": null,
            "object_position": null,
            "object_fit": null,
            "grid_auto_columns": null,
            "margin": null,
            "display": null,
            "left": null
          }
        },
        "d540ddfaad6e41c395ce1f5647642f1b": {
          "model_module": "@jupyter-widgets/controls",
          "model_name": "DescriptionStyleModel",
          "state": {
            "_view_name": "StyleView",
            "_model_name": "DescriptionStyleModel",
            "description_width": "",
            "_view_module": "@jupyter-widgets/base",
            "_model_module_version": "1.5.0",
            "_view_count": null,
            "_view_module_version": "1.2.0",
            "_model_module": "@jupyter-widgets/controls"
          }
        },
        "cf3acd41a3314f36847ece5fb47620a7": {
          "model_module": "@jupyter-widgets/base",
          "model_name": "LayoutModel",
          "state": {
            "_view_name": "LayoutView",
            "grid_template_rows": null,
            "right": null,
            "justify_content": null,
            "_view_module": "@jupyter-widgets/base",
            "overflow": null,
            "_model_module_version": "1.2.0",
            "_view_count": null,
            "flex_flow": null,
            "width": null,
            "min_width": null,
            "border": null,
            "align_items": null,
            "bottom": null,
            "_model_module": "@jupyter-widgets/base",
            "top": null,
            "grid_column": null,
            "overflow_y": null,
            "overflow_x": null,
            "grid_auto_flow": null,
            "grid_area": null,
            "grid_template_columns": null,
            "flex": null,
            "_model_name": "LayoutModel",
            "justify_items": null,
            "grid_row": null,
            "max_height": null,
            "align_content": null,
            "visibility": null,
            "align_self": null,
            "height": null,
            "min_height": null,
            "padding": null,
            "grid_auto_rows": null,
            "grid_gap": null,
            "max_width": null,
            "order": null,
            "_view_module_version": "1.2.0",
            "grid_template_areas": null,
            "object_position": null,
            "object_fit": null,
            "grid_auto_columns": null,
            "margin": null,
            "display": null,
            "left": null
          }
        },
        "a0e67e8caa4945bea26692db2d687a0b": {
          "model_module": "@jupyter-widgets/controls",
          "model_name": "HBoxModel",
          "state": {
            "_view_name": "HBoxView",
            "_dom_classes": [],
            "_model_name": "HBoxModel",
            "_view_module": "@jupyter-widgets/controls",
            "_model_module_version": "1.5.0",
            "_view_count": null,
            "_view_module_version": "1.5.0",
            "box_style": "",
            "layout": "IPY_MODEL_a66f705fae90427099c95a21a2c74d72",
            "_model_module": "@jupyter-widgets/controls",
            "children": [
              "IPY_MODEL_f0b6db0042b440ceb7e09b98a4ee2f60",
              "IPY_MODEL_87f42f02519347aea609e33aeff7f602"
            ]
          }
        },
        "a66f705fae90427099c95a21a2c74d72": {
          "model_module": "@jupyter-widgets/base",
          "model_name": "LayoutModel",
          "state": {
            "_view_name": "LayoutView",
            "grid_template_rows": null,
            "right": null,
            "justify_content": null,
            "_view_module": "@jupyter-widgets/base",
            "overflow": null,
            "_model_module_version": "1.2.0",
            "_view_count": null,
            "flex_flow": null,
            "width": null,
            "min_width": null,
            "border": null,
            "align_items": null,
            "bottom": null,
            "_model_module": "@jupyter-widgets/base",
            "top": null,
            "grid_column": null,
            "overflow_y": null,
            "overflow_x": null,
            "grid_auto_flow": null,
            "grid_area": null,
            "grid_template_columns": null,
            "flex": null,
            "_model_name": "LayoutModel",
            "justify_items": null,
            "grid_row": null,
            "max_height": null,
            "align_content": null,
            "visibility": null,
            "align_self": null,
            "height": null,
            "min_height": null,
            "padding": null,
            "grid_auto_rows": null,
            "grid_gap": null,
            "max_width": null,
            "order": null,
            "_view_module_version": "1.2.0",
            "grid_template_areas": null,
            "object_position": null,
            "object_fit": null,
            "grid_auto_columns": null,
            "margin": null,
            "display": null,
            "left": null
          }
        },
        "f0b6db0042b440ceb7e09b98a4ee2f60": {
          "model_module": "@jupyter-widgets/controls",
          "model_name": "FloatProgressModel",
          "state": {
            "_view_name": "ProgressView",
            "style": "IPY_MODEL_b83145fdff5a4ffc926c6d7b76c16e88",
            "_dom_classes": [],
            "description": "100%",
            "_model_name": "FloatProgressModel",
            "bar_style": "success",
            "max": 2,
            "_view_module": "@jupyter-widgets/controls",
            "_model_module_version": "1.5.0",
            "value": 2,
            "_view_count": null,
            "_view_module_version": "1.5.0",
            "orientation": "horizontal",
            "min": 0,
            "description_tooltip": null,
            "_model_module": "@jupyter-widgets/controls",
            "layout": "IPY_MODEL_99527ead09fd4b80b4f9afea7d00a855"
          }
        },
        "87f42f02519347aea609e33aeff7f602": {
          "model_module": "@jupyter-widgets/controls",
          "model_name": "HTMLModel",
          "state": {
            "_view_name": "HTMLView",
            "style": "IPY_MODEL_63a5128e982c4d1e95636ffa5e4f5992",
            "_dom_classes": [],
            "description": "",
            "_model_name": "HTMLModel",
            "placeholder": "​",
            "_view_module": "@jupyter-widgets/controls",
            "_model_module_version": "1.5.0",
            "value": " 2/2 [02:46&lt;00:00, 83.06s/it]",
            "_view_count": null,
            "_view_module_version": "1.5.0",
            "description_tooltip": null,
            "_model_module": "@jupyter-widgets/controls",
            "layout": "IPY_MODEL_7046fbe00e334094ba7e4d2984099c8c"
          }
        },
        "b83145fdff5a4ffc926c6d7b76c16e88": {
          "model_module": "@jupyter-widgets/controls",
          "model_name": "ProgressStyleModel",
          "state": {
            "_view_name": "StyleView",
            "_model_name": "ProgressStyleModel",
            "description_width": "initial",
            "_view_module": "@jupyter-widgets/base",
            "_model_module_version": "1.5.0",
            "_view_count": null,
            "_view_module_version": "1.2.0",
            "bar_color": null,
            "_model_module": "@jupyter-widgets/controls"
          }
        },
        "99527ead09fd4b80b4f9afea7d00a855": {
          "model_module": "@jupyter-widgets/base",
          "model_name": "LayoutModel",
          "state": {
            "_view_name": "LayoutView",
            "grid_template_rows": null,
            "right": null,
            "justify_content": null,
            "_view_module": "@jupyter-widgets/base",
            "overflow": null,
            "_model_module_version": "1.2.0",
            "_view_count": null,
            "flex_flow": null,
            "width": null,
            "min_width": null,
            "border": null,
            "align_items": null,
            "bottom": null,
            "_model_module": "@jupyter-widgets/base",
            "top": null,
            "grid_column": null,
            "overflow_y": null,
            "overflow_x": null,
            "grid_auto_flow": null,
            "grid_area": null,
            "grid_template_columns": null,
            "flex": null,
            "_model_name": "LayoutModel",
            "justify_items": null,
            "grid_row": null,
            "max_height": null,
            "align_content": null,
            "visibility": null,
            "align_self": null,
            "height": null,
            "min_height": null,
            "padding": null,
            "grid_auto_rows": null,
            "grid_gap": null,
            "max_width": null,
            "order": null,
            "_view_module_version": "1.2.0",
            "grid_template_areas": null,
            "object_position": null,
            "object_fit": null,
            "grid_auto_columns": null,
            "margin": null,
            "display": null,
            "left": null
          }
        },
        "63a5128e982c4d1e95636ffa5e4f5992": {
          "model_module": "@jupyter-widgets/controls",
          "model_name": "DescriptionStyleModel",
          "state": {
            "_view_name": "StyleView",
            "_model_name": "DescriptionStyleModel",
            "description_width": "",
            "_view_module": "@jupyter-widgets/base",
            "_model_module_version": "1.5.0",
            "_view_count": null,
            "_view_module_version": "1.2.0",
            "_model_module": "@jupyter-widgets/controls"
          }
        },
        "7046fbe00e334094ba7e4d2984099c8c": {
          "model_module": "@jupyter-widgets/base",
          "model_name": "LayoutModel",
          "state": {
            "_view_name": "LayoutView",
            "grid_template_rows": null,
            "right": null,
            "justify_content": null,
            "_view_module": "@jupyter-widgets/base",
            "overflow": null,
            "_model_module_version": "1.2.0",
            "_view_count": null,
            "flex_flow": null,
            "width": null,
            "min_width": null,
            "border": null,
            "align_items": null,
            "bottom": null,
            "_model_module": "@jupyter-widgets/base",
            "top": null,
            "grid_column": null,
            "overflow_y": null,
            "overflow_x": null,
            "grid_auto_flow": null,
            "grid_area": null,
            "grid_template_columns": null,
            "flex": null,
            "_model_name": "LayoutModel",
            "justify_items": null,
            "grid_row": null,
            "max_height": null,
            "align_content": null,
            "visibility": null,
            "align_self": null,
            "height": null,
            "min_height": null,
            "padding": null,
            "grid_auto_rows": null,
            "grid_gap": null,
            "max_width": null,
            "order": null,
            "_view_module_version": "1.2.0",
            "grid_template_areas": null,
            "object_position": null,
            "object_fit": null,
            "grid_auto_columns": null,
            "margin": null,
            "display": null,
            "left": null
          }
        },
        "a3cd2f2f699640dab40b2af27cd5d540": {
          "model_module": "@jupyter-widgets/controls",
          "model_name": "HBoxModel",
          "state": {
            "_view_name": "HBoxView",
            "_dom_classes": [],
            "_model_name": "HBoxModel",
            "_view_module": "@jupyter-widgets/controls",
            "_model_module_version": "1.5.0",
            "_view_count": null,
            "_view_module_version": "1.5.0",
            "box_style": "",
            "layout": "IPY_MODEL_f64e66210de34f63bf071eced0e3d2a0",
            "_model_module": "@jupyter-widgets/controls",
            "children": [
              "IPY_MODEL_1e05be2eb5ae4690b63f8d8480977643",
              "IPY_MODEL_2771b49306d24853beefd1a4bb3ffaab"
            ]
          }
        },
        "f64e66210de34f63bf071eced0e3d2a0": {
          "model_module": "@jupyter-widgets/base",
          "model_name": "LayoutModel",
          "state": {
            "_view_name": "LayoutView",
            "grid_template_rows": null,
            "right": null,
            "justify_content": null,
            "_view_module": "@jupyter-widgets/base",
            "overflow": null,
            "_model_module_version": "1.2.0",
            "_view_count": null,
            "flex_flow": null,
            "width": null,
            "min_width": null,
            "border": null,
            "align_items": null,
            "bottom": null,
            "_model_module": "@jupyter-widgets/base",
            "top": null,
            "grid_column": null,
            "overflow_y": null,
            "overflow_x": null,
            "grid_auto_flow": null,
            "grid_area": null,
            "grid_template_columns": null,
            "flex": null,
            "_model_name": "LayoutModel",
            "justify_items": null,
            "grid_row": null,
            "max_height": null,
            "align_content": null,
            "visibility": null,
            "align_self": null,
            "height": null,
            "min_height": null,
            "padding": null,
            "grid_auto_rows": null,
            "grid_gap": null,
            "max_width": null,
            "order": null,
            "_view_module_version": "1.2.0",
            "grid_template_areas": null,
            "object_position": null,
            "object_fit": null,
            "grid_auto_columns": null,
            "margin": null,
            "display": null,
            "left": null
          }
        },
        "1e05be2eb5ae4690b63f8d8480977643": {
          "model_module": "@jupyter-widgets/controls",
          "model_name": "FloatProgressModel",
          "state": {
            "_view_name": "ProgressView",
            "style": "IPY_MODEL_ba31c361048743c8bc1aaa383b86b593",
            "_dom_classes": [],
            "description": "100%",
            "_model_name": "FloatProgressModel",
            "bar_style": "success",
            "max": 78,
            "_view_module": "@jupyter-widgets/controls",
            "_model_module_version": "1.5.0",
            "value": 78,
            "_view_count": null,
            "_view_module_version": "1.5.0",
            "orientation": "horizontal",
            "min": 0,
            "description_tooltip": null,
            "_model_module": "@jupyter-widgets/controls",
            "layout": "IPY_MODEL_e80dfb62518244aebe8c59065fd1b5d2"
          }
        },
        "2771b49306d24853beefd1a4bb3ffaab": {
          "model_module": "@jupyter-widgets/controls",
          "model_name": "HTMLModel",
          "state": {
            "_view_name": "HTMLView",
            "style": "IPY_MODEL_9cef7b7c26e947cd955b96c652da799f",
            "_dom_classes": [],
            "description": "",
            "_model_name": "HTMLModel",
            "placeholder": "​",
            "_view_module": "@jupyter-widgets/controls",
            "_model_module_version": "1.5.0",
            "value": " 78/78 [06:57&lt;00:00,  5.35s/it]",
            "_view_count": null,
            "_view_module_version": "1.5.0",
            "description_tooltip": null,
            "_model_module": "@jupyter-widgets/controls",
            "layout": "IPY_MODEL_ca4fd7fcf32541169d5ca49fc4ab4463"
          }
        },
        "ba31c361048743c8bc1aaa383b86b593": {
          "model_module": "@jupyter-widgets/controls",
          "model_name": "ProgressStyleModel",
          "state": {
            "_view_name": "StyleView",
            "_model_name": "ProgressStyleModel",
            "description_width": "initial",
            "_view_module": "@jupyter-widgets/base",
            "_model_module_version": "1.5.0",
            "_view_count": null,
            "_view_module_version": "1.2.0",
            "bar_color": null,
            "_model_module": "@jupyter-widgets/controls"
          }
        },
        "e80dfb62518244aebe8c59065fd1b5d2": {
          "model_module": "@jupyter-widgets/base",
          "model_name": "LayoutModel",
          "state": {
            "_view_name": "LayoutView",
            "grid_template_rows": null,
            "right": null,
            "justify_content": null,
            "_view_module": "@jupyter-widgets/base",
            "overflow": null,
            "_model_module_version": "1.2.0",
            "_view_count": null,
            "flex_flow": null,
            "width": null,
            "min_width": null,
            "border": null,
            "align_items": null,
            "bottom": null,
            "_model_module": "@jupyter-widgets/base",
            "top": null,
            "grid_column": null,
            "overflow_y": null,
            "overflow_x": null,
            "grid_auto_flow": null,
            "grid_area": null,
            "grid_template_columns": null,
            "flex": null,
            "_model_name": "LayoutModel",
            "justify_items": null,
            "grid_row": null,
            "max_height": null,
            "align_content": null,
            "visibility": null,
            "align_self": null,
            "height": null,
            "min_height": null,
            "padding": null,
            "grid_auto_rows": null,
            "grid_gap": null,
            "max_width": null,
            "order": null,
            "_view_module_version": "1.2.0",
            "grid_template_areas": null,
            "object_position": null,
            "object_fit": null,
            "grid_auto_columns": null,
            "margin": null,
            "display": null,
            "left": null
          }
        },
        "9cef7b7c26e947cd955b96c652da799f": {
          "model_module": "@jupyter-widgets/controls",
          "model_name": "DescriptionStyleModel",
          "state": {
            "_view_name": "StyleView",
            "_model_name": "DescriptionStyleModel",
            "description_width": "",
            "_view_module": "@jupyter-widgets/base",
            "_model_module_version": "1.5.0",
            "_view_count": null,
            "_view_module_version": "1.2.0",
            "_model_module": "@jupyter-widgets/controls"
          }
        },
        "ca4fd7fcf32541169d5ca49fc4ab4463": {
          "model_module": "@jupyter-widgets/base",
          "model_name": "LayoutModel",
          "state": {
            "_view_name": "LayoutView",
            "grid_template_rows": null,
            "right": null,
            "justify_content": null,
            "_view_module": "@jupyter-widgets/base",
            "overflow": null,
            "_model_module_version": "1.2.0",
            "_view_count": null,
            "flex_flow": null,
            "width": null,
            "min_width": null,
            "border": null,
            "align_items": null,
            "bottom": null,
            "_model_module": "@jupyter-widgets/base",
            "top": null,
            "grid_column": null,
            "overflow_y": null,
            "overflow_x": null,
            "grid_auto_flow": null,
            "grid_area": null,
            "grid_template_columns": null,
            "flex": null,
            "_model_name": "LayoutModel",
            "justify_items": null,
            "grid_row": null,
            "max_height": null,
            "align_content": null,
            "visibility": null,
            "align_self": null,
            "height": null,
            "min_height": null,
            "padding": null,
            "grid_auto_rows": null,
            "grid_gap": null,
            "max_width": null,
            "order": null,
            "_view_module_version": "1.2.0",
            "grid_template_areas": null,
            "object_position": null,
            "object_fit": null,
            "grid_auto_columns": null,
            "margin": null,
            "display": null,
            "left": null
          }
        },
        "f8b15f8622e74c2aa540982ed2dd3c33": {
          "model_module": "@jupyter-widgets/controls",
          "model_name": "HBoxModel",
          "state": {
            "_view_name": "HBoxView",
            "_dom_classes": [],
            "_model_name": "HBoxModel",
            "_view_module": "@jupyter-widgets/controls",
            "_model_module_version": "1.5.0",
            "_view_count": null,
            "_view_module_version": "1.5.0",
            "box_style": "",
            "layout": "IPY_MODEL_99c5f3bfad17400291e669842c59d3fa",
            "_model_module": "@jupyter-widgets/controls",
            "children": [
              "IPY_MODEL_0c3bb00253574ff5b268ae7117a2a02e",
              "IPY_MODEL_ba9cd2e9fc0d4affb03ecedb6e524be9"
            ]
          }
        },
        "99c5f3bfad17400291e669842c59d3fa": {
          "model_module": "@jupyter-widgets/base",
          "model_name": "LayoutModel",
          "state": {
            "_view_name": "LayoutView",
            "grid_template_rows": null,
            "right": null,
            "justify_content": null,
            "_view_module": "@jupyter-widgets/base",
            "overflow": null,
            "_model_module_version": "1.2.0",
            "_view_count": null,
            "flex_flow": null,
            "width": null,
            "min_width": null,
            "border": null,
            "align_items": null,
            "bottom": null,
            "_model_module": "@jupyter-widgets/base",
            "top": null,
            "grid_column": null,
            "overflow_y": null,
            "overflow_x": null,
            "grid_auto_flow": null,
            "grid_area": null,
            "grid_template_columns": null,
            "flex": null,
            "_model_name": "LayoutModel",
            "justify_items": null,
            "grid_row": null,
            "max_height": null,
            "align_content": null,
            "visibility": null,
            "align_self": null,
            "height": null,
            "min_height": null,
            "padding": null,
            "grid_auto_rows": null,
            "grid_gap": null,
            "max_width": null,
            "order": null,
            "_view_module_version": "1.2.0",
            "grid_template_areas": null,
            "object_position": null,
            "object_fit": null,
            "grid_auto_columns": null,
            "margin": null,
            "display": null,
            "left": null
          }
        },
        "0c3bb00253574ff5b268ae7117a2a02e": {
          "model_module": "@jupyter-widgets/controls",
          "model_name": "FloatProgressModel",
          "state": {
            "_view_name": "ProgressView",
            "style": "IPY_MODEL_a0d7eee1afe74148b44cd0960c30297f",
            "_dom_classes": [],
            "description": "100%",
            "_model_name": "FloatProgressModel",
            "bar_style": "success",
            "max": 295,
            "_view_module": "@jupyter-widgets/controls",
            "_model_module_version": "1.5.0",
            "value": 295,
            "_view_count": null,
            "_view_module_version": "1.5.0",
            "orientation": "horizontal",
            "min": 0,
            "description_tooltip": null,
            "_model_module": "@jupyter-widgets/controls",
            "layout": "IPY_MODEL_0dc04104c60241daa3487e56eee2d1e9"
          }
        },
        "ba9cd2e9fc0d4affb03ecedb6e524be9": {
          "model_module": "@jupyter-widgets/controls",
          "model_name": "HTMLModel",
          "state": {
            "_view_name": "HTMLView",
            "style": "IPY_MODEL_b060fdb09ea54ffba9a196d88db80480",
            "_dom_classes": [],
            "description": "",
            "_model_name": "HTMLModel",
            "placeholder": "​",
            "_view_module": "@jupyter-widgets/controls",
            "_model_module_version": "1.5.0",
            "value": " 295/295 [22:06&lt;00:00,  4.50s/it]",
            "_view_count": null,
            "_view_module_version": "1.5.0",
            "description_tooltip": null,
            "_model_module": "@jupyter-widgets/controls",
            "layout": "IPY_MODEL_61fdeba898c24409a154cb0f799d24d3"
          }
        },
        "a0d7eee1afe74148b44cd0960c30297f": {
          "model_module": "@jupyter-widgets/controls",
          "model_name": "ProgressStyleModel",
          "state": {
            "_view_name": "StyleView",
            "_model_name": "ProgressStyleModel",
            "description_width": "initial",
            "_view_module": "@jupyter-widgets/base",
            "_model_module_version": "1.5.0",
            "_view_count": null,
            "_view_module_version": "1.2.0",
            "bar_color": null,
            "_model_module": "@jupyter-widgets/controls"
          }
        },
        "0dc04104c60241daa3487e56eee2d1e9": {
          "model_module": "@jupyter-widgets/base",
          "model_name": "LayoutModel",
          "state": {
            "_view_name": "LayoutView",
            "grid_template_rows": null,
            "right": null,
            "justify_content": null,
            "_view_module": "@jupyter-widgets/base",
            "overflow": null,
            "_model_module_version": "1.2.0",
            "_view_count": null,
            "flex_flow": null,
            "width": null,
            "min_width": null,
            "border": null,
            "align_items": null,
            "bottom": null,
            "_model_module": "@jupyter-widgets/base",
            "top": null,
            "grid_column": null,
            "overflow_y": null,
            "overflow_x": null,
            "grid_auto_flow": null,
            "grid_area": null,
            "grid_template_columns": null,
            "flex": null,
            "_model_name": "LayoutModel",
            "justify_items": null,
            "grid_row": null,
            "max_height": null,
            "align_content": null,
            "visibility": null,
            "align_self": null,
            "height": null,
            "min_height": null,
            "padding": null,
            "grid_auto_rows": null,
            "grid_gap": null,
            "max_width": null,
            "order": null,
            "_view_module_version": "1.2.0",
            "grid_template_areas": null,
            "object_position": null,
            "object_fit": null,
            "grid_auto_columns": null,
            "margin": null,
            "display": null,
            "left": null
          }
        },
        "b060fdb09ea54ffba9a196d88db80480": {
          "model_module": "@jupyter-widgets/controls",
          "model_name": "DescriptionStyleModel",
          "state": {
            "_view_name": "StyleView",
            "_model_name": "DescriptionStyleModel",
            "description_width": "",
            "_view_module": "@jupyter-widgets/base",
            "_model_module_version": "1.5.0",
            "_view_count": null,
            "_view_module_version": "1.2.0",
            "_model_module": "@jupyter-widgets/controls"
          }
        },
        "61fdeba898c24409a154cb0f799d24d3": {
          "model_module": "@jupyter-widgets/base",
          "model_name": "LayoutModel",
          "state": {
            "_view_name": "LayoutView",
            "grid_template_rows": null,
            "right": null,
            "justify_content": null,
            "_view_module": "@jupyter-widgets/base",
            "overflow": null,
            "_model_module_version": "1.2.0",
            "_view_count": null,
            "flex_flow": null,
            "width": null,
            "min_width": null,
            "border": null,
            "align_items": null,
            "bottom": null,
            "_model_module": "@jupyter-widgets/base",
            "top": null,
            "grid_column": null,
            "overflow_y": null,
            "overflow_x": null,
            "grid_auto_flow": null,
            "grid_area": null,
            "grid_template_columns": null,
            "flex": null,
            "_model_name": "LayoutModel",
            "justify_items": null,
            "grid_row": null,
            "max_height": null,
            "align_content": null,
            "visibility": null,
            "align_self": null,
            "height": null,
            "min_height": null,
            "padding": null,
            "grid_auto_rows": null,
            "grid_gap": null,
            "max_width": null,
            "order": null,
            "_view_module_version": "1.2.0",
            "grid_template_areas": null,
            "object_position": null,
            "object_fit": null,
            "grid_auto_columns": null,
            "margin": null,
            "display": null,
            "left": null
          }
        }
      }
    }
  },
  "cells": [
    {
      "cell_type": "markdown",
      "metadata": {
        "id": "view-in-github",
        "colab_type": "text"
      },
      "source": [
        "<a href=\"https://colab.research.google.com/github/ElisaAma93/Master/blob/master/Booking_scraper_Selenium.ipynb\" target=\"_parent\"><img src=\"https://colab.research.google.com/assets/colab-badge.svg\" alt=\"Open In Colab\"/></a>"
      ]
    },
    {
      "cell_type": "markdown",
      "metadata": {
        "id": "2sPqE1WOrP-Y",
        "colab_type": "text"
      },
      "source": [
        "Scraping su Booking.com\n",
        "\n",
        "Per cominciare installo e importo le librerie necessarie per il lavoro."
      ]
    },
    {
      "cell_type": "code",
      "metadata": {
        "id": "L9JxeYInzdxy",
        "colab_type": "code",
        "colab": {
          "base_uri": "https://localhost:8080/",
          "height": 1000
        },
        "outputId": "ab19ace4-a9cb-4677-bb51-c5949a561c56"
      },
      "source": [
        "!pip install selenium   \n",
        "!apt-get update\n",
        "!apt install chromium-chromedriver  \n",
        "!cp /usr/lib/chromium-browser/chromedriver /usr/bin"
      ],
      "execution_count": null,
      "outputs": [
        {
          "output_type": "stream",
          "text": [
            "Collecting selenium\n",
            "\u001b[?25l  Downloading https://files.pythonhosted.org/packages/80/d6/4294f0b4bce4de0abf13e17190289f9d0613b0a44e5dd6a7f5ca98459853/selenium-3.141.0-py2.py3-none-any.whl (904kB)\n",
            "\u001b[K     |████████████████████████████████| 911kB 2.8MB/s \n",
            "\u001b[?25hRequirement already satisfied: urllib3 in /usr/local/lib/python3.6/dist-packages (from selenium) (1.24.3)\n",
            "Installing collected packages: selenium\n",
            "Successfully installed selenium-3.141.0\n",
            "Get:1 http://security.ubuntu.com/ubuntu bionic-security InRelease [88.7 kB]\n",
            "Ign:2 https://developer.download.nvidia.com/compute/cuda/repos/ubuntu1804/x86_64  InRelease\n",
            "Get:3 https://cloud.r-project.org/bin/linux/ubuntu bionic-cran35/ InRelease [3,626 B]\n",
            "Hit:4 http://ppa.launchpad.net/graphics-drivers/ppa/ubuntu bionic InRelease\n",
            "Hit:5 http://archive.ubuntu.com/ubuntu bionic InRelease\n",
            "Ign:6 https://developer.download.nvidia.com/compute/machine-learning/repos/ubuntu1804/x86_64  InRelease\n",
            "Get:7 https://developer.download.nvidia.com/compute/cuda/repos/ubuntu1804/x86_64  Release [697 B]\n",
            "Get:8 https://developer.download.nvidia.com/compute/machine-learning/repos/ubuntu1804/x86_64  Release [564 B]\n",
            "Get:9 http://archive.ubuntu.com/ubuntu bionic-updates InRelease [88.7 kB]\n",
            "Get:10 https://developer.download.nvidia.com/compute/cuda/repos/ubuntu1804/x86_64  Release.gpg [836 B]\n",
            "Get:11 https://developer.download.nvidia.com/compute/machine-learning/repos/ubuntu1804/x86_64  Release.gpg [833 B]\n",
            "Get:12 http://ppa.launchpad.net/marutter/c2d4u3.5/ubuntu bionic InRelease [15.4 kB]\n",
            "Get:13 http://security.ubuntu.com/ubuntu bionic-security/restricted amd64 Packages [89.0 kB]\n",
            "Get:14 http://security.ubuntu.com/ubuntu bionic-security/multiverse amd64 Packages [9,282 B]\n",
            "Get:15 http://security.ubuntu.com/ubuntu bionic-security/main amd64 Packages [1,003 kB]\n",
            "Get:16 http://archive.ubuntu.com/ubuntu bionic-backports InRelease [74.6 kB]\n",
            "Get:17 http://security.ubuntu.com/ubuntu bionic-security/universe amd64 Packages [869 kB]\n",
            "Get:18 https://cloud.r-project.org/bin/linux/ubuntu bionic-cran35/ Packages [94.1 kB]\n",
            "Ign:19 https://developer.download.nvidia.com/compute/cuda/repos/ubuntu1804/x86_64  Packages\n",
            "Get:19 https://developer.download.nvidia.com/compute/cuda/repos/ubuntu1804/x86_64  Packages [214 kB]\n",
            "Get:20 https://developer.download.nvidia.com/compute/machine-learning/repos/ubuntu1804/x86_64  Packages [41.2 kB]\n",
            "Get:21 http://ppa.launchpad.net/marutter/c2d4u3.5/ubuntu bionic/main Sources [1,845 kB]\n",
            "Get:22 http://archive.ubuntu.com/ubuntu bionic-updates/main amd64 Packages [1,302 kB]\n",
            "Get:23 http://archive.ubuntu.com/ubuntu bionic-updates/restricted amd64 Packages [102 kB]\n",
            "Get:24 http://archive.ubuntu.com/ubuntu bionic-updates/universe amd64 Packages [1,405 kB]\n",
            "Get:25 http://archive.ubuntu.com/ubuntu bionic-updates/multiverse amd64 Packages [13.6 kB]\n",
            "Get:26 http://ppa.launchpad.net/marutter/c2d4u3.5/ubuntu bionic/main amd64 Packages [890 kB]\n",
            "Fetched 8,152 kB in 3s (2,432 kB/s)\n",
            "Reading package lists... Done\n",
            "Reading package lists... Done\n",
            "Building dependency tree       \n",
            "Reading state information... Done\n",
            "The following package was automatically installed and is no longer required:\n",
            "  libnvidia-common-440\n",
            "Use 'apt autoremove' to remove it.\n",
            "The following additional packages will be installed:\n",
            "  chromium-browser chromium-browser-l10n chromium-codecs-ffmpeg-extra\n",
            "Suggested packages:\n",
            "  webaccounts-chromium-extension unity-chromium-extension adobe-flashplugin\n",
            "The following NEW packages will be installed:\n",
            "  chromium-browser chromium-browser-l10n chromium-chromedriver\n",
            "  chromium-codecs-ffmpeg-extra\n",
            "0 upgraded, 4 newly installed, 0 to remove and 78 not upgraded.\n",
            "Need to get 75.5 MB of archives.\n",
            "After this operation, 256 MB of additional disk space will be used.\n",
            "Get:1 http://archive.ubuntu.com/ubuntu bionic-updates/universe amd64 chromium-codecs-ffmpeg-extra amd64 83.0.4103.61-0ubuntu0.18.04.1 [1,119 kB]\n",
            "Get:2 http://archive.ubuntu.com/ubuntu bionic-updates/universe amd64 chromium-browser amd64 83.0.4103.61-0ubuntu0.18.04.1 [66.7 MB]\n",
            "Get:3 http://archive.ubuntu.com/ubuntu bionic-updates/universe amd64 chromium-browser-l10n all 83.0.4103.61-0ubuntu0.18.04.1 [3,378 kB]\n",
            "Get:4 http://archive.ubuntu.com/ubuntu bionic-updates/universe amd64 chromium-chromedriver amd64 83.0.4103.61-0ubuntu0.18.04.1 [4,294 kB]\n",
            "Fetched 75.5 MB in 3s (24.0 MB/s)\n",
            "Selecting previously unselected package chromium-codecs-ffmpeg-extra.\n",
            "(Reading database ... 144379 files and directories currently installed.)\n",
            "Preparing to unpack .../chromium-codecs-ffmpeg-extra_83.0.4103.61-0ubuntu0.18.04.1_amd64.deb ...\n",
            "Unpacking chromium-codecs-ffmpeg-extra (83.0.4103.61-0ubuntu0.18.04.1) ...\n",
            "Selecting previously unselected package chromium-browser.\n",
            "Preparing to unpack .../chromium-browser_83.0.4103.61-0ubuntu0.18.04.1_amd64.deb ...\n",
            "Unpacking chromium-browser (83.0.4103.61-0ubuntu0.18.04.1) ...\n",
            "Selecting previously unselected package chromium-browser-l10n.\n",
            "Preparing to unpack .../chromium-browser-l10n_83.0.4103.61-0ubuntu0.18.04.1_all.deb ...\n",
            "Unpacking chromium-browser-l10n (83.0.4103.61-0ubuntu0.18.04.1) ...\n",
            "Selecting previously unselected package chromium-chromedriver.\n",
            "Preparing to unpack .../chromium-chromedriver_83.0.4103.61-0ubuntu0.18.04.1_amd64.deb ...\n",
            "Unpacking chromium-chromedriver (83.0.4103.61-0ubuntu0.18.04.1) ...\n",
            "Setting up chromium-codecs-ffmpeg-extra (83.0.4103.61-0ubuntu0.18.04.1) ...\n",
            "Setting up chromium-browser (83.0.4103.61-0ubuntu0.18.04.1) ...\n",
            "update-alternatives: using /usr/bin/chromium-browser to provide /usr/bin/x-www-browser (x-www-browser) in auto mode\n",
            "update-alternatives: using /usr/bin/chromium-browser to provide /usr/bin/gnome-www-browser (gnome-www-browser) in auto mode\n",
            "Setting up chromium-chromedriver (83.0.4103.61-0ubuntu0.18.04.1) ...\n",
            "Setting up chromium-browser-l10n (83.0.4103.61-0ubuntu0.18.04.1) ...\n",
            "Processing triggers for hicolor-icon-theme (0.17-2) ...\n",
            "Processing triggers for mime-support (3.60ubuntu1) ...\n",
            "Processing triggers for man-db (2.8.3-2ubuntu0.1) ...\n",
            "cp: '/usr/lib/chromium-browser/chromedriver' and '/usr/bin/chromedriver' are the same file\n"
          ],
          "name": "stdout"
        }
      ]
    },
    {
      "cell_type": "code",
      "metadata": {
        "id": "BcA8-D-kz2i_",
        "colab_type": "code",
        "colab": {}
      },
      "source": [
        "import sys\n",
        "sys.path.insert(0,'/usr/lib/chromium-browser/chromedriver')\n",
        "from selenium import webdriver\n",
        "from tqdm import tqdm_notebook as tqdm\n",
        "import pandas\n",
        "import json\n",
        "import pprint"
      ],
      "execution_count": null,
      "outputs": []
    },
    {
      "cell_type": "markdown",
      "metadata": {
        "id": "oVqwBPbfrw9D",
        "colab_type": "text"
      },
      "source": [
        "Definisco un webdriver da Chrome e gli associo il link della pagina di Booking da cui voglio fare scraping."
      ]
    },
    {
      "cell_type": "code",
      "metadata": {
        "id": "ZEFfJ1Fgz6Yw",
        "colab_type": "code",
        "colab": {}
      },
      "source": [
        "chrome_options = webdriver.ChromeOptions()\n",
        "chrome_options.add_argument('--headless')   \n",
        "chrome_options.add_argument('--no-sandbox')\n",
        "chrome_options.add_argument('--disable-dev-shm-usage')"
      ],
      "execution_count": null,
      "outputs": []
    },
    {
      "cell_type": "code",
      "metadata": {
        "id": "M_h63Nv8PSpE",
        "colab_type": "code",
        "colab": {
          "base_uri": "https://localhost:8080/",
          "height": 51
        },
        "outputId": "04c30d7d-5234-47f6-cc80-5d904d72ce48"
      },
      "source": [
        "wd = webdriver.Chrome('chromedriver',chrome_options=chrome_options)\n",
        "wd.get(\"https://www.booking.com/searchresults.it.html?aid=304142&label=gen173nr-1FCAEoggI46AdIM1gEaHGIAQGYARS4ARfIAQzYAQHoAQH4AQuIAgGoAgO4ApzakPgFwAIB0gIkZGU3ZDYxMDMtZTQ1OC00Y2E2LTkxM2EtZTViNTJlYzk0NWU52AIG4AIB&sid=f7fc04c8a03b4db3566a73d422abcde1&tmpl=searchresults&ac_click_type=b&ac_position=0&checkin_month=8&checkin_monthday=31&checkin_year=2020&checkout_month=9&checkout_monthday=6&checkout_year=2020&class_interval=1&dest_id=910&dest_type=region&from_sf=1&group_adults=2&group_children=0&label_click=undef&nflt=class%3D3%3B&no_rooms=1&raw_dest_type=region&room1=A%2CA&sb_price_type=total&search_selected=1&shw_aparth=1&slp_r_match=0&src=index&srpvid=ff6f391d537100b9&ss=Toscana%2C%20Italia&ss_raw=tos&ssb=empty&top_ufis=1&rows=25&offset=\")"
      ],
      "execution_count": null,
      "outputs": [
        {
          "output_type": "stream",
          "text": [
            "/usr/local/lib/python3.6/dist-packages/ipykernel_launcher.py:1: DeprecationWarning: use options instead of chrome_options\n",
            "  \"\"\"Entry point for launching an IPython kernel.\n"
          ],
          "name": "stderr"
        }
      ]
    },
    {
      "cell_type": "markdown",
      "metadata": {
        "id": "jBVmztKEVBgM",
        "colab_type": "text"
      },
      "source": [
        "Definisco la lista degli hotel di una pagina."
      ]
    },
    {
      "cell_type": "code",
      "metadata": {
        "id": "vN4vXG1yVHfI",
        "colab_type": "code",
        "colab": {
          "base_uri": "https://localhost:8080/",
          "height": 34
        },
        "outputId": "d066a20d-23e8-498f-b486-d7181edd8196"
      },
      "source": [
        "list_hotel = wd.find_elements_by_css_selector(\"div.sr_item\")\n",
        "print(len(list_hotel))"
      ],
      "execution_count": null,
      "outputs": [
        {
          "output_type": "stream",
          "text": [
            "25\n"
          ],
          "name": "stdout"
        }
      ]
    },
    {
      "cell_type": "code",
      "metadata": {
        "id": "iW7zB5_-VOBW",
        "colab_type": "code",
        "colab": {
          "base_uri": "https://localhost:8080/",
          "height": 323
        },
        "outputId": "3b40b24c-e70a-4241-a4eb-0354d18a7fd8"
      },
      "source": [
        "print(list_hotel[0].text)"
      ],
      "execution_count": null,
      "outputs": [
        {
          "output_type": "stream",
          "text": [
            "Si apre in una nuova finestra\n",
            "Hotel La Scaletta\n",
            "Si apre in una nuova finestra\n",
            "Hotel a 3 stelle\n",
            "San Frediano, Firenze Mostra sulla mappa\n",
            "8,8\n",
            "Favoloso\n",
            "1.310 recensioni\n",
            "Si apre in una nuova finestra\n",
            "Pulizia 9,1\n",
            "Camera Matrimoniale Economy  - \n",
            "N° max persone: 2\n",
            "1 letto matrimoniale alla francese\n",
            "Restano solo 2 camere come questa sul nostro sito\n",
            "6 notti, 2 adulti\n",
            "US$1.099 US$657\n",
            "Prezzo iniziale US$1.099 Prezzo attuale US$657\n",
            "Scegli la tua camera\n"
          ],
          "name": "stdout"
        }
      ]
    },
    {
      "cell_type": "markdown",
      "metadata": {
        "id": "uqtCNUZZPeE-",
        "colab_type": "text"
      },
      "source": [
        "Estraggo le informazioni sugli hotel da più pagine."
      ]
    },
    {
      "cell_type": "markdown",
      "metadata": {
        "id": "j9pnlAyEduU-",
        "colab_type": "text"
      },
      "source": [
        "Identifico la lista dei nomi degli hotel in una pagina."
      ]
    },
    {
      "cell_type": "code",
      "metadata": {
        "id": "0lkYMSdpQQHb",
        "colab_type": "code",
        "colab": {
          "base_uri": "https://localhost:8080/",
          "height": 442
        },
        "outputId": "361475a0-59a5-4c4d-8ebd-cb7c6166e348"
      },
      "source": [
        "list_title = wd.find_elements_by_css_selector(\".sr-hotel__name\")\n",
        "#print(len(list_h3))\n",
        "#print(list_h3[0].text)\n",
        "\n",
        "for title in list_title:\n",
        "  print(title.text)"
      ],
      "execution_count": null,
      "outputs": [
        {
          "output_type": "stream",
          "text": [
            "Hotel La Scaletta\n",
            "Hotel Barberino\n",
            "Antico Borgo San Martino\n",
            "Hotel Il Pietreto\n",
            "Borgo al Cielo - Albergo Diffuso\n",
            "Albergo Battelli\n",
            "La Loggia - Villa Gloria\n",
            "Hotel Bel Tramonto\n",
            "Hotel Central Park\n",
            "Villa Aurora di Ferracciano\n",
            "Casa Vacanze Albachiara\n",
            "Hotel Rombino\n",
            "Albergo da Annita\n",
            "Hotel Il Settebello\n",
            "Albergo San Lorenzo\n",
            "Hotel l'Approdo\n",
            "Hotel Porta Faenza\n",
            "Hotel Alpino\n",
            "Hotel Sirena\n",
            "Hotel Coluccini\n",
            "Residenza Sangallo\n",
            "Hotel Sole E Mare\n",
            "Hotel Villa San Giorgio\n",
            "Hotel Club I Pini - Residenza D'Epoca\n",
            "Hotel Venezia\n"
          ],
          "name": "stdout"
        }
      ]
    },
    {
      "cell_type": "markdown",
      "metadata": {
        "id": "VrMjxFZaeel2",
        "colab_type": "text"
      },
      "source": [
        "Definisco le variabili che voglio scaricare."
      ]
    },
    {
      "cell_type": "code",
      "metadata": {
        "id": "Ukf8ZKj5QLob",
        "colab_type": "code",
        "colab": {
          "base_uri": "https://localhost:8080/",
          "height": 1000
        },
        "outputId": "87075608-9d6a-40d8-e038-c950a94900d6"
      },
      "source": [
        "import pprint\n",
        "detail_hotel = []\n",
        "for hotel in list_hotel:\n",
        "  title = hotel.find_elements_by_css_selector(\".sr-hotel__name\")[0].text\n",
        "  url = hotel.find_elements_by_css_selector(\".hotel_name_link\")[0].get_attribute(\"href\")\n",
        "  city = hotel.find_elements_by_css_selector(\"a.bui-link\")[0].text\n",
        "  room_description = hotel.find_elements_by_css_selector(\"div.room_link\")[0].text\n",
        "  price = hotel.find_elements_by_css_selector(\"div.bui-price-display__value\")[0].text\n",
        "  evaluation_description = \"\"\n",
        "  if (len(hotel.find_elements_by_css_selector(\"div.bui-review-score__title\")) > 0):\n",
        "    evaluation_description = hotel.find_elements_by_css_selector(\"div.bui-review-score__title\")[0].text\n",
        "  reviews = \"\"\n",
        "  if (len(hotel.find_elements_by_css_selector(\"div.bui-review-score__text\")) > 0):\n",
        "    reviews = hotel.find_elements_by_css_selector(\"div.bui-review-score__text\")[0].text\n",
        "  score_position = \"\"\n",
        "  if (len(hotel.find_elements_by_css_selector(\"span.review-score-widget\")) > 0):\n",
        "    score_position = hotel.find_elements_by_css_selector(\"span.review-score-widget\")[0].text\n",
        "  \n",
        "  \n",
        "  evaluation = hotel.get_attribute(\"data-score\")\n",
        "  hotel_id = hotel.get_attribute(\"data-hotelid\")\n",
        " \n",
        "  detail_hotel.append({'title': title,\n",
        "                          'url' : url,\n",
        "                          'price' : price,\n",
        "                          'city' : city,\n",
        "                          'evaluation_description' : evaluation_description,\n",
        "                          'evaluation' : evaluation,\n",
        "                          'reviews' : reviews,\n",
        "                          'room_description' : room_description,\n",
        "                          'score_position' : score_position,\n",
        "                          'hotel_id' : hotel_id})\n",
        "                          \n",
        "                           \n",
        "len(detail_hotel)\n",
        "pprint.pprint(detail_hotel)"
      ],
      "execution_count": null,
      "outputs": [
        {
          "output_type": "stream",
          "text": [
            "[{'city': 'San Frediano, Firenze Mostra sulla mappa',\n",
            "  'evaluation': '8,8',\n",
            "  'evaluation_description': 'Favoloso',\n",
            "  'hotel_id': '85406',\n",
            "  'price': 'US$657',\n",
            "  'reviews': '1.310 recensioni',\n",
            "  'room_description': 'Camera Matrimoniale Economy  - \\nN° max persone: 2',\n",
            "  'score_position': 'Pulizia 9,1',\n",
            "  'title': 'Hotel La Scaletta',\n",
            "  'url': 'https://www.booking.com/hotel/it/la-scaletta.it.html?aid=304142&label=gen173nr-1FCAEoggI46AdIM1gEaHGIAQGYARS4ARfIAQzYAQHoAQH4AQuIAgGoAgO4ApzakPgFwAIB0gIkZGU3ZDYxMDMtZTQ1OC00Y2E2LTkxM2EtZTViNTJlYzk0NWU52AIG4AIB&sid=f7dec976d7a9095bed15035b70e2100f&all_sr_blocks=8540606_91907635_0_2_0&checkin=2020-08-31&checkout=2020-09-06&dest_id=910&dest_type=region&group_adults=2&group_children=0&hapos=1&highlighted_blocks=8540606_91907635_0_2_0&hpos=1&nflt=class%3D3%3B&no_rooms=1&sr_order=popularity&sr_pri_blocks=8540606_91907635_0_2_0__58039&srepoch=1594283088&srpvid=bc673b28d68d01dd&ucfs=1&from=searchresults;highlight_room=#hotelTmpl'},\n",
            " {'city': 'Barberino di Mugello Mostra sulla mappa',\n",
            "  'evaluation': '8,4',\n",
            "  'evaluation_description': 'Ottimo',\n",
            "  'hotel_id': '355785',\n",
            "  'price': 'US$523',\n",
            "  'reviews': '352 recensioni',\n",
            "  'room_description': 'Camera Matrimoniale  - \\nN° max persone: 2',\n",
            "  'score_position': '',\n",
            "  'title': 'Hotel Barberino',\n",
            "  'url': 'https://www.booking.com/hotel/it/barberino-50031.it.html?aid=304142&label=gen173nr-1FCAEoggI46AdIM1gEaHGIAQGYARS4ARfIAQzYAQHoAQH4AQuIAgGoAgO4ApzakPgFwAIB0gIkZGU3ZDYxMDMtZTQ1OC00Y2E2LTkxM2EtZTViNTJlYzk0NWU52AIG4AIB&sid=f7dec976d7a9095bed15035b70e2100f&all_sr_blocks=35578502_124109960_0_1_0&checkin=2020-08-31&checkout=2020-09-06&dest_id=910&dest_type=region&group_adults=2&group_children=0&hapos=2&highlighted_blocks=35578502_124109960_0_1_0&hpos=2&nflt=class%3D3%3B&no_rooms=1&sr_order=popularity&sr_pri_blocks=35578502_124109960_0_1_0__46199&srepoch=1594283088&srpvid=bc673b28d68d01dd&ucfs=1&from=searchresults;highlight_room=#hotelTmpl'},\n",
            " {'city': 'Riparbella Mostra sulla mappa',\n",
            "  'evaluation': '8,1',\n",
            "  'evaluation_description': 'Ottimo',\n",
            "  'hotel_id': '84602',\n",
            "  'price': 'US$466',\n",
            "  'reviews': '538 recensioni',\n",
            "  'room_description': 'Camera Matrimoniale Classic  - \\nN° max persone: 2',\n",
            "  'score_position': '',\n",
            "  'title': 'Antico Borgo San Martino',\n",
            "  'url': 'https://www.booking.com/hotel/it/antico-borgo-san-martino.it.html?aid=304142&label=gen173nr-1FCAEoggI46AdIM1gEaHGIAQGYARS4ARfIAQzYAQHoAQH4AQuIAgGoAgO4ApzakPgFwAIB0gIkZGU3ZDYxMDMtZTQ1OC00Y2E2LTkxM2EtZTViNTJlYzk0NWU52AIG4AIB&sid=f7dec976d7a9095bed15035b70e2100f&all_sr_blocks=8460201_147979560_0_1_0&checkin=2020-08-31&checkout=2020-09-06&dest_id=910&dest_type=region&group_adults=2&group_children=0&hapos=3&highlighted_blocks=8460201_147979560_0_1_0&hpos=3&nflt=class%3D3%3B&no_rooms=1&sr_order=popularity&sr_pri_blocks=8460201_147979560_0_1_0__41140&srepoch=1594283088&srpvid=bc673b28d68d01dd&ucfs=1&from=searchresults;highlight_room=;has_campaign_deals_traveloffer20_customer_label=1#hotelTmpl'},\n",
            " {'city': \"Colle Val D'Elsa Mostra sulla mappa\",\n",
            "  'evaluation': '8,2',\n",
            "  'evaluation_description': 'Ottimo',\n",
            "  'hotel_id': '309277',\n",
            "  'price': 'US$551',\n",
            "  'reviews': '261 recensioni',\n",
            "  'room_description': 'Camera Matrimoniale Standard  - \\nN° max persone: 2',\n",
            "  'score_position': '',\n",
            "  'title': 'Hotel Il Pietreto',\n",
            "  'url': 'https://www.booking.com/hotel/it/il-pietreto.it.html?aid=304142&label=gen173nr-1FCAEoggI46AdIM1gEaHGIAQGYARS4ARfIAQzYAQHoAQH4AQuIAgGoAgO4ApzakPgFwAIB0gIkZGU3ZDYxMDMtZTQ1OC00Y2E2LTkxM2EtZTViNTJlYzk0NWU52AIG4AIB&sid=f7dec976d7a9095bed15035b70e2100f&all_sr_blocks=30927707_229962803_0_41_0&checkin=2020-08-31&checkout=2020-09-06&dest_id=910&dest_type=region&group_adults=2&group_children=0&hapos=4&highlighted_blocks=30927707_229962803_0_41_0&hpos=4&nflt=class%3D3%3B&no_rooms=1&sr_order=popularity&sr_pri_blocks=30927707_229962803_0_41_0__48599&srepoch=1594283088&srpvid=bc673b28d68d01dd&ucfs=1&from=searchresults;highlight_room=#hotelTmpl'},\n",
            " {'city': 'Suvereto Mostra sulla mappa',\n",
            "  'evaluation': '9,1',\n",
            "  'evaluation_description': 'Eccellente',\n",
            "  'hotel_id': '1733772',\n",
            "  'price': 'US$509',\n",
            "  'reviews': '399 recensioni',\n",
            "  'room_description': 'Appartamento con 1 Camera da Letto  - \\n'\n",
            "                      'N° max persone: 2',\n",
            "  'score_position': 'Pulizia 9,1',\n",
            "  'title': 'Borgo al Cielo - Albergo Diffuso',\n",
            "  'url': 'https://www.booking.com/hotel/it/borgo-belvedere-suvereto.it.html?aid=304142&label=gen173nr-1FCAEoggI46AdIM1gEaHGIAQGYARS4ARfIAQzYAQHoAQH4AQuIAgGoAgO4ApzakPgFwAIB0gIkZGU3ZDYxMDMtZTQ1OC00Y2E2LTkxM2EtZTViNTJlYzk0NWU52AIG4AIB&sid=f7dec976d7a9095bed15035b70e2100f&all_sr_blocks=173377205_97039431_2_2_0&checkin=2020-08-31&checkout=2020-09-06&dest_id=910&dest_type=region&group_adults=2&group_children=0&hapos=5&highlighted_blocks=173377205_97039431_2_2_0&hpos=5&nflt=class%3D3%3B&no_rooms=1&sr_order=popularity&sr_pri_blocks=173377205_97039431_2_2_0__44899&srepoch=1594283088&srpvid=bc673b28d68d01dd&ucfs=1&from=searchresults;highlight_room=#hotelTmpl'},\n",
            " {'city': 'Marina di Pietrasanta Mostra sulla mappa',\n",
            "  'evaluation': '8,9',\n",
            "  'evaluation_description': 'Favoloso',\n",
            "  'hotel_id': '371788',\n",
            "  'price': 'US$640',\n",
            "  'reviews': '278 recensioni',\n",
            "  'room_description': 'Camera Doppia con Letti Singoli  - \\nN° max persone: 2',\n",
            "  'score_position': 'Pulizia 9,1',\n",
            "  'title': 'Albergo Battelli',\n",
            "  'url': 'https://www.booking.com/hotel/it/albergo-battelli.it.html?aid=304142&label=gen173nr-1FCAEoggI46AdIM1gEaHGIAQGYARS4ARfIAQzYAQHoAQH4AQuIAgGoAgO4ApzakPgFwAIB0gIkZGU3ZDYxMDMtZTQ1OC00Y2E2LTkxM2EtZTViNTJlYzk0NWU52AIG4AIB&sid=f7dec976d7a9095bed15035b70e2100f&all_sr_blocks=37178839_265729603_0_1_0&checkin=2020-08-31&checkout=2020-09-06&dest_id=910&dest_type=region&group_adults=2&group_children=0&hapos=6&highlighted_blocks=37178839_265729603_0_1_0&hpos=6&nflt=class%3D3%3B&no_rooms=1&sr_order=popularity&sr_pri_blocks=37178839_265729603_0_1_0__56500&srepoch=1594283088&srpvid=bc673b28d68d01dd&ucfs=1&from=searchresults;highlight_room=#hotelTmpl'},\n",
            " {'city': 'Quercegrossa Mostra sulla mappa',\n",
            "  'evaluation': '8,4',\n",
            "  'evaluation_description': 'Ottimo',\n",
            "  'hotel_id': '89396',\n",
            "  'price': 'US$397',\n",
            "  'reviews': '1.665 recensioni',\n",
            "  'room_description': 'Monolocale  - \\nN° max persone: 2',\n",
            "  'score_position': '',\n",
            "  'title': 'La Loggia - Villa Gloria',\n",
            "  'url': 'https://www.booking.com/hotel/it/la-loggia.it.html?aid=304142&label=gen173nr-1FCAEoggI46AdIM1gEaHGIAQGYARS4ARfIAQzYAQHoAQH4AQuIAgGoAgO4ApzakPgFwAIB0gIkZGU3ZDYxMDMtZTQ1OC00Y2E2LTkxM2EtZTViNTJlYzk0NWU52AIG4AIB&sid=f7dec976d7a9095bed15035b70e2100f&all_sr_blocks=8939617_196402941_0_2_0&checkin=2020-08-31&checkout=2020-09-06&dest_id=910&dest_type=region&group_adults=2&group_children=0&hapos=7&highlighted_blocks=8939617_196402941_0_2_0&hpos=7&nflt=class%3D3%3B&no_rooms=1&sr_order=popularity&sr_pri_blocks=8939617_196402941_0_2_0__35010&srepoch=1594283088&srpvid=bc673b28d68d01dd&ucfs=1&from=searchresults;highlight_room=#hotelTmpl'},\n",
            " {'city': 'Marciana Mostra sulla mappa',\n",
            "  'evaluation': '8,3',\n",
            "  'evaluation_description': 'Ottimo',\n",
            "  'hotel_id': '406644',\n",
            "  'price': 'US$775',\n",
            "  'reviews': '390 recensioni',\n",
            "  'room_description': 'Camera Matrimoniale con Vista Mare  - \\n'\n",
            "                      'N° max persone: 2',\n",
            "  'score_position': '',\n",
            "  'title': 'Hotel Bel Tramonto',\n",
            "  'url': 'https://www.booking.com/hotel/it/bel-tramonto-marciana.it.html?aid=304142&label=gen173nr-1FCAEoggI46AdIM1gEaHGIAQGYARS4ARfIAQzYAQHoAQH4AQuIAgGoAgO4ApzakPgFwAIB0gIkZGU3ZDYxMDMtZTQ1OC00Y2E2LTkxM2EtZTViNTJlYzk0NWU52AIG4AIB&sid=f7dec976d7a9095bed15035b70e2100f&all_sr_blocks=40664401_139142610_0_1_0&checkin=2020-08-31&checkout=2020-09-06&dest_id=910&dest_type=region&group_adults=2&group_children=0&hapos=8&highlighted_blocks=40664401_139142610_0_1_0&hpos=8&nflt=class%3D3%3B&no_rooms=1&sr_order=popularity&sr_pri_blocks=40664401_139142610_0_1_0__68399&srepoch=1594283088&srpvid=bc673b28d68d01dd&ucfs=1&from=searchresults;highlight_room=#hotelTmpl'},\n",
            " {'city': 'Marina di Pietrasanta Mostra sulla mappa',\n",
            "  'evaluation': '9,5',\n",
            "  'evaluation_description': 'Eccezionale',\n",
            "  'hotel_id': '82899',\n",
            "  'price': 'US$1.087',\n",
            "  'reviews': '273 recensioni',\n",
            "  'room_description': 'Camera Matrimoniale Deluxe con Vista Piscina  - \\n'\n",
            "                      'N° max persone: 2',\n",
            "  'score_position': 'Pulizia 9,8',\n",
            "  'title': 'Hotel Central Park',\n",
            "  'url': 'https://www.booking.com/hotel/it/hotelcentralpark.it.html?aid=304142&label=gen173nr-1FCAEoggI46AdIM1gEaHGIAQGYARS4ARfIAQzYAQHoAQH4AQuIAgGoAgO4ApzakPgFwAIB0gIkZGU3ZDYxMDMtZTQ1OC00Y2E2LTkxM2EtZTViNTJlYzk0NWU52AIG4AIB&sid=f7dec976d7a9095bed15035b70e2100f&all_sr_blocks=8289905_152153165_0_1_0&checkin=2020-08-31&checkout=2020-09-06&dest_id=910&dest_type=region&group_adults=2&group_children=0&hapos=9&highlighted_blocks=8289905_152153165_0_1_0&hpos=9&nflt=class%3D3%3B&no_rooms=1&sr_order=popularity&sr_pri_blocks=8289905_152153165_0_1_0__95999&srepoch=1594283088&srpvid=bc673b28d68d01dd&ucfs=1&from=searchresults;highlight_room=#hotelTmpl'},\n",
            " {'city': 'Borgo San Lorenzo Mostra sulla mappa',\n",
            "  'evaluation': '8,5',\n",
            "  'evaluation_description': 'Ottimo',\n",
            "  'hotel_id': '1426166',\n",
            "  'price': 'US$544',\n",
            "  'reviews': '239 recensioni',\n",
            "  'room_description': 'Camera Matrimoniale  - \\nN° max persone: 2',\n",
            "  'score_position': '',\n",
            "  'title': 'Villa Aurora di Ferracciano',\n",
            "  'url': 'https://www.booking.com/hotel/it/villa-aurora-di-ferracciano.it.html?aid=304142&label=gen173nr-1FCAEoggI46AdIM1gEaHGIAQGYARS4ARfIAQzYAQHoAQH4AQuIAgGoAgO4ApzakPgFwAIB0gIkZGU3ZDYxMDMtZTQ1OC00Y2E2LTkxM2EtZTViNTJlYzk0NWU52AIG4AIB&sid=f7dec976d7a9095bed15035b70e2100f&all_sr_blocks=142616601_206189459_0_1_0&checkin=2020-08-31&checkout=2020-09-06&dest_id=910&dest_type=region&group_adults=2&group_children=0&hapos=10&highlighted_blocks=142616601_206189459_0_1_0&hpos=10&nflt=class%3D3%3B&no_rooms=1&sr_order=popularity&sr_pri_blocks=142616601_206189459_0_1_0__47999&srepoch=1594283088&srpvid=bc673b28d68d01dd&ucfs=1&from=searchresults;highlight_room=#hotelTmpl'},\n",
            " {'city': 'Massa Mostra sulla mappa',\n",
            "  'evaluation': '9,5',\n",
            "  'evaluation_description': 'Eccezionale',\n",
            "  'hotel_id': '1073381',\n",
            "  'price': 'US$459',\n",
            "  'reviews': '34 recensioni',\n",
            "  'room_description': 'Appartamento con Vista Mare  - \\nN° max persone: 2',\n",
            "  'score_position': 'Pulizia 9,9',\n",
            "  'title': 'Casa Vacanze Albachiara',\n",
            "  'url': 'https://www.booking.com/hotel/it/casa-vacanze-albachiara.it.html?aid=304142&label=gen173nr-1FCAEoggI46AdIM1gEaHGIAQGYARS4ARfIAQzYAQHoAQH4AQuIAgGoAgO4ApzakPgFwAIB0gIkZGU3ZDYxMDMtZTQ1OC00Y2E2LTkxM2EtZTViNTJlYzk0NWU52AIG4AIB&sid=f7dec976d7a9095bed15035b70e2100f&all_sr_blocks=107338102_201471032_2_0_0&checkin=2020-08-31&checkout=2020-09-06&dest_id=910&dest_type=region&group_adults=2&group_children=0&hapos=11&highlighted_blocks=107338102_201471032_2_0_0&hpos=11&nflt=class%3D3%3B&no_rooms=1&sr_order=popularity&sr_pri_blocks=107338102_201471032_2_0_0__40499&srepoch=1594283088&srpvid=bc673b28d68d01dd&ucfs=1&from=searchresults;highlight_room=#hotelTmpl'},\n",
            " {'city': 'Fonteblanda Mostra sulla mappa',\n",
            "  'evaluation': '8',\n",
            "  'evaluation_description': 'Ottimo',\n",
            "  'hotel_id': '406485',\n",
            "  'price': 'US$490',\n",
            "  'reviews': '412 recensioni',\n",
            "  'room_description': 'Camera Matrimoniale/Doppia con Letti Singoli con '\n",
            "                      'Balcone  - \\n'\n",
            "                      'N° max persone: 2',\n",
            "  'score_position': '',\n",
            "  'title': 'Hotel Rombino',\n",
            "  'url': 'https://www.booking.com/hotel/it/rombino.it.html?aid=304142&label=gen173nr-1FCAEoggI46AdIM1gEaHGIAQGYARS4ARfIAQzYAQHoAQH4AQuIAgGoAgO4ApzakPgFwAIB0gIkZGU3ZDYxMDMtZTQ1OC00Y2E2LTkxM2EtZTViNTJlYzk0NWU52AIG4AIB&sid=f7dec976d7a9095bed15035b70e2100f&all_sr_blocks=40648501_103635969_0_1_0&checkin=2020-08-31&checkout=2020-09-06&dest_id=910&dest_type=region&group_adults=2&group_children=0&hapos=12&highlighted_blocks=40648501_103635969_0_1_0&hpos=12&nflt=class%3D3%3B&no_rooms=1&sr_order=popularity&sr_pri_blocks=40648501_103635969_0_1_0__43300&srepoch=1594283088&srpvid=bc673b28d68d01dd&ucfs=1&from=searchresults;highlight_room=#hotelTmpl'},\n",
            " {'city': 'Rapolano Terme Mostra sulla mappa',\n",
            "  'evaluation': '9,3',\n",
            "  'evaluation_description': 'Eccellente',\n",
            "  'hotel_id': '420306',\n",
            "  'price': 'US$585',\n",
            "  'reviews': '148 recensioni',\n",
            "  'room_description': 'Camera Matrimoniale  - \\nN° max persone: 2',\n",
            "  'score_position': 'Pulizia 9,6',\n",
            "  'title': 'Albergo da Annita',\n",
            "  'url': 'https://www.booking.com/hotel/it/da-annita.it.html?aid=304142&label=gen173nr-1FCAEoggI46AdIM1gEaHGIAQGYARS4ARfIAQzYAQHoAQH4AQuIAgGoAgO4ApzakPgFwAIB0gIkZGU3ZDYxMDMtZTQ1OC00Y2E2LTkxM2EtZTViNTJlYzk0NWU52AIG4AIB&sid=f7dec976d7a9095bed15035b70e2100f&all_sr_blocks=42030601_244856813_2_1_0&checkin=2020-08-31&checkout=2020-09-06&dest_id=910&dest_type=region&group_adults=2&group_children=0&hapos=13&highlighted_blocks=42030601_244856813_2_1_0&hpos=13&nflt=class%3D3%3B&no_rooms=1&sr_order=popularity&sr_pri_blocks=42030601_244856813_2_1_0__51679&srepoch=1594283088&srpvid=bc673b28d68d01dd&ucfs=1&from=searchresults;highlight_room=#hotelTmpl'},\n",
            " {'city': 'Marina di Cecina Mostra sulla mappa',\n",
            "  'evaluation': '7,9',\n",
            "  'evaluation_description': 'Buono',\n",
            "  'hotel_id': '1691393',\n",
            "  'price': 'US$714',\n",
            "  'reviews': '238 recensioni',\n",
            "  'room_description': 'Camera Matrimoniale  - \\nN° max persone: 2',\n",
            "  'score_position': 'Posizione 9,3',\n",
            "  'title': 'Hotel Il Settebello',\n",
            "  'url': 'https://www.booking.com/hotel/it/il-settebello.it.html?aid=304142&label=gen173nr-1FCAEoggI46AdIM1gEaHGIAQGYARS4ARfIAQzYAQHoAQH4AQuIAgGoAgO4ApzakPgFwAIB0gIkZGU3ZDYxMDMtZTQ1OC00Y2E2LTkxM2EtZTViNTJlYzk0NWU52AIG4AIB&sid=f7dec976d7a9095bed15035b70e2100f&all_sr_blocks=169139301_228189243_2_1_0&checkin=2020-08-31&checkout=2020-09-06&dest_id=910&dest_type=region&group_adults=2&group_children=0&hapos=14&highlighted_blocks=169139301_228189243_2_1_0&hpos=14&nflt=class%3D3%3B&no_rooms=1&sr_order=popularity&sr_pri_blocks=169139301_228189243_2_1_0__62999&srepoch=1594283088&srpvid=bc673b28d68d01dd&ucfs=1&from=searchresults;highlight_room=#hotelTmpl'},\n",
            " {'city': 'Grosseto Mostra sulla mappa',\n",
            "  'evaluation': '8,1',\n",
            "  'evaluation_description': 'Ottimo',\n",
            "  'hotel_id': '283706',\n",
            "  'price': 'US$493',\n",
            "  'reviews': '404 recensioni',\n",
            "  'room_description': 'Camera Matrimoniale/Doppia con Letti Singoli  - \\n'\n",
            "                      'N° max persone: 2',\n",
            "  'score_position': '',\n",
            "  'title': 'Albergo San Lorenzo',\n",
            "  'url': 'https://www.booking.com/hotel/it/albergo-sanlorenzo.it.html?aid=304142&label=gen173nr-1FCAEoggI46AdIM1gEaHGIAQGYARS4ARfIAQzYAQHoAQH4AQuIAgGoAgO4ApzakPgFwAIB0gIkZGU3ZDYxMDMtZTQ1OC00Y2E2LTkxM2EtZTViNTJlYzk0NWU52AIG4AIB&sid=f7dec976d7a9095bed15035b70e2100f&all_sr_blocks=28370602_204038072_0_1_0&checkin=2020-08-31&checkout=2020-09-06&dest_id=910&dest_type=region&group_adults=2&group_children=0&hapos=15&highlighted_blocks=28370602_204038072_0_1_0&hpos=15&nflt=class%3D3%3B&no_rooms=1&sr_order=popularity&sr_pri_blocks=28370602_204038072_0_1_0__43500&srepoch=1594283088&srpvid=bc673b28d68d01dd&ucfs=1&from=searchresults;highlight_room=#hotelTmpl'},\n",
            " {'city': 'Porto Azzurro Mostra sulla mappa',\n",
            "  'evaluation': '8,4',\n",
            "  'evaluation_description': 'Ottimo',\n",
            "  'hotel_id': '1108398',\n",
            "  'price': 'US$816',\n",
            "  'reviews': '397 recensioni',\n",
            "  'room_description': 'Camera Economy Matrimoniale/Doppia con Letti Singoli  '\n",
            "                      '- \\n'\n",
            "                      'N° max persone: 2',\n",
            "  'score_position': '',\n",
            "  'title': \"Hotel l'Approdo\",\n",
            "  'url': 'https://www.booking.com/hotel/it/l-39-approdo.it.html?aid=304142&label=gen173nr-1FCAEoggI46AdIM1gEaHGIAQGYARS4ARfIAQzYAQHoAQH4AQuIAgGoAgO4ApzakPgFwAIB0gIkZGU3ZDYxMDMtZTQ1OC00Y2E2LTkxM2EtZTViNTJlYzk0NWU52AIG4AIB&sid=f7dec976d7a9095bed15035b70e2100f&all_sr_blocks=110839807_114687454_0_33_0&checkin=2020-08-31&checkout=2020-09-06&dest_id=910&dest_type=region&group_adults=2&group_children=0&hapos=16&highlighted_blocks=110839807_114687454_0_33_0&hpos=16&nflt=class%3D3%3B&no_rooms=1&sr_order=popularity&sr_pri_blocks=110839807_114687454_0_33_0__72000&srepoch=1594283088&srpvid=bc673b28d68d01dd&ucfs=1&from=searchresults;highlight_room=#hotelTmpl'},\n",
            " {'city': 'Centro storico di Firenze, Firenze Mostra sulla mappa',\n",
            "  'evaluation': '8,9',\n",
            "  'evaluation_description': 'Favoloso',\n",
            "  'hotel_id': '81059',\n",
            "  'price': 'US$385',\n",
            "  'reviews': '461 recensioni',\n",
            "  'room_description': 'Camera Matrimoniale/Doppia con Letti Singoli  - \\n'\n",
            "                      'N° max persone: 2',\n",
            "  'score_position': 'Pulizia 9,1',\n",
            "  'title': 'Hotel Porta Faenza',\n",
            "  'url': 'https://www.booking.com/hotel/it/hotelportafaenzafirenze.it.html?aid=304142&label=gen173nr-1FCAEoggI46AdIM1gEaHGIAQGYARS4ARfIAQzYAQHoAQH4AQuIAgGoAgO4ApzakPgFwAIB0gIkZGU3ZDYxMDMtZTQ1OC00Y2E2LTkxM2EtZTViNTJlYzk0NWU52AIG4AIB&sid=f7dec976d7a9095bed15035b70e2100f&all_sr_blocks=8105902_192216503_0_2_0&checkin=2020-08-31&checkout=2020-09-06&dest_id=910&dest_type=region&group_adults=2&group_children=0&hapos=17&highlighted_blocks=8105902_192216503_0_2_0&hpos=17&nflt=class%3D3%3B&no_rooms=1&sr_order=popularity&sr_pri_blocks=8105902_192216503_0_2_0__34000&srepoch=1594283088&srpvid=bc673b28d68d01dd&ucfs=1&from=searchresults;highlight_room=#hotelTmpl'},\n",
            " {'city': 'Barga Mostra sulla mappa',\n",
            "  'evaluation': '8,8',\n",
            "  'evaluation_description': 'Favoloso',\n",
            "  'hotel_id': '309983',\n",
            "  'price': 'US$527',\n",
            "  'reviews': '83 recensioni',\n",
            "  'room_description': 'Camera Matrimoniale  - \\nN° max persone: 2',\n",
            "  'score_position': 'Pulizia 9,2',\n",
            "  'title': 'Hotel Alpino',\n",
            "  'url': 'https://www.booking.com/hotel/it/alpino-barga.it.html?aid=304142&label=gen173nr-1FCAEoggI46AdIM1gEaHGIAQGYARS4ARfIAQzYAQHoAQH4AQuIAgGoAgO4ApzakPgFwAIB0gIkZGU3ZDYxMDMtZTQ1OC00Y2E2LTkxM2EtZTViNTJlYzk0NWU52AIG4AIB&sid=f7dec976d7a9095bed15035b70e2100f&all_sr_blocks=30998301_103330990_0_1_0&checkin=2020-08-31&checkout=2020-09-06&dest_id=910&dest_type=region&group_adults=2&group_children=0&hapos=18&highlighted_blocks=30998301_103330990_0_1_0&hpos=18&nflt=class%3D3%3B&no_rooms=1&sr_order=popularity&sr_pri_blocks=30998301_103330990_0_1_0__46499&srepoch=1594283088&srpvid=bc673b28d68d01dd&ucfs=1&from=searchresults;highlight_room=#hotelTmpl'},\n",
            " {'city': 'Lido di Camaiore Mostra sulla mappa',\n",
            "  'evaluation': '7,8',\n",
            "  'evaluation_description': 'Buono',\n",
            "  'hotel_id': '13545',\n",
            "  'price': 'US$426',\n",
            "  'reviews': '85 recensioni',\n",
            "  'room_description': 'Camera Matrimoniale Economy  - \\nN° max persone: 2',\n",
            "  'score_position': '',\n",
            "  'title': 'Hotel Sirena',\n",
            "  'url': 'https://www.booking.com/hotel/it/sirena-lido-di-camaiore.it.html?aid=304142&label=gen173nr-1FCAEoggI46AdIM1gEaHGIAQGYARS4ARfIAQzYAQHoAQH4AQuIAgGoAgO4ApzakPgFwAIB0gIkZGU3ZDYxMDMtZTQ1OC00Y2E2LTkxM2EtZTViNTJlYzk0NWU52AIG4AIB&sid=f7dec976d7a9095bed15035b70e2100f&all_sr_blocks=1354510_202254092_0_2_0&checkin=2020-08-31&checkout=2020-09-06&dest_id=910&dest_type=region&group_adults=2&group_children=0&hapos=19&highlighted_blocks=1354510_202254092_0_2_0&hpos=19&nflt=class%3D3%3B&no_rooms=1&sr_order=popularity&sr_pri_blocks=1354510_202254092_0_2_0__37605&srepoch=1594283088&srpvid=bc673b28d68d01dd&ucfs=1&from=searchresults;highlight_room=#hotelTmpl'},\n",
            " {'city': 'Marina di Pietrasanta Mostra sulla mappa',\n",
            "  'evaluation': '8,5',\n",
            "  'evaluation_description': 'Ottimo',\n",
            "  'hotel_id': '381030',\n",
            "  'price': 'US$985',\n",
            "  'reviews': '218 recensioni',\n",
            "  'room_description': 'Camera Matrimoniale  - \\nN° max persone: 2',\n",
            "  'score_position': 'Posizione 9,4',\n",
            "  'title': 'Hotel Coluccini',\n",
            "  'url': 'https://www.booking.com/hotel/it/coluccini.it.html?aid=304142&label=gen173nr-1FCAEoggI46AdIM1gEaHGIAQGYARS4ARfIAQzYAQHoAQH4AQuIAgGoAgO4ApzakPgFwAIB0gIkZGU3ZDYxMDMtZTQ1OC00Y2E2LTkxM2EtZTViNTJlYzk0NWU52AIG4AIB&sid=f7dec976d7a9095bed15035b70e2100f&all_sr_blocks=38103001_239988700_0_41_0&checkin=2020-08-31&checkout=2020-09-06&dest_id=910&dest_type=region&group_adults=2&group_children=0&hapos=20&highlighted_blocks=38103001_239988700_0_41_0&hpos=20&nflt=class%3D3%3B&no_rooms=1&sr_order=popularity&sr_pri_blocks=38103001_239988700_0_41_0__87000&srepoch=1594283088&srpvid=bc673b28d68d01dd&ucfs=1&from=searchresults;highlight_room=#hotelTmpl'},\n",
            " {'city': 'San Marco - Santissima Annunziata, Firenze Mostra sulla mappa',\n",
            "  'evaluation': '9,5',\n",
            "  'evaluation_description': 'Eccezionale',\n",
            "  'hotel_id': '1290202',\n",
            "  'price': 'US$544',\n",
            "  'reviews': '121 recensioni',\n",
            "  'room_description': 'Appartamento con 1 Camera da Letto e Vista Giardino  '\n",
            "                      '- \\n'\n",
            "                      'N° max persone: 2',\n",
            "  'score_position': 'Pulizia 9,6',\n",
            "  'title': 'Residenza Sangallo',\n",
            "  'url': 'https://www.booking.com/hotel/it/residenza-sangallo.it.html?aid=304142&label=gen173nr-1FCAEoggI46AdIM1gEaHGIAQGYARS4ARfIAQzYAQHoAQH4AQuIAgGoAgO4ApzakPgFwAIB0gIkZGU3ZDYxMDMtZTQ1OC00Y2E2LTkxM2EtZTViNTJlYzk0NWU52AIG4AIB&sid=f7dec976d7a9095bed15035b70e2100f&all_sr_blocks=129020202_203061914_2_0_0&checkin=2020-08-31&checkout=2020-09-06&dest_id=910&dest_type=region&group_adults=2&group_children=0&hapos=21&highlighted_blocks=129020202_203061914_2_0_0&hpos=21&nflt=class%3D3%3B&no_rooms=1&sr_order=popularity&sr_pri_blocks=129020202_203061914_2_0_0__48000&srepoch=1594283088&srpvid=bc673b28d68d01dd&ucfs=1&from=searchresults;highlight_room=;has_campaign_deals_traveloffer20_customer_label=1#hotelTmpl'},\n",
            " {'city': 'Lido di Camaiore Mostra sulla mappa',\n",
            "  'evaluation': '8,3',\n",
            "  'evaluation_description': 'Ottimo',\n",
            "  'hotel_id': '355677',\n",
            "  'price': 'US$544',\n",
            "  'reviews': '476 recensioni',\n",
            "  'room_description': 'Camera Flessibile  - \\nN° max persone: 2',\n",
            "  'score_position': 'Posizione 9,4',\n",
            "  'title': 'Hotel Sole E Mare',\n",
            "  'url': 'https://www.booking.com/hotel/it/sole-e-mare.it.html?aid=304142&label=gen173nr-1FCAEoggI46AdIM1gEaHGIAQGYARS4ARfIAQzYAQHoAQH4AQuIAgGoAgO4ApzakPgFwAIB0gIkZGU3ZDYxMDMtZTQ1OC00Y2E2LTkxM2EtZTViNTJlYzk0NWU52AIG4AIB&sid=f7dec976d7a9095bed15035b70e2100f&all_sr_blocks=35567711_264878406_2_0_0&checkin=2020-08-31&checkout=2020-09-06&dest_id=910&dest_type=region&group_adults=2&group_children=0&hapos=22&highlighted_blocks=35567711_264878406_2_0_0&hpos=22&nflt=class%3D3%3B&no_rooms=1&sr_order=popularity&sr_pri_blocks=35567711_264878406_2_0_0__47999&srepoch=1594283089&srpvid=bc673b28d68d01dd&ucfs=1&from=searchresults;highlight_room=#hotelTmpl'},\n",
            " {'city': 'Poggibonsi Mostra sulla mappa',\n",
            "  'evaluation': '9',\n",
            "  'evaluation_description': 'Eccellente',\n",
            "  'hotel_id': '13004',\n",
            "  'price': 'US$577',\n",
            "  'reviews': '610 recensioni',\n",
            "  'room_description': 'Camera Economy Matrimoniale/Doppia con Letti Singoli  '\n",
            "                      '- \\n'\n",
            "                      'N° max persone: 2',\n",
            "  'score_position': 'Pulizia 9,3',\n",
            "  'title': 'Hotel Villa San Giorgio',\n",
            "  'url': 'https://www.booking.com/hotel/it/villa-san-giorgio-poggibonsi.it.html?aid=304142&label=gen173nr-1FCAEoggI46AdIM1gEaHGIAQGYARS4ARfIAQzYAQHoAQH4AQuIAgGoAgO4ApzakPgFwAIB0gIkZGU3ZDYxMDMtZTQ1OC00Y2E2LTkxM2EtZTViNTJlYzk0NWU52AIG4AIB&sid=f7dec976d7a9095bed15035b70e2100f&all_sr_blocks=1300404_130115187_0_1_0&checkin=2020-08-31&checkout=2020-09-06&dest_id=910&dest_type=region&group_adults=2&group_children=0&hapos=23&highlighted_blocks=1300404_130115187_0_1_0&hpos=23&nflt=class%3D3%3B&no_rooms=1&sr_order=popularity&sr_pri_blocks=1300404_130115187_0_1_0__50899&srepoch=1594283089&srpvid=bc673b28d68d01dd&ucfs=1&from=searchresults;highlight_room=#hotelTmpl'},\n",
            " {'city': 'Lido di Camaiore Mostra sulla mappa',\n",
            "  'evaluation': '9',\n",
            "  'evaluation_description': 'Eccellente',\n",
            "  'hotel_id': '187012',\n",
            "  'price': 'US$1.008',\n",
            "  'reviews': '291 recensioni',\n",
            "  'room_description': 'Camera Matrimoniale  - \\nN° max persone: 2',\n",
            "  'score_position': 'Pulizia 9,0',\n",
            "  'title': \"Hotel Club I Pini - Residenza D'Epoca\",\n",
            "  'url': 'https://www.booking.com/hotel/it/residenza-d-epoca-i-pini.it.html?aid=304142&label=gen173nr-1FCAEoggI46AdIM1gEaHGIAQGYARS4ARfIAQzYAQHoAQH4AQuIAgGoAgO4ApzakPgFwAIB0gIkZGU3ZDYxMDMtZTQ1OC00Y2E2LTkxM2EtZTViNTJlYzk0NWU52AIG4AIB&sid=f7dec976d7a9095bed15035b70e2100f&all_sr_blocks=18701201_198494281_0_41_0&checkin=2020-08-31&checkout=2020-09-06&dest_id=910&dest_type=region&group_adults=2&group_children=0&hapos=24&highlighted_blocks=18701201_198494281_0_41_0&hpos=24&nflt=class%3D3%3B&no_rooms=1&sr_order=popularity&sr_pri_blocks=18701201_198494281_0_41_0__88999&srepoch=1594283089&srpvid=bc673b28d68d01dd&ucfs=1&from=searchresults;highlight_room=#hotelTmpl'},\n",
            " {'city': 'Marina di Pietrasanta Mostra sulla mappa',\n",
            "  'evaluation': '8,5',\n",
            "  'evaluation_description': 'Ottimo',\n",
            "  'hotel_id': '83233',\n",
            "  'price': 'US$938',\n",
            "  'reviews': '180 recensioni',\n",
            "  'room_description': 'Camera Classic Matrimoniale/Doppia con Letti Singoli  '\n",
            "                      '- \\n'\n",
            "                      'N° max persone: 2',\n",
            "  'score_position': 'Pulizia 9,0',\n",
            "  'title': 'Hotel Venezia',\n",
            "  'url': 'https://www.booking.com/hotel/it/venezia-marina-di-pietrasanta.it.html?aid=304142&label=gen173nr-1FCAEoggI46AdIM1gEaHGIAQGYARS4ARfIAQzYAQHoAQH4AQuIAgGoAgO4ApzakPgFwAIB0gIkZGU3ZDYxMDMtZTQ1OC00Y2E2LTkxM2EtZTViNTJlYzk0NWU52AIG4AIB&sid=f7dec976d7a9095bed15035b70e2100f&all_sr_blocks=8323301_200102026_0_1_0&checkin=2020-08-31&checkout=2020-09-06&dest_id=910&dest_type=region&group_adults=2&group_children=0&hapos=25&highlighted_blocks=8323301_200102026_0_1_0&hpos=25&nflt=class%3D3%3B&no_rooms=1&sr_order=popularity&sr_pri_blocks=8323301_200102026_0_1_0__82799&srepoch=1594283089&srpvid=bc673b28d68d01dd&ucfs=1&from=searchresults;highlight_room=#hotelTmpl'}]\n"
          ],
          "name": "stdout"
        }
      ]
    },
    {
      "cell_type": "code",
      "metadata": {
        "id": "IuNswQslSU_G",
        "colab_type": "code",
        "colab": {}
      },
      "source": [
        "def parse_hotel(hotel):\n",
        "  hotel_id = hotel.get_attribute(\"data-hotelid\")\n",
        "  title = \"\"\n",
        "  url = \"\"\n",
        "  city = \"\"\n",
        "  room_description = \"\"\n",
        "  evaluation = \"\"\n",
        "  score_position = \"\"\n",
        "  price = \"\"\n",
        "  \n",
        "  try:   \n",
        "    title = hotel.find_elements_by_css_selector(\".sr-hotel__name\")[0].text\n",
        "    url = hotel.find_elements_by_css_selector(\".hotel_name_link\")[0].get_attribute(\"href\")\n",
        "    city = hotel.find_elements_by_css_selector(\"a.bui-link\")[0].text\n",
        "    room_description = hotel.find_elements_by_css_selector(\"div.room_link\")[0].text\n",
        "    price = hotel.find_elements_by_css_selector(\"div.bui-price-display__value\")[0].text\n",
        "    evaluation = hotel.get_attribute(\"data-score\")\n",
        "    evaluation_description = \"\"\n",
        "    if (len(hotel.find_elements_by_css_selector(\"div.bui-review-score__title\")) > 0):\n",
        "      evaluation_description = hotel.find_elements_by_css_selector(\"div.bui-review-score__title\")[0].text\n",
        "    reviews = \"\"\n",
        "    if (len(hotel.find_elements_by_css_selector(\"div.bui-review-score__text\")) > 0):\n",
        "      reviews = hotel.find_elements_by_css_selector(\"div.bui-review-score__text\")[0].text\n",
        "    score_position = \"\"\n",
        "    if (len(hotel.find_elements_by_css_selector(\"span.review-score-widget\")) > 0):\n",
        "      score_position = hotel.find_elements_by_css_selector(\"span.review-score-widget\")[0].text\n",
        "    cancellazione_gratuita = \"\"\n",
        "    if (len(hotel.find_elements_by_css_selector(\"sup.sr_room_reinforcement.sr_room_policy_single_line\")) > 0):\n",
        "      cancellazione_gratuita = hotel.find_elements_by_css_selector(\"sup.sr_room_reinforcement.sr_room_policy_single_line\")[0].text\n",
        "    \n",
        "  except:\n",
        "     pass\n",
        "  return {'title': title,\n",
        "          'url' : url,\n",
        "          'room_description' : room_description,\n",
        "          'city' : city,\n",
        "          'evaluation' : evaluation,\n",
        "          'evaluation_description' : evaluation_description,\n",
        "          'reviews' : reviews,\n",
        "          'cancellazione_gratuita' : cancellazione_gratuita,\n",
        "          'score_position' : score_position,\n",
        "          'price' : price,\n",
        "          'hotel_id' : hotel_id}\n"
      ],
      "execution_count": null,
      "outputs": []
    },
    {
      "cell_type": "markdown",
      "metadata": {
        "id": "h-9QsDo7emco",
        "colab_type": "text"
      },
      "source": [
        "Scarico le informazioni che mi interessano da più pagine e le salvo in un file csv."
      ]
    },
    {
      "cell_type": "code",
      "metadata": {
        "id": "h0rlF63LV53i",
        "colab_type": "code",
        "colab": {}
      },
      "source": [
        "detail_hotel = []\n",
        "for num in tqdm(range(0, 26, 25)):\n",
        "  wd.get(f\"https://www.booking.com/searchresults.it.html?aid=304142&label=gen173nr-1FCAEoggI46AdIM1gEaHGIAQGYARS4ARfIAQzYAQHoAQH4AQuIAgGoAgO4ApzakPgFwAIB0gIkZGU3ZDYxMDMtZTQ1OC00Y2E2LTkxM2EtZTViNTJlYzk0NWU52AIG4AIB&sid=f7fc04c8a03b4db3566a73d422abcde1&tmpl=searchresults&ac_click_type=b&ac_position=0&checkin_month=7&checkin_monthday=27&checkin_year=2020&checkout_month=8&checkout_monthday=16&checkout_year=2020&class_interval=1&dest_id=910&dest_type=region&from_sf=1&group_adults=2&group_children=0&label_click=undef&nflt=class%3D3%3B&no_rooms=1&raw_dest_type=region&room1=A%2CA&sb_price_type=total&search_selected=1&shw_aparth=1&slp_r_match=0&src=index&srpvid=ff6f391d537100b9&ss=Toscana%2C%20Italia&ss_raw=tos&ssb=empty&top_ufis=1&rows=25&offset={num}\")\n",
        "  wd.save_screenshot(f'screenshot_{num}.png')\n",
        "  list_hotel = wd.find_elements_by_css_selector(\"div.sr_item\")\n",
        "  for hotel in list_hotel:\n",
        "      detail_hotel.append(parse_hotel(hotel))\n",
        "\n",
        "print(len(detail_hotel))\n",
        "detail_hotel"
      ],
      "execution_count": null,
      "outputs": []
    },
    {
      "cell_type": "code",
      "metadata": {
        "id": "x_tzXSrTV_tP",
        "colab_type": "code",
        "colab": {
          "base_uri": "https://localhost:8080/",
          "height": 134,
          "referenced_widgets": [
            "fd094821d768474cb817a91b37d824f3",
            "dd2d653e359949849ac64b30d0b6abdd",
            "74b1e4d8f30d41aab129d1f040ce2a54",
            "b5efac1dedd24ffa8ad43ec2cd9ff795",
            "53a6a3de28ea43829de617e20592b385",
            "31518e3b042e445eb33aa25515cb8db9",
            "024a986c4f8146aa9665f3a669dd5113",
            "140c69cbf86342109b267b9da9ed637b"
          ]
        },
        "outputId": "6858a9a9-9146-4433-f3e4-7238dee0be74"
      },
      "source": [
        "import time\n",
        "detail_hotel = []\n",
        "for num in tqdm(range(0,251, 25)):\n",
        "    time.sleep(1)\n",
        "    wd.get(f\"https://www.booking.com/searchresults.it.html?aid=304142&label=gen173nr-1FCAEoggI46AdIM1gEaHGIAQGYARS4ARfIAQzYAQHoAQH4AQuIAgGoAgO4ApzakPgFwAIB0gIkZGU3ZDYxMDMtZTQ1OC00Y2E2LTkxM2EtZTViNTJlYzk0NWU52AIG4AIB&sid=f7fc04c8a03b4db3566a73d422abcde1&tmpl=searchresults&ac_click_type=b&ac_position=0&checkin_month=8&checkin_monthday=31&checkin_year=2020&checkout_month=9&checkout_monthday=6&checkout_year=2020&class_interval=1&dest_id=910&dest_type=region&from_sf=1&group_adults=2&group_children=0&label_click=undef&nflt=class%3D3%3B&no_rooms=1&raw_dest_type=region&room1=A%2CA&sb_price_type=total&search_selected=1&shw_aparth=1&slp_r_match=0&src=index&srpvid=ff6f391d537100b9&ss=Toscana%2C%20Italia&ss_raw=tos&ssb=empty&top_ufis=1&rows=25&offset={num}\")\n",
        "    #wd.save_screenshot(f'screenshot_{num}.png')\n",
        "    list_hotel = wd.find_elements_by_css_selector(\"div.sr_item\")\n",
        "    for hotel in list_hotel:\n",
        "      detail_hotel.append(parse_hotel(hotel))\n",
        "\n",
        "print(len(detail_hotel))"
      ],
      "execution_count": null,
      "outputs": [
        {
          "output_type": "stream",
          "text": [
            "/usr/local/lib/python3.6/dist-packages/ipykernel_launcher.py:3: TqdmDeprecationWarning: This function will be removed in tqdm==5.0.0\n",
            "Please use `tqdm.notebook.tqdm` instead of `tqdm.tqdm_notebook`\n",
            "  This is separate from the ipykernel package so we can avoid doing imports until\n"
          ],
          "name": "stderr"
        },
        {
          "output_type": "display_data",
          "data": {
            "application/vnd.jupyter.widget-view+json": {
              "model_id": "fd094821d768474cb817a91b37d824f3",
              "version_minor": 0,
              "version_major": 2
            },
            "text/plain": [
              "HBox(children=(FloatProgress(value=0.0, max=11.0), HTML(value='')))"
            ]
          },
          "metadata": {
            "tags": []
          }
        },
        {
          "output_type": "stream",
          "text": [
            "\n",
            "297\n"
          ],
          "name": "stdout"
        }
      ]
    },
    {
      "cell_type": "code",
      "metadata": {
        "id": "q1oUVa8MXlT0",
        "colab_type": "code",
        "colab": {
          "base_uri": "https://localhost:8080/",
          "height": 547
        },
        "outputId": "f53b327b-5d3f-4bad-a153-c6473cee69e7"
      },
      "source": [
        "import pandas as pd\n",
        "ds_detail_hotel = pd.DataFrame(detail_hotel)\n",
        "ds_detail_hotel.set_index(\"hotel_id\")\n",
        "ds_detail_hotel.head()"
      ],
      "execution_count": null,
      "outputs": [
        {
          "output_type": "execute_result",
          "data": {
            "text/html": [
              "<div>\n",
              "<style scoped>\n",
              "    .dataframe tbody tr th:only-of-type {\n",
              "        vertical-align: middle;\n",
              "    }\n",
              "\n",
              "    .dataframe tbody tr th {\n",
              "        vertical-align: top;\n",
              "    }\n",
              "\n",
              "    .dataframe thead th {\n",
              "        text-align: right;\n",
              "    }\n",
              "</style>\n",
              "<table border=\"1\" class=\"dataframe\">\n",
              "  <thead>\n",
              "    <tr style=\"text-align: right;\">\n",
              "      <th></th>\n",
              "      <th>title</th>\n",
              "      <th>url</th>\n",
              "      <th>room_description</th>\n",
              "      <th>city</th>\n",
              "      <th>evaluation</th>\n",
              "      <th>evaluation_description</th>\n",
              "      <th>reviews</th>\n",
              "      <th>cancellazione_gratuita</th>\n",
              "      <th>score_position</th>\n",
              "      <th>price</th>\n",
              "      <th>hotel_id</th>\n",
              "    </tr>\n",
              "  </thead>\n",
              "  <tbody>\n",
              "    <tr>\n",
              "      <th>0</th>\n",
              "      <td>B&amp;B Relais Inn Lucca</td>\n",
              "      <td>https://www.booking.com/hotel/it/relais-inn-lu...</td>\n",
              "      <td>Camera Matrimoniale/Doppia con Letti Singoli  ...</td>\n",
              "      <td>Centro storico, Lucca Mostra sulla mappa</td>\n",
              "      <td>9,1</td>\n",
              "      <td>Eccellente</td>\n",
              "      <td>478 recensioni</td>\n",
              "      <td>Cancellazione GRATUITA</td>\n",
              "      <td>Pulizia 9,3</td>\n",
              "      <td>US$611</td>\n",
              "      <td>1005093</td>\n",
              "    </tr>\n",
              "    <tr>\n",
              "      <th>1</th>\n",
              "      <td>Hotel Barberino</td>\n",
              "      <td>https://www.booking.com/hotel/it/barberino-500...</td>\n",
              "      <td>Camera Matrimoniale  - \\nN° max persone: 2</td>\n",
              "      <td>Barberino di Mugello Mostra sulla mappa</td>\n",
              "      <td>8,4</td>\n",
              "      <td>Ottimo</td>\n",
              "      <td>354 recensioni</td>\n",
              "      <td>Cancellazione GRATUITA</td>\n",
              "      <td></td>\n",
              "      <td>US$523</td>\n",
              "      <td>355785</td>\n",
              "    </tr>\n",
              "    <tr>\n",
              "      <th>2</th>\n",
              "      <td>Antico Borgo San Martino</td>\n",
              "      <td>https://www.booking.com/hotel/it/antico-borgo-...</td>\n",
              "      <td>Camera Matrimoniale Classic  - \\nN° max person...</td>\n",
              "      <td>Riparbella Mostra sulla mappa</td>\n",
              "      <td>8,1</td>\n",
              "      <td>Ottimo</td>\n",
              "      <td>537 recensioni</td>\n",
              "      <td>Cancellazione GRATUITA</td>\n",
              "      <td></td>\n",
              "      <td>US$466</td>\n",
              "      <td>84602</td>\n",
              "    </tr>\n",
              "    <tr>\n",
              "      <th>3</th>\n",
              "      <td>Albergo Battelli</td>\n",
              "      <td>https://www.booking.com/hotel/it/albergo-batte...</td>\n",
              "      <td>Camera Doppia con Letti Singoli  - \\nN° max pe...</td>\n",
              "      <td>Marina di Pietrasanta Mostra sulla mappa</td>\n",
              "      <td>8,9</td>\n",
              "      <td>Favoloso</td>\n",
              "      <td>277 recensioni</td>\n",
              "      <td>Cancellazione GRATUITA</td>\n",
              "      <td>Pulizia 9,1</td>\n",
              "      <td>US$639</td>\n",
              "      <td>371788</td>\n",
              "    </tr>\n",
              "    <tr>\n",
              "      <th>4</th>\n",
              "      <td>Loft Bellavista Volterra</td>\n",
              "      <td>https://www.booking.com/hotel/it/loft-bellavis...</td>\n",
              "      <td>Appartamento con 1 Camera da Letto  - \\nN° max...</td>\n",
              "      <td>Volterra Mostra sulla mappa</td>\n",
              "      <td>10</td>\n",
              "      <td>Eccezionale</td>\n",
              "      <td>6 recensioni</td>\n",
              "      <td>Cancellazione GRATUITA</td>\n",
              "      <td>Pulizia 10</td>\n",
              "      <td>US$557</td>\n",
              "      <td>4570926</td>\n",
              "    </tr>\n",
              "  </tbody>\n",
              "</table>\n",
              "</div>"
            ],
            "text/plain": [
              "                      title  ... hotel_id\n",
              "0      B&B Relais Inn Lucca  ...  1005093\n",
              "1           Hotel Barberino  ...   355785\n",
              "2  Antico Borgo San Martino  ...    84602\n",
              "3          Albergo Battelli  ...   371788\n",
              "4  Loft Bellavista Volterra  ...  4570926\n",
              "\n",
              "[5 rows x 11 columns]"
            ]
          },
          "metadata": {
            "tags": []
          },
          "execution_count": 155
        }
      ]
    },
    {
      "cell_type": "code",
      "metadata": {
        "id": "2BFBr8Y9XqFH",
        "colab_type": "code",
        "colab": {
          "base_uri": "https://localhost:8080/",
          "height": 323
        },
        "outputId": "b9601f5f-7689-4e4d-990d-f375b34a023e"
      },
      "source": [
        "ds_detail_hotel.info()"
      ],
      "execution_count": null,
      "outputs": [
        {
          "output_type": "stream",
          "text": [
            "<class 'pandas.core.frame.DataFrame'>\n",
            "RangeIndex: 297 entries, 0 to 296\n",
            "Data columns (total 11 columns):\n",
            " #   Column                  Non-Null Count  Dtype \n",
            "---  ------                  --------------  ----- \n",
            " 0   title                   297 non-null    object\n",
            " 1   url                     297 non-null    object\n",
            " 2   room_description        297 non-null    object\n",
            " 3   city                    297 non-null    object\n",
            " 4   evaluation              297 non-null    object\n",
            " 5   evaluation_description  297 non-null    object\n",
            " 6   reviews                 297 non-null    object\n",
            " 7   cancellazione_gratuita  297 non-null    object\n",
            " 8   score_position          297 non-null    object\n",
            " 9   price                   297 non-null    object\n",
            " 10  hotel_id                297 non-null    object\n",
            "dtypes: object(11)\n",
            "memory usage: 25.6+ KB\n"
          ],
          "name": "stdout"
        }
      ]
    },
    {
      "cell_type": "code",
      "metadata": {
        "id": "0SUSGmQ1XwSW",
        "colab_type": "code",
        "colab": {}
      },
      "source": [
        "ds_detail_hotel.to_csv('ds_hotel_agosto1.csv')"
      ],
      "execution_count": null,
      "outputs": []
    },
    {
      "cell_type": "code",
      "metadata": {
        "id": "2fHN3X3bTZWI",
        "colab_type": "code",
        "colab": {
          "base_uri": "https://localhost:8080/",
          "height": 544
        },
        "outputId": "ec84d628-0bbd-46d8-d73f-045b0b75a75c"
      },
      "source": [
        "# open csv file\n",
        "import pandas as pd\n",
        "ds_detail_hotel = pd.read_csv(\"ds_hotel_agosto1.csv\", index_col=\"hotel_id\")\n",
        "ds_detail_hotel.head()"
      ],
      "execution_count": null,
      "outputs": [
        {
          "output_type": "execute_result",
          "data": {
            "text/html": [
              "<div>\n",
              "<style scoped>\n",
              "    .dataframe tbody tr th:only-of-type {\n",
              "        vertical-align: middle;\n",
              "    }\n",
              "\n",
              "    .dataframe tbody tr th {\n",
              "        vertical-align: top;\n",
              "    }\n",
              "\n",
              "    .dataframe thead th {\n",
              "        text-align: right;\n",
              "    }\n",
              "</style>\n",
              "<table border=\"1\" class=\"dataframe\">\n",
              "  <thead>\n",
              "    <tr style=\"text-align: right;\">\n",
              "      <th></th>\n",
              "      <th>Unnamed: 0</th>\n",
              "      <th>title</th>\n",
              "      <th>url</th>\n",
              "      <th>room_description</th>\n",
              "      <th>city</th>\n",
              "      <th>evaluation</th>\n",
              "      <th>evaluation_description</th>\n",
              "      <th>reviews</th>\n",
              "      <th>score_position</th>\n",
              "      <th>price</th>\n",
              "    </tr>\n",
              "    <tr>\n",
              "      <th>hotel_id</th>\n",
              "      <th></th>\n",
              "      <th></th>\n",
              "      <th></th>\n",
              "      <th></th>\n",
              "      <th></th>\n",
              "      <th></th>\n",
              "      <th></th>\n",
              "      <th></th>\n",
              "      <th></th>\n",
              "      <th></th>\n",
              "    </tr>\n",
              "  </thead>\n",
              "  <tbody>\n",
              "    <tr>\n",
              "      <th>82855</th>\n",
              "      <td>0</td>\n",
              "      <td>Airone Pisa Park Hotel</td>\n",
              "      <td>https://www.booking.com/hotel/it/aironepisapar...</td>\n",
              "      <td>Camera Matrimoniale/Doppia con Letti Singoli  ...</td>\n",
              "      <td>Pisa Mostra sulla mappa</td>\n",
              "      <td>7,5</td>\n",
              "      <td>Buono</td>\n",
              "      <td>899 recensioni</td>\n",
              "      <td>NaN</td>\n",
              "      <td>US$441</td>\n",
              "    </tr>\n",
              "    <tr>\n",
              "      <th>4944541</th>\n",
              "      <td>1</td>\n",
              "      <td>Ladybug Apartment</td>\n",
              "      <td>https://www.booking.com/hotel/it/ladybug-apart...</td>\n",
              "      <td>Appartamento con 1 Camera da Letto  - \\nN° max...</td>\n",
              "      <td>Poggibonsi Mostra sulla mappa</td>\n",
              "      <td>9</td>\n",
              "      <td>Eccellente</td>\n",
              "      <td>26 recensioni</td>\n",
              "      <td>Pulizia 9,3</td>\n",
              "      <td>US$278</td>\n",
              "    </tr>\n",
              "    <tr>\n",
              "      <th>88393</th>\n",
              "      <td>2</td>\n",
              "      <td>Hotel Scilla</td>\n",
              "      <td>https://www.booking.com/hotel/it/scilla-e-loca...</td>\n",
              "      <td>Camera Matrimoniale Economy - Dependance  - \\n...</td>\n",
              "      <td>Sovana Mostra sulla mappa</td>\n",
              "      <td>8,4</td>\n",
              "      <td>Ottimo</td>\n",
              "      <td>631 recensioni</td>\n",
              "      <td>NaN</td>\n",
              "      <td>US$385</td>\n",
              "    </tr>\n",
              "    <tr>\n",
              "      <th>355785</th>\n",
              "      <td>3</td>\n",
              "      <td>Hotel Barberino</td>\n",
              "      <td>https://www.booking.com/hotel/it/barberino-500...</td>\n",
              "      <td>Camera Matrimoniale  - \\nN° max persone: 2</td>\n",
              "      <td>Barberino di Mugello Mostra sulla mappa</td>\n",
              "      <td>8,4</td>\n",
              "      <td>Ottimo</td>\n",
              "      <td>354 recensioni</td>\n",
              "      <td>NaN</td>\n",
              "      <td>US$519</td>\n",
              "    </tr>\n",
              "    <tr>\n",
              "      <th>480073</th>\n",
              "      <td>4</td>\n",
              "      <td>Hotel San Marco</td>\n",
              "      <td>https://www.booking.com/hotel/it/san-marco-pra...</td>\n",
              "      <td>Camera Matrimoniale  - \\nN° max persone: 2</td>\n",
              "      <td>Prato Mostra sulla mappa</td>\n",
              "      <td>8,9</td>\n",
              "      <td>Favoloso</td>\n",
              "      <td>378 recensioni</td>\n",
              "      <td>Pulizia 9,1</td>\n",
              "      <td>US$304</td>\n",
              "    </tr>\n",
              "  </tbody>\n",
              "</table>\n",
              "</div>"
            ],
            "text/plain": [
              "          Unnamed: 0                   title  ... score_position   price\n",
              "hotel_id                                      ...                       \n",
              "82855              0  Airone Pisa Park Hotel  ...            NaN  US$441\n",
              "4944541            1       Ladybug Apartment  ...    Pulizia 9,3  US$278\n",
              "88393              2            Hotel Scilla  ...            NaN  US$385\n",
              "355785             3         Hotel Barberino  ...            NaN  US$519\n",
              "480073             4         Hotel San Marco  ...    Pulizia 9,1  US$304\n",
              "\n",
              "[5 rows x 10 columns]"
            ]
          },
          "metadata": {
            "tags": []
          },
          "execution_count": 27
        }
      ]
    },
    {
      "cell_type": "code",
      "metadata": {
        "id": "ky3liCGITfJi",
        "colab_type": "code",
        "colab": {
          "base_uri": "https://localhost:8080/",
          "height": 306
        },
        "outputId": "99ca50c5-18cc-440b-a4af-2030a8c7a34d"
      },
      "source": [
        "ds_detail_hotel.info()"
      ],
      "execution_count": null,
      "outputs": [
        {
          "output_type": "stream",
          "text": [
            "<class 'pandas.core.frame.DataFrame'>\n",
            "Int64Index: 295 entries, 82855 to 572284\n",
            "Data columns (total 10 columns):\n",
            " #   Column                  Non-Null Count  Dtype \n",
            "---  ------                  --------------  ----- \n",
            " 0   Unnamed: 0              295 non-null    int64 \n",
            " 1   title                   295 non-null    object\n",
            " 2   url                     295 non-null    object\n",
            " 3   room_description        295 non-null    object\n",
            " 4   city                    295 non-null    object\n",
            " 5   evaluation              290 non-null    object\n",
            " 6   evaluation_description  290 non-null    object\n",
            " 7   reviews                 290 non-null    object\n",
            " 8   score_position          187 non-null    object\n",
            " 9   price                   295 non-null    object\n",
            "dtypes: int64(1), object(9)\n",
            "memory usage: 25.4+ KB\n"
          ],
          "name": "stdout"
        }
      ]
    },
    {
      "cell_type": "markdown",
      "metadata": {
        "id": "Fh9kqrDTT7pt",
        "colab_type": "text"
      },
      "source": [
        "Estraggo le pagine di dettaglio.\n",
        "Per cominciare scarico gli indirizzi degli hotel."
      ]
    },
    {
      "cell_type": "code",
      "metadata": {
        "id": "nONnSm88od8j",
        "colab_type": "code",
        "colab": {
          "base_uri": "https://localhost:8080/",
          "height": 544
        },
        "outputId": "356c1a5b-3224-45a1-80a1-3e4764afd926"
      },
      "source": [
        "# open csv file\n",
        "import pandas as pd\n",
        "ds_detail_hotel = pd.read_csv(\"ds_hotel_agosto1.csv\", index_col=\"hotel_id\")\n",
        "ds_detail_hotel.head()"
      ],
      "execution_count": null,
      "outputs": [
        {
          "output_type": "execute_result",
          "data": {
            "text/html": [
              "<div>\n",
              "<style scoped>\n",
              "    .dataframe tbody tr th:only-of-type {\n",
              "        vertical-align: middle;\n",
              "    }\n",
              "\n",
              "    .dataframe tbody tr th {\n",
              "        vertical-align: top;\n",
              "    }\n",
              "\n",
              "    .dataframe thead th {\n",
              "        text-align: right;\n",
              "    }\n",
              "</style>\n",
              "<table border=\"1\" class=\"dataframe\">\n",
              "  <thead>\n",
              "    <tr style=\"text-align: right;\">\n",
              "      <th></th>\n",
              "      <th>Unnamed: 0</th>\n",
              "      <th>title</th>\n",
              "      <th>url</th>\n",
              "      <th>room_description</th>\n",
              "      <th>city</th>\n",
              "      <th>evaluation</th>\n",
              "      <th>evaluation_description</th>\n",
              "      <th>reviews</th>\n",
              "      <th>score_position</th>\n",
              "      <th>price</th>\n",
              "    </tr>\n",
              "    <tr>\n",
              "      <th>hotel_id</th>\n",
              "      <th></th>\n",
              "      <th></th>\n",
              "      <th></th>\n",
              "      <th></th>\n",
              "      <th></th>\n",
              "      <th></th>\n",
              "      <th></th>\n",
              "      <th></th>\n",
              "      <th></th>\n",
              "      <th></th>\n",
              "    </tr>\n",
              "  </thead>\n",
              "  <tbody>\n",
              "    <tr>\n",
              "      <th>82855</th>\n",
              "      <td>0</td>\n",
              "      <td>Airone Pisa Park Hotel</td>\n",
              "      <td>https://www.booking.com/hotel/it/aironepisapar...</td>\n",
              "      <td>Camera Matrimoniale/Doppia con Letti Singoli  ...</td>\n",
              "      <td>Pisa Mostra sulla mappa</td>\n",
              "      <td>7,5</td>\n",
              "      <td>Buono</td>\n",
              "      <td>899 recensioni</td>\n",
              "      <td>NaN</td>\n",
              "      <td>US$441</td>\n",
              "    </tr>\n",
              "    <tr>\n",
              "      <th>4944541</th>\n",
              "      <td>1</td>\n",
              "      <td>Ladybug Apartment</td>\n",
              "      <td>https://www.booking.com/hotel/it/ladybug-apart...</td>\n",
              "      <td>Appartamento con 1 Camera da Letto  - \\nN° max...</td>\n",
              "      <td>Poggibonsi Mostra sulla mappa</td>\n",
              "      <td>9</td>\n",
              "      <td>Eccellente</td>\n",
              "      <td>26 recensioni</td>\n",
              "      <td>Pulizia 9,3</td>\n",
              "      <td>US$278</td>\n",
              "    </tr>\n",
              "    <tr>\n",
              "      <th>88393</th>\n",
              "      <td>2</td>\n",
              "      <td>Hotel Scilla</td>\n",
              "      <td>https://www.booking.com/hotel/it/scilla-e-loca...</td>\n",
              "      <td>Camera Matrimoniale Economy - Dependance  - \\n...</td>\n",
              "      <td>Sovana Mostra sulla mappa</td>\n",
              "      <td>8,4</td>\n",
              "      <td>Ottimo</td>\n",
              "      <td>631 recensioni</td>\n",
              "      <td>NaN</td>\n",
              "      <td>US$385</td>\n",
              "    </tr>\n",
              "    <tr>\n",
              "      <th>355785</th>\n",
              "      <td>3</td>\n",
              "      <td>Hotel Barberino</td>\n",
              "      <td>https://www.booking.com/hotel/it/barberino-500...</td>\n",
              "      <td>Camera Matrimoniale  - \\nN° max persone: 2</td>\n",
              "      <td>Barberino di Mugello Mostra sulla mappa</td>\n",
              "      <td>8,4</td>\n",
              "      <td>Ottimo</td>\n",
              "      <td>354 recensioni</td>\n",
              "      <td>NaN</td>\n",
              "      <td>US$519</td>\n",
              "    </tr>\n",
              "    <tr>\n",
              "      <th>480073</th>\n",
              "      <td>4</td>\n",
              "      <td>Hotel San Marco</td>\n",
              "      <td>https://www.booking.com/hotel/it/san-marco-pra...</td>\n",
              "      <td>Camera Matrimoniale  - \\nN° max persone: 2</td>\n",
              "      <td>Prato Mostra sulla mappa</td>\n",
              "      <td>8,9</td>\n",
              "      <td>Favoloso</td>\n",
              "      <td>378 recensioni</td>\n",
              "      <td>Pulizia 9,1</td>\n",
              "      <td>US$304</td>\n",
              "    </tr>\n",
              "  </tbody>\n",
              "</table>\n",
              "</div>"
            ],
            "text/plain": [
              "          Unnamed: 0                   title  ... score_position   price\n",
              "hotel_id                                      ...                       \n",
              "82855              0  Airone Pisa Park Hotel  ...            NaN  US$441\n",
              "4944541            1       Ladybug Apartment  ...    Pulizia 9,3  US$278\n",
              "88393              2            Hotel Scilla  ...            NaN  US$385\n",
              "355785             3         Hotel Barberino  ...            NaN  US$519\n",
              "480073             4         Hotel San Marco  ...    Pulizia 9,1  US$304\n",
              "\n",
              "[5 rows x 10 columns]"
            ]
          },
          "metadata": {
            "tags": []
          },
          "execution_count": 29
        }
      ]
    },
    {
      "cell_type": "code",
      "metadata": {
        "id": "1Zwzn0OLogPd",
        "colab_type": "code",
        "colab": {
          "base_uri": "https://localhost:8080/",
          "height": 306
        },
        "outputId": "2d127732-df8e-4ae7-c1f3-26a836a19542"
      },
      "source": [
        "ds_detail_hotel.info()"
      ],
      "execution_count": null,
      "outputs": [
        {
          "output_type": "stream",
          "text": [
            "<class 'pandas.core.frame.DataFrame'>\n",
            "Int64Index: 295 entries, 82855 to 572284\n",
            "Data columns (total 10 columns):\n",
            " #   Column                  Non-Null Count  Dtype \n",
            "---  ------                  --------------  ----- \n",
            " 0   Unnamed: 0              295 non-null    int64 \n",
            " 1   title                   295 non-null    object\n",
            " 2   url                     295 non-null    object\n",
            " 3   room_description        295 non-null    object\n",
            " 4   city                    295 non-null    object\n",
            " 5   evaluation              290 non-null    object\n",
            " 6   evaluation_description  290 non-null    object\n",
            " 7   reviews                 290 non-null    object\n",
            " 8   score_position          187 non-null    object\n",
            " 9   price                   295 non-null    object\n",
            "dtypes: int64(1), object(9)\n",
            "memory usage: 25.4+ KB\n"
          ],
          "name": "stdout"
        }
      ]
    },
    {
      "cell_type": "code",
      "metadata": {
        "id": "MhuMTHWiuYpn",
        "colab_type": "code",
        "colab": {
          "base_uri": "https://localhost:8080/",
          "height": 238
        },
        "outputId": "fbcec3c0-e0cd-4c76-a759-1ca1448599a3"
      },
      "source": [
        "ds_detail_hotel[\"url\"]"
      ],
      "execution_count": null,
      "outputs": [
        {
          "output_type": "execute_result",
          "data": {
            "text/plain": [
              "hotel_id\n",
              "82855      https://www.booking.com/hotel/it/aironepisapar...\n",
              "4944541    https://www.booking.com/hotel/it/ladybug-apart...\n",
              "88393      https://www.booking.com/hotel/it/scilla-e-loca...\n",
              "355785     https://www.booking.com/hotel/it/barberino-500...\n",
              "480073     https://www.booking.com/hotel/it/san-marco-pra...\n",
              "                                 ...                        \n",
              "3240271    https://www.booking.com/hotel/it/nemohouse-mon...\n",
              "1972372    https://www.booking.com/hotel/it/san-niccolo-w...\n",
              "4768449    https://www.booking.com/hotel/it/appartamento-...\n",
              "1166996    https://www.booking.com/hotel/it/oche-firenze2...\n",
              "572284     https://www.booking.com/hotel/it/relais-martin...\n",
              "Name: url, Length: 295, dtype: object"
            ]
          },
          "metadata": {
            "tags": []
          },
          "execution_count": 31
        }
      ]
    },
    {
      "cell_type": "code",
      "metadata": {
        "id": "qdTIV1Eu1pC6",
        "colab_type": "code",
        "colab": {}
      },
      "source": [
        "list_title = wd.find_elements_by_css_selector(\"p.address\")\n",
        "for hotel in list_title:\n",
        "  if (len(hotel.find_elements_by_css_selector(\".hp_address_subtitle\")) > 0):\n",
        "    address = wd.find_elements_by_css_selector(\".hp_address_subtitle\")[0].text\n",
        "    print(address)\n",
        "  else:\n",
        "    print(\"errore\")"
      ],
      "execution_count": null,
      "outputs": []
    },
    {
      "cell_type": "code",
      "metadata": {
        "id": "VV2ZqTYBojmB",
        "colab_type": "code",
        "colab": {
          "base_uri": "https://localhost:8080/",
          "height": 341,
          "referenced_widgets": [
            "dbed59e2eea44098bafcb3ed586979d8",
            "e1b571cde0cd49bbaf08b50949944010",
            "60eda272ebcd47bb818f735abc913bca",
            "e2b697c9a5854e40960483195f4c429d",
            "5dd8c62fc6f5473abd12499db97884f1",
            "f885bd5ad6c54d38ac40dfe74844ac02",
            "2a4060b7c3d04d57bdc605c47095ecb8",
            "1b8ce19cb037450ba1113dd5b7a6bbf1"
          ]
        },
        "outputId": "a96db834-e215-44c5-8f21-8d030fb02dd9"
      },
      "source": [
        "from selenium.webdriver.common.by import By\n",
        "from selenium.webdriver.support.ui import WebDriverWait\n",
        "from selenium.webdriver.support import expected_conditions as EC\n",
        "import time\n",
        "details = []\n",
        "for hotel_id, hotel in tqdm(ds_detail_hotel.head().iterrows()):\n",
        "    time.sleep(3)\n",
        "    link = hotel[\"url\"]\n",
        "    print(link)\n",
        "    wd.set_window_size(1920, 1080)   #fisso le dimensioni di risoluzione fissa così che il browser nascosto abbia la stessa riduzione del mio locale\n",
        "    wd.get(link)\n",
        "    #try:\n",
        "     # WebDriverWait(wd, 10).until(\n",
        "      #    EC.element_to_be_clickable((By.ID, \"button.txp-sidebar-cta\"))\n",
        "     # )\n",
        "     \n",
        "    #except:\n",
        "    #  continue\n",
        "    #if (len(wd.find_elements_by_css_selector(\".hp_address_subtitle\")) > 0):\n",
        "    address = wd.find_elements_by_css_selector(\".hp_address_subtitle\")[0].text\n",
        "    wd.save_screenshot(f'screenshot_{hotel_id}.png')\n",
        "    \n",
        "    details.append({'hotel_id': hotel_id,\n",
        "                    'address': address})\n",
        "                    \n",
        "  \n",
        "len(details)\n",
        "pprint.pprint(details)\n"
      ],
      "execution_count": null,
      "outputs": [
        {
          "output_type": "stream",
          "text": [
            "/usr/local/lib/python3.6/dist-packages/ipykernel_launcher.py:6: TqdmDeprecationWarning: This function will be removed in tqdm==5.0.0\n",
            "Please use `tqdm.notebook.tqdm` instead of `tqdm.tqdm_notebook`\n",
            "  \n"
          ],
          "name": "stderr"
        },
        {
          "output_type": "display_data",
          "data": {
            "application/vnd.jupyter.widget-view+json": {
              "model_id": "dbed59e2eea44098bafcb3ed586979d8",
              "version_minor": 0,
              "version_major": 2
            },
            "text/plain": [
              "HBox(children=(FloatProgress(value=1.0, bar_style='info', max=1.0), HTML(value='')))"
            ]
          },
          "metadata": {
            "tags": []
          }
        },
        {
          "output_type": "stream",
          "text": [
            "https://www.booking.com/hotel/it/aironepisaparkhotel.it.html?aid=304142&label=gen173nr-1FCAEoggI46AdIM1gEaHGIAQGYARS4ARfIAQzYAQHoAQH4AQuIAgGoAgO4ApzakPgFwAIB0gIkZGU3ZDYxMDMtZTQ1OC00Y2E2LTkxM2EtZTViNTJlYzk0NWU52AIG4AIB&sid=8e9d3bcf83d2e4ddec14b12890cfbfd5&all_sr_blocks=8285501_199864028_0_32_0&checkin=2020-08-03&checkout=2020-08-09&dest_id=910&dest_type=region&group_adults=2&group_children=0&hapos=1&highlighted_blocks=8285501_199864028_0_32_0&hpos=1&nflt=class%3D3%3B&no_rooms=1&sr_order=popularity&sr_pri_blocks=8285501_199864028_0_32_0__39240&srepoch=1594111383&srpvid=863e3d4b471b01bc&ucfs=1&from=searchresults;highlight_room=#hotelTmpl\n",
            "https://www.booking.com/hotel/it/ladybug-apartment.it.html?aid=304142&label=gen173nr-1FCAEoggI46AdIM1gEaHGIAQGYARS4ARfIAQzYAQHoAQH4AQuIAgGoAgO4ApzakPgFwAIB0gIkZGU3ZDYxMDMtZTQ1OC00Y2E2LTkxM2EtZTViNTJlYzk0NWU52AIG4AIB&sid=8e9d3bcf83d2e4ddec14b12890cfbfd5&all_sr_blocks=494454101_266295820_2_0_0&checkin=2020-08-03&checkout=2020-08-09&dest_id=910&dest_type=region&group_adults=2&group_children=0&hapos=2&highlighted_blocks=494454101_266295820_2_0_0&hpos=2&nflt=class%3D3%3B&no_rooms=1&sr_order=popularity&sr_pri_blocks=494454101_266295820_2_0_0__24749&srepoch=1594111383&srpvid=863e3d4b471b01bc&ucfs=1&from=searchresults;highlight_room=#hotelTmpl\n",
            "https://www.booking.com/hotel/it/scilla-e-locanda-della-taverna-etrusca.it.html?aid=304142&label=gen173nr-1FCAEoggI46AdIM1gEaHGIAQGYARS4ARfIAQzYAQHoAQH4AQuIAgGoAgO4ApzakPgFwAIB0gIkZGU3ZDYxMDMtZTQ1OC00Y2E2LTkxM2EtZTViNTJlYzk0NWU52AIG4AIB&sid=8e9d3bcf83d2e4ddec14b12890cfbfd5&all_sr_blocks=8839311_262386336_2_2_0&checkin=2020-08-03&checkout=2020-08-09&dest_id=910&dest_type=region&group_adults=2&group_children=0&hapos=3&highlighted_blocks=8839311_262386336_2_2_0&hpos=3&nflt=class%3D3%3B&no_rooms=1&sr_order=popularity&sr_pri_blocks=8839311_262386336_2_2_0__34207&srepoch=1594111383&srpvid=863e3d4b471b01bc&ucfs=1&from=searchresults;highlight_room=#hotelTmpl\n",
            "https://www.booking.com/hotel/it/barberino-50031.it.html?aid=304142&label=gen173nr-1FCAEoggI46AdIM1gEaHGIAQGYARS4ARfIAQzYAQHoAQH4AQuIAgGoAgO4ApzakPgFwAIB0gIkZGU3ZDYxMDMtZTQ1OC00Y2E2LTkxM2EtZTViNTJlYzk0NWU52AIG4AIB&sid=8e9d3bcf83d2e4ddec14b12890cfbfd5&all_sr_blocks=35578502_124109960_0_1_0&checkin=2020-08-03&checkout=2020-08-09&dest_id=910&dest_type=region&group_adults=2&group_children=0&hapos=4&highlighted_blocks=35578502_124109960_0_1_0&hpos=4&nflt=class%3D3%3B&no_rooms=1&sr_order=popularity&sr_pri_blocks=35578502_124109960_0_1_0__46199&srepoch=1594111383&srpvid=863e3d4b471b01bc&ucfs=1&from=searchresults;highlight_room=#hotelTmpl\n",
            "https://www.booking.com/hotel/it/san-marco-prato.it.html?aid=304142&label=gen173nr-1FCAEoggI46AdIM1gEaHGIAQGYARS4ARfIAQzYAQHoAQH4AQuIAgGoAgO4ApzakPgFwAIB0gIkZGU3ZDYxMDMtZTQ1OC00Y2E2LTkxM2EtZTViNTJlYzk0NWU52AIG4AIB&sid=8e9d3bcf83d2e4ddec14b12890cfbfd5&all_sr_blocks=48007301_200173129_0_2_0&checkin=2020-08-03&checkout=2020-08-09&dest_id=910&dest_type=region&group_adults=2&group_children=0&hapos=5&highlighted_blocks=48007301_200173129_0_2_0&hpos=5&nflt=class%3D3%3B&no_rooms=1&sr_order=popularity&sr_pri_blocks=48007301_200173129_0_2_0__27000&srepoch=1594111383&srpvid=863e3d4b471b01bc&ucfs=1&from=searchresults;highlight_room=#hotelTmpl\n",
            "\n",
            "[{'address': \"Via Sant'Elena, 4, 56127 Pisa, Italia\", 'hotel_id': 82855},\n",
            " {'address': 'Poggibonsi piazza indipendenza 12, 53036 Poggibonsi, Italia',\n",
            "  'hotel_id': 4944541},\n",
            " {'address': 'Via Rodolfo Siviero 3, 58010 Sovana, Italia', 'hotel_id': 88393},\n",
            " {'address': 'Via Del Lago 17, 50031 Barberino di Mugello, Italia',\n",
            "  'hotel_id': 355785},\n",
            " {'address': 'Piazza San Marco 48, 59100 Prato, Italia', 'hotel_id': 480073}]\n"
          ],
          "name": "stdout"
        }
      ]
    },
    {
      "cell_type": "code",
      "metadata": {
        "id": "QzTMKkgPoojv",
        "colab_type": "code",
        "colab": {
          "base_uri": "https://localhost:8080/",
          "height": 154,
          "referenced_widgets": [
            "b380a971a31642a08eddef25ef89aea1",
            "10413d4d68f540fcbdf1a16353425993",
            "2defa76fa6864200aa1d31a0adc29da7",
            "e4c0947792424b96b2d7090b2d8c72ae",
            "518c11b9e983476c8ca9dd6aba2121fd",
            "5ed8115a843548a4a69098a463ec910b",
            "4b985fe3a6ea4dc5b6f9f0c1cfcad8db",
            "3e6eb421a741401cbd013ea0e5f3ed68"
          ]
        },
        "outputId": "66ff4e30-f170-422f-8ff9-1f33b9ce64a4"
      },
      "source": [
        "from selenium.webdriver.common.by import By\n",
        "from selenium.webdriver.support.ui import WebDriverWait\n",
        "from selenium.webdriver.support import expected_conditions as EC\n",
        "import time\n",
        "details = []\n",
        "for hotel_id, hotel in tqdm(ds_detail_hotel.iterrows()):\n",
        "    time.sleep(2)\n",
        "    link = hotel[\"url\"]\n",
        "    address = 0\n",
        "    #print(link)\n",
        "    try:\n",
        "      wd.set_window_size(1920, 1080)\n",
        "      wd.get(link)\n",
        "      #try:\n",
        "       # WebDriverWait(wd, 10).until(\n",
        "            #EC.element_to_be_clickable((By.ID, \"button.txp-sidebar-cta\"))\n",
        "       # )\n",
        "      #except:\n",
        "      #  continue\n",
        "\n",
        "      #wd.save_screenshot(f'screenshot_{project_id}.png')\n",
        "      if (len(wd.find_elements_by_css_selector(\".hp_address_subtitle\")) > 0):\n",
        "         address = wd.find_elements_by_css_selector(\".hp_address_subtitle\")[0].text\n",
        "    except Exception as e:\n",
        "      #print(e)\n",
        "      pass\n",
        "    details.append({'hotel_id': hotel_id,\n",
        "                    'address': address})\n",
        "  \n",
        "print(len(details))\n",
        "#pprint.pprint(details)"
      ],
      "execution_count": null,
      "outputs": [
        {
          "output_type": "stream",
          "text": [
            "/usr/local/lib/python3.6/dist-packages/ipykernel_launcher.py:6: TqdmDeprecationWarning: This function will be removed in tqdm==5.0.0\n",
            "Please use `tqdm.notebook.tqdm` instead of `tqdm.tqdm_notebook`\n",
            "  \n"
          ],
          "name": "stderr"
        },
        {
          "output_type": "display_data",
          "data": {
            "application/vnd.jupyter.widget-view+json": {
              "model_id": "b380a971a31642a08eddef25ef89aea1",
              "version_minor": 0,
              "version_major": 2
            },
            "text/plain": [
              "HBox(children=(FloatProgress(value=1.0, bar_style='info', max=1.0), HTML(value='')))"
            ]
          },
          "metadata": {
            "tags": []
          }
        },
        {
          "output_type": "stream",
          "text": [
            "\n",
            "295\n"
          ],
          "name": "stdout"
        }
      ]
    },
    {
      "cell_type": "code",
      "metadata": {
        "id": "pHE9JEEOorF-",
        "colab_type": "code",
        "colab": {
          "base_uri": "https://localhost:8080/",
          "height": 34
        },
        "outputId": "d2255bc8-d497-43d3-bdf9-4b68720391b4"
      },
      "source": [
        "len(details)"
      ],
      "execution_count": null,
      "outputs": [
        {
          "output_type": "execute_result",
          "data": {
            "text/plain": [
              "295"
            ]
          },
          "metadata": {
            "tags": []
          },
          "execution_count": 35
        }
      ]
    },
    {
      "cell_type": "code",
      "metadata": {
        "id": "XzSiK0p1ouJI",
        "colab_type": "code",
        "colab": {
          "base_uri": "https://localhost:8080/",
          "height": 204
        },
        "outputId": "49f831b1-99e6-48db-837b-008822db952c"
      },
      "source": [
        "import pandas as pd\n",
        "ds_details = pd.DataFrame(details)\n",
        "ds_details.set_index(\"hotel_id\")\n",
        "ds_details.head()"
      ],
      "execution_count": null,
      "outputs": [
        {
          "output_type": "execute_result",
          "data": {
            "text/html": [
              "<div>\n",
              "<style scoped>\n",
              "    .dataframe tbody tr th:only-of-type {\n",
              "        vertical-align: middle;\n",
              "    }\n",
              "\n",
              "    .dataframe tbody tr th {\n",
              "        vertical-align: top;\n",
              "    }\n",
              "\n",
              "    .dataframe thead th {\n",
              "        text-align: right;\n",
              "    }\n",
              "</style>\n",
              "<table border=\"1\" class=\"dataframe\">\n",
              "  <thead>\n",
              "    <tr style=\"text-align: right;\">\n",
              "      <th></th>\n",
              "      <th>hotel_id</th>\n",
              "      <th>address</th>\n",
              "    </tr>\n",
              "  </thead>\n",
              "  <tbody>\n",
              "    <tr>\n",
              "      <th>0</th>\n",
              "      <td>82855</td>\n",
              "      <td>Via Sant'Elena, 4, 56127 Pisa, Italia</td>\n",
              "    </tr>\n",
              "    <tr>\n",
              "      <th>1</th>\n",
              "      <td>4944541</td>\n",
              "      <td>Poggibonsi piazza indipendenza 12, 53036 Poggi...</td>\n",
              "    </tr>\n",
              "    <tr>\n",
              "      <th>2</th>\n",
              "      <td>88393</td>\n",
              "      <td>Via Rodolfo Siviero 3, 58010 Sovana, Italia</td>\n",
              "    </tr>\n",
              "    <tr>\n",
              "      <th>3</th>\n",
              "      <td>355785</td>\n",
              "      <td>Via Del Lago 17, 50031 Barberino di Mugello, I...</td>\n",
              "    </tr>\n",
              "    <tr>\n",
              "      <th>4</th>\n",
              "      <td>480073</td>\n",
              "      <td>Piazza San Marco 48, 59100 Prato, Italia</td>\n",
              "    </tr>\n",
              "  </tbody>\n",
              "</table>\n",
              "</div>"
            ],
            "text/plain": [
              "   hotel_id                                            address\n",
              "0     82855              Via Sant'Elena, 4, 56127 Pisa, Italia\n",
              "1   4944541  Poggibonsi piazza indipendenza 12, 53036 Poggi...\n",
              "2     88393        Via Rodolfo Siviero 3, 58010 Sovana, Italia\n",
              "3    355785  Via Del Lago 17, 50031 Barberino di Mugello, I...\n",
              "4    480073           Piazza San Marco 48, 59100 Prato, Italia"
            ]
          },
          "metadata": {
            "tags": []
          },
          "execution_count": 36
        }
      ]
    },
    {
      "cell_type": "code",
      "metadata": {
        "id": "d0sMEKaYoweM",
        "colab_type": "code",
        "colab": {
          "base_uri": "https://localhost:8080/",
          "height": 170
        },
        "outputId": "1c131b64-7d5a-4e1c-a186-ea8176153f24"
      },
      "source": [
        "ds_details.info()"
      ],
      "execution_count": null,
      "outputs": [
        {
          "output_type": "stream",
          "text": [
            "<class 'pandas.core.frame.DataFrame'>\n",
            "RangeIndex: 295 entries, 0 to 294\n",
            "Data columns (total 2 columns):\n",
            " #   Column    Non-Null Count  Dtype \n",
            "---  ------    --------------  ----- \n",
            " 0   hotel_id  295 non-null    int64 \n",
            " 1   address   295 non-null    object\n",
            "dtypes: int64(1), object(1)\n",
            "memory usage: 4.7+ KB\n"
          ],
          "name": "stdout"
        }
      ]
    },
    {
      "cell_type": "code",
      "metadata": {
        "id": "2vBltw1joyMy",
        "colab_type": "code",
        "colab": {}
      },
      "source": [
        "ds_details.to_csv(\"ds_hotel_details_address1.csv\")"
      ],
      "execution_count": null,
      "outputs": []
    },
    {
      "cell_type": "markdown",
      "metadata": {
        "id": "C1C39azXP7T8",
        "colab_type": "text"
      },
      "source": [
        "Estraggo informazioni di dettaglio sulla salute e igiene."
      ]
    },
    {
      "cell_type": "code",
      "metadata": {
        "id": "5-lX8zbBtshZ",
        "colab_type": "code",
        "colab": {
          "base_uri": "https://localhost:8080/",
          "height": 1000,
          "referenced_widgets": [
            "059be392a51d4ba8b77b7540077d4bab",
            "6d37b33bc6d4400bb9692fb029d562df",
            "608ae9e526e74a33adc1c712d52c8d4e",
            "b37ee60239c943c78a043212ae09214e",
            "0388cfa52cab485c9209e3fe34349b83",
            "a73c2e343d2447b7bdc10a9a69061ab9",
            "d540ddfaad6e41c395ce1f5647642f1b",
            "cf3acd41a3314f36847ece5fb47620a7"
          ]
        },
        "outputId": "0373ea41-902b-4168-d89c-1ce2bfe7ee79"
      },
      "source": [
        "from selenium.webdriver.common.by import By\n",
        "from selenium.webdriver.support.ui import WebDriverWait\n",
        "from selenium.webdriver.support import expected_conditions as EC\n",
        "import time\n",
        "details = []\n",
        "for hotel_id, hotel in tqdm(ds_detail_hotel.iterrows()):\n",
        "    time.sleep(2)\n",
        "    link = hotel[\"url\"]\n",
        "    salute_igiene = 0\n",
        "    salute = 0\n",
        "    #print(link)\n",
        "    try:\n",
        "      wd.set_window_size(1920, 1080)\n",
        "      wd.get(link)\n",
        "      #try:\n",
        "       # WebDriverWait(wd, 10).until(\n",
        "            #EC.element_to_be_clickable((By.ID, \"button.txp-sidebar-cta\"))\n",
        "       # )\n",
        "      #except:\n",
        "      #  continue\n",
        "\n",
        "      #wd.save_screenshot(f'screenshot_{project_id}.png')\n",
        "      if (len(wd.find_elements_by_css_selector(\"div.safety-standards--body\")) > 0):\n",
        "         salute = wd.find_elements_by_css_selector(\"div.safety-standards--body\")[0].text\n",
        "         salute_igiene = salute.replace('\\n', '-')\n",
        "    except Exception as e:\n",
        "      #print(e)\n",
        "      pass\n",
        "    details.append({'hotel_id': hotel_id,\n",
        "                    'salute_igiene': salute_igiene})\n",
        "  \n",
        "print(len(details))\n",
        "pprint.pprint(details)"
      ],
      "execution_count": null,
      "outputs": [
        {
          "output_type": "stream",
          "text": [
            "/usr/local/lib/python3.6/dist-packages/ipykernel_launcher.py:6: TqdmDeprecationWarning: This function will be removed in tqdm==5.0.0\n",
            "Please use `tqdm.notebook.tqdm` instead of `tqdm.tqdm_notebook`\n",
            "  \n"
          ],
          "name": "stderr"
        },
        {
          "output_type": "display_data",
          "data": {
            "application/vnd.jupyter.widget-view+json": {
              "model_id": "059be392a51d4ba8b77b7540077d4bab",
              "version_minor": 0,
              "version_major": 2
            },
            "text/plain": [
              "HBox(children=(FloatProgress(value=1.0, bar_style='info', max=1.0), HTML(value='')))"
            ]
          },
          "metadata": {
            "tags": []
          }
        },
        {
          "output_type": "stream",
          "text": [
            "\n",
            "295\n",
            "[{'hotel_id': 82855,\n",
            "  'salute_igiene': 'Dispositivi per la sicurezza-4 misure-Pulizia-5 '\n",
            "                   'misure-Distanziamento fisico-4 misure-Sicurezza per cibo e '\n",
            "                   'bevande-3 misure'},\n",
            " {'hotel_id': 4944541,\n",
            "  'salute_igiene': 'Dispositivi per la sicurezza-1 misure-Pulizia-3 '\n",
            "                   'misure-Distanziamento fisico-1 misure'},\n",
            " {'hotel_id': 88393, 'salute_igiene': 0},\n",
            " {'hotel_id': 355785, 'salute_igiene': 0},\n",
            " {'hotel_id': 480073, 'salute_igiene': 0},\n",
            " {'hotel_id': 3278485, 'salute_igiene': 0},\n",
            " {'hotel_id': 80651, 'salute_igiene': 0},\n",
            " {'hotel_id': 24998, 'salute_igiene': 0},\n",
            " {'hotel_id': 80746,\n",
            "  'salute_igiene': 'Dispositivi per la sicurezza-4 misure-Pulizia-4 '\n",
            "                   'misure-Distanziamento fisico-3 misure-Sicurezza per cibo e '\n",
            "                   'bevande-3 misure'},\n",
            " {'hotel_id': 80574,\n",
            "  'salute_igiene': 'Dispositivi per la sicurezza-4 misure-Pulizia-6 '\n",
            "                   'misure-Distanziamento fisico-3 misure-Sicurezza per cibo e '\n",
            "                   'bevande-3 misure'},\n",
            " {'hotel_id': 42202,\n",
            "  'salute_igiene': 'Dispositivi per la sicurezza-3 misure-Pulizia-5 '\n",
            "                   'misure-Distanziamento fisico-3 misure-Sicurezza per cibo e '\n",
            "                   'bevande-1 misure'},\n",
            " {'hotel_id': 250028, 'salute_igiene': 0},\n",
            " {'hotel_id': 80858, 'salute_igiene': 0},\n",
            " {'hotel_id': 81446, 'salute_igiene': 0},\n",
            " {'hotel_id': 80200,\n",
            "  'salute_igiene': 'Dispositivi per la sicurezza-5 misure-Pulizia-4 '\n",
            "                   'misure-Distanziamento fisico-3 misure-Sicurezza per cibo e '\n",
            "                   'bevande-2 misure'},\n",
            " {'hotel_id': 81430,\n",
            "  'salute_igiene': 'Dispositivi per la sicurezza-3 misure-Pulizia-4 '\n",
            "                   'misure-Distanziamento fisico-4 misure-Sicurezza per cibo e '\n",
            "                   'bevande-2 misure'},\n",
            " {'hotel_id': 4166303, 'salute_igiene': 0},\n",
            " {'hotel_id': 4301121, 'salute_igiene': 0},\n",
            " {'hotel_id': 573199, 'salute_igiene': 0},\n",
            " {'hotel_id': 82002,\n",
            "  'salute_igiene': 'Dispositivi per la sicurezza-4 misure-Pulizia-6 '\n",
            "                   'misure-Distanziamento fisico-3 misure-Sicurezza per cibo e '\n",
            "                   'bevande-3 misure'},\n",
            " {'hotel_id': 4613121,\n",
            "  'salute_igiene': 'Dispositivi per la sicurezza-1 misure-Pulizia-5 '\n",
            "                   'misure-Distanziamento fisico-3 misure-Sicurezza per cibo e '\n",
            "                   'bevande-1 misure'},\n",
            " {'hotel_id': 3920903, 'salute_igiene': 0},\n",
            " {'hotel_id': 84138, 'salute_igiene': 0},\n",
            " {'hotel_id': 5164821, 'salute_igiene': 0},\n",
            " {'hotel_id': 83887, 'salute_igiene': 0},\n",
            " {'hotel_id': 768560,\n",
            "  'salute_igiene': 'Dispositivi per la sicurezza-5 misure-Pulizia-6 '\n",
            "                   'misure-Distanziamento fisico-3 misure-Sicurezza per cibo e '\n",
            "                   'bevande-3 misure'},\n",
            " {'hotel_id': 80645,\n",
            "  'salute_igiene': 'Dispositivi per la sicurezza-4 misure-Pulizia-3 '\n",
            "                   'misure-Distanziamento fisico-2 misure-Sicurezza per cibo e '\n",
            "                   'bevande-3 misure'},\n",
            " {'hotel_id': 3120436, 'salute_igiene': 0},\n",
            " {'hotel_id': 4033439, 'salute_igiene': 0},\n",
            " {'hotel_id': 4166303, 'salute_igiene': 0},\n",
            " {'hotel_id': 89878, 'salute_igiene': 0},\n",
            " {'hotel_id': 392705,\n",
            "  'salute_igiene': 'Dispositivi per la sicurezza-5 misure-Pulizia-6 '\n",
            "                   'misure-Distanziamento fisico-5 misure-Sicurezza per cibo e '\n",
            "                   'bevande-3 misure'},\n",
            " {'hotel_id': 12479, 'salute_igiene': 0},\n",
            " {'hotel_id': 4901222,\n",
            "  'salute_igiene': 'Dispositivi per la sicurezza-3 misure-Pulizia-4 misure'},\n",
            " {'hotel_id': 80299,\n",
            "  'salute_igiene': 'Dispositivi per la sicurezza-5 misure-Pulizia-4 '\n",
            "                   'misure-Distanziamento fisico-3 misure-Sicurezza per cibo e '\n",
            "                   'bevande-2 misure'},\n",
            " {'hotel_id': 4613121,\n",
            "  'salute_igiene': 'Dispositivi per la sicurezza-1 misure-Pulizia-5 '\n",
            "                   'misure-Distanziamento fisico-3 misure-Sicurezza per cibo e '\n",
            "                   'bevande-1 misure'},\n",
            " {'hotel_id': 3720101, 'salute_igiene': 0},\n",
            " {'hotel_id': 85339, 'salute_igiene': 0},\n",
            " {'hotel_id': 84867, 'salute_igiene': 0},\n",
            " {'hotel_id': 5230979,\n",
            "  'salute_igiene': 'Dispositivi per la sicurezza-1 misure-Pulizia-5 '\n",
            "                   'misure-Distanziamento fisico-3 misure-Sicurezza per cibo e '\n",
            "                   'bevande-1 misure'},\n",
            " {'hotel_id': 548837,\n",
            "  'salute_igiene': 'Dispositivi per la sicurezza-3 misure-Pulizia-5 '\n",
            "                   'misure-Distanziamento fisico-2 misure'},\n",
            " {'hotel_id': 83571,\n",
            "  'salute_igiene': 'Dispositivi per la sicurezza-5 misure-Pulizia-6 '\n",
            "                   'misure-Distanziamento fisico-4 misure-Sicurezza per cibo e '\n",
            "                   'bevande-3 misure'},\n",
            " {'hotel_id': 236844,\n",
            "  'salute_igiene': 'Dispositivi per la sicurezza-4 misure-Pulizia-5 '\n",
            "                   'misure-Distanziamento fisico-3 misure-Sicurezza per cibo e '\n",
            "                   'bevande-3 misure'},\n",
            " {'hotel_id': 5146226,\n",
            "  'salute_igiene': 'Dispositivi per la sicurezza-3 misure-Pulizia-5 '\n",
            "                   'misure-Distanziamento fisico-1 misure'},\n",
            " {'hotel_id': 80346, 'salute_igiene': 0},\n",
            " {'hotel_id': 81059,\n",
            "  'salute_igiene': 'Dispositivi per la sicurezza-3 misure-Pulizia-4 '\n",
            "                   'misure-Distanziamento fisico-3 misure-Sicurezza per cibo e '\n",
            "                   'bevande-2 misure'},\n",
            " {'hotel_id': 4196893, 'salute_igiene': 0},\n",
            " {'hotel_id': 3526703, 'salute_igiene': 0},\n",
            " {'hotel_id': 80801, 'salute_igiene': 0},\n",
            " {'hotel_id': 81014,\n",
            "  'salute_igiene': 'Dispositivi per la sicurezza-3 misure-Pulizia-4 '\n",
            "                   'misure-Distanziamento fisico-3 misure-Sicurezza per cibo e '\n",
            "                   'bevande-2 misure'},\n",
            " {'hotel_id': 192018, 'salute_igiene': 0},\n",
            " {'hotel_id': 251690, 'salute_igiene': 0},\n",
            " {'hotel_id': 5069804,\n",
            "  'salute_igiene': 'Dispositivi per la sicurezza-2 misure-Pulizia-4 misure'},\n",
            " {'hotel_id': 1770066, 'salute_igiene': 0},\n",
            " {'hotel_id': 80431, 'salute_igiene': 0},\n",
            " {'hotel_id': 420306,\n",
            "  'salute_igiene': 'Dispositivi per la sicurezza-4 misure-Pulizia-5 '\n",
            "                   'misure-Distanziamento fisico-2 misure-Sicurezza per cibo e '\n",
            "                   'bevande-2 misure'},\n",
            " {'hotel_id': 3120436, 'salute_igiene': 0},\n",
            " {'hotel_id': 3680493, 'salute_igiene': 0},\n",
            " {'hotel_id': 346468, 'salute_igiene': 0},\n",
            " {'hotel_id': 13473, 'salute_igiene': 0},\n",
            " {'hotel_id': 81444, 'salute_igiene': 0},\n",
            " {'hotel_id': 81616,\n",
            "  'salute_igiene': 'Dispositivi per la sicurezza-4 misure-Pulizia-4 '\n",
            "                   'misure-Distanziamento fisico-3 misure-Sicurezza per cibo e '\n",
            "                   'bevande-2 misure'},\n",
            " {'hotel_id': 4033439, 'salute_igiene': 0},\n",
            " {'hotel_id': 2820601, 'salute_igiene': 0},\n",
            " {'hotel_id': 301350, 'salute_igiene': 0},\n",
            " {'hotel_id': 4619639,\n",
            "  'salute_igiene': 'Dispositivi per la sicurezza-3 misure-Pulizia-4 '\n",
            "                   'misure-Distanziamento fisico-3 misure'},\n",
            " {'hotel_id': 80512,\n",
            "  'salute_igiene': 'Dispositivi per la sicurezza-5 misure-Pulizia-4 '\n",
            "                   'misure-Distanziamento fisico-3 misure-Sicurezza per cibo e '\n",
            "                   'bevande-2 misure'},\n",
            " {'hotel_id': 80817, 'salute_igiene': 0},\n",
            " {'hotel_id': 256603,\n",
            "  'salute_igiene': 'Dispositivi per la sicurezza-5 misure-Pulizia-6 '\n",
            "                   'misure-Distanziamento fisico-5 misure-Sicurezza per cibo e '\n",
            "                   'bevande-3 misure'},\n",
            " {'hotel_id': 83933, 'salute_igiene': 0},\n",
            " {'hotel_id': 4068596, 'salute_igiene': 0},\n",
            " {'hotel_id': 3100660, 'salute_igiene': 0},\n",
            " {'hotel_id': 5160598,\n",
            "  'salute_igiene': 'Dispositivi per la sicurezza-1 misure-Pulizia-3 '\n",
            "                   'misure-Distanziamento fisico-1 misure'},\n",
            " {'hotel_id': 88753,\n",
            "  'salute_igiene': 'Dispositivi per la sicurezza-4 misure-Pulizia-4 '\n",
            "                   'misure-Distanziamento fisico-3 misure-Sicurezza per cibo e '\n",
            "                   'bevande-2 misure'},\n",
            " {'hotel_id': 4088300, 'salute_igiene': 0},\n",
            " {'hotel_id': 3108193, 'salute_igiene': 0},\n",
            " {'hotel_id': 2863727, 'salute_igiene': 0},\n",
            " {'hotel_id': 302859,\n",
            "  'salute_igiene': 'Dispositivi per la sicurezza-1 misure-Distanziamento '\n",
            "                   'fisico-2 misure'},\n",
            " {'hotel_id': 85585,\n",
            "  'salute_igiene': 'Dispositivi per la sicurezza-5 misure-Pulizia-6 '\n",
            "                   'misure-Distanziamento fisico-4 misure-Sicurezza per cibo e '\n",
            "                   'bevande-3 misure'},\n",
            " {'hotel_id': 1033030, 'salute_igiene': 0},\n",
            " {'hotel_id': 80483, 'salute_igiene': 0},\n",
            " {'hotel_id': 81044, 'salute_igiene': 0},\n",
            " {'hotel_id': 47010,\n",
            "  'salute_igiene': 'Dispositivi per la sicurezza-5 misure-Pulizia-3 '\n",
            "                   'misure-Distanziamento fisico-2 misure-Sicurezza per cibo e '\n",
            "                   'bevande-2 misure'},\n",
            " {'hotel_id': 4901222,\n",
            "  'salute_igiene': 'Dispositivi per la sicurezza-3 misure-Pulizia-4 misure'},\n",
            " {'hotel_id': 3679917,\n",
            "  'salute_igiene': 'Dispositivi per la sicurezza-4 misure-Pulizia-4 '\n",
            "                   'misure-Distanziamento fisico-1 misure-Sicurezza per cibo e '\n",
            "                   'bevande-1 misure'},\n",
            " {'hotel_id': 80978,\n",
            "  'salute_igiene': 'Dispositivi per la sicurezza-4 misure-Pulizia-4 '\n",
            "                   'misure-Distanziamento fisico-3 misure-Sicurezza per cibo e '\n",
            "                   'bevande-3 misure'},\n",
            " {'hotel_id': 85342,\n",
            "  'salute_igiene': 'Dispositivi per la sicurezza-5 misure-Pulizia-4 '\n",
            "                   'misure-Distanziamento fisico-3 misure-Sicurezza per cibo e '\n",
            "                   'bevande-3 misure'},\n",
            " {'hotel_id': 883722, 'salute_igiene': 0},\n",
            " {'hotel_id': 81393, 'salute_igiene': 0},\n",
            " {'hotel_id': 3720101, 'salute_igiene': 0},\n",
            " {'hotel_id': 3278839, 'salute_igiene': 0},\n",
            " {'hotel_id': 3850901, 'salute_igiene': 0},\n",
            " {'hotel_id': 1272442,\n",
            "  'salute_igiene': 'Dispositivi per la sicurezza-4 misure-Pulizia-4 '\n",
            "                   'misure-Distanziamento fisico-1 misure-Sicurezza per cibo e '\n",
            "                   'bevande-2 misure'},\n",
            " {'hotel_id': 2801800,\n",
            "  'salute_igiene': 'Dispositivi per la sicurezza-2 misure-Pulizia-4 '\n",
            "                   'misure-Distanziamento fisico-1 misure'},\n",
            " {'hotel_id': 80138, 'salute_igiene': 0},\n",
            " {'hotel_id': 1789646,\n",
            "  'salute_igiene': 'Dispositivi per la sicurezza-5 misure-Pulizia-5 '\n",
            "                   'misure-Distanziamento fisico-3 misure-Sicurezza per cibo e '\n",
            "                   'bevande-2 misure'},\n",
            " {'hotel_id': 83988, 'salute_igiene': 0},\n",
            " {'hotel_id': 13078,\n",
            "  'salute_igiene': 'Dispositivi per la sicurezza-4 misure-Pulizia-5 '\n",
            "                   'misure-Distanziamento fisico-4 misure-Sicurezza per cibo e '\n",
            "                   'bevande-2 misure'},\n",
            " {'hotel_id': 80655, 'salute_igiene': 0},\n",
            " {'hotel_id': 4779762, 'salute_igiene': 0},\n",
            " {'hotel_id': 88387, 'salute_igiene': 0},\n",
            " {'hotel_id': 5035829,\n",
            "  'salute_igiene': 'Dispositivi per la sicurezza-1 misure-Pulizia-4 '\n",
            "                   'misure-Distanziamento fisico-1 misure-Sicurezza per cibo e '\n",
            "                   'bevande-1 misure'},\n",
            " {'hotel_id': 87497,\n",
            "  'salute_igiene': 'Dispositivi per la sicurezza-5 misure-Pulizia-5 '\n",
            "                   'misure-Distanziamento fisico-4 misure-Sicurezza per cibo e '\n",
            "                   'bevande-3 misure'},\n",
            " {'hotel_id': 3061137, 'salute_igiene': 0},\n",
            " {'hotel_id': 83948, 'salute_igiene': 0},\n",
            " {'hotel_id': 783277, 'salute_igiene': 0},\n",
            " {'hotel_id': 573207, 'salute_igiene': 0},\n",
            " {'hotel_id': 84264,\n",
            "  'salute_igiene': 'Pulizia-5 misure-Distanziamento fisico-2 misure-Sicurezza '\n",
            "                   'per cibo e bevande-2 misure'},\n",
            " {'hotel_id': 1336402, 'salute_igiene': 0},\n",
            " {'hotel_id': 187261,\n",
            "  'salute_igiene': 'Dispositivi per la sicurezza-4 misure-Pulizia-5 '\n",
            "                   'misure-Distanziamento fisico-4 misure-Sicurezza per cibo e '\n",
            "                   'bevande-3 misure'},\n",
            " {'hotel_id': 5230979,\n",
            "  'salute_igiene': 'Dispositivi per la sicurezza-1 misure-Pulizia-5 '\n",
            "                   'misure-Distanziamento fisico-3 misure-Sicurezza per cibo e '\n",
            "                   'bevande-1 misure'},\n",
            " {'hotel_id': 81940, 'salute_igiene': 0},\n",
            " {'hotel_id': 186395,\n",
            "  'salute_igiene': 'Dispositivi per la sicurezza-3 misure-Pulizia-4 '\n",
            "                   'misure-Distanziamento fisico-3 misure-Sicurezza per cibo e '\n",
            "                   'bevande-3 misure'},\n",
            " {'hotel_id': 82947, 'salute_igiene': 0},\n",
            " {'hotel_id': 5784289, 'salute_igiene': 0},\n",
            " {'hotel_id': 1915705,\n",
            "  'salute_igiene': 'Dispositivi per la sicurezza-1 misure-Pulizia-4 '\n",
            "                   'misure-Distanziamento fisico-1 misure-Sicurezza per cibo e '\n",
            "                   'bevande-2 misure'},\n",
            " {'hotel_id': 548837,\n",
            "  'salute_igiene': 'Dispositivi per la sicurezza-3 misure-Pulizia-5 '\n",
            "                   'misure-Distanziamento fisico-2 misure'},\n",
            " {'hotel_id': 5024675, 'salute_igiene': 0},\n",
            " {'hotel_id': 3202877, 'salute_igiene': 0},\n",
            " {'hotel_id': 4482084, 'salute_igiene': 0},\n",
            " {'hotel_id': 2924200,\n",
            "  'salute_igiene': 'Dispositivi per la sicurezza-4 misure-Pulizia-6 '\n",
            "                   'misure-Distanziamento fisico-3 misure-Sicurezza per cibo e '\n",
            "                   'bevande-1 misure'},\n",
            " {'hotel_id': 4271920, 'salute_igiene': 0},\n",
            " {'hotel_id': 1094127, 'salute_igiene': 0},\n",
            " {'hotel_id': 1435703, 'salute_igiene': 0},\n",
            " {'hotel_id': 23435, 'salute_igiene': 0},\n",
            " {'hotel_id': 218300, 'salute_igiene': 0},\n",
            " {'hotel_id': 81653,\n",
            "  'salute_igiene': 'Dispositivi per la sicurezza-4 misure-Pulizia-4 '\n",
            "                   'misure-Distanziamento fisico-3 misure-Sicurezza per cibo e '\n",
            "                   'bevande-3 misure'},\n",
            " {'hotel_id': 5395101, 'salute_igiene': 0},\n",
            " {'hotel_id': 1377214,\n",
            "  'salute_igiene': 'Dispositivi per la sicurezza-3 misure-Pulizia-4 '\n",
            "                   'misure-Distanziamento fisico-1 misure-Sicurezza per cibo e '\n",
            "                   'bevande-1 misure'},\n",
            " {'hotel_id': 3519044, 'salute_igiene': 0},\n",
            " {'hotel_id': 285391,\n",
            "  'salute_igiene': 'Dispositivi per la sicurezza-4 misure-Pulizia-5 '\n",
            "                   'misure-Distanziamento fisico-3 misure-Sicurezza per cibo e '\n",
            "                   'bevande-2 misure'},\n",
            " {'hotel_id': 5733634, 'salute_igiene': 0},\n",
            " {'hotel_id': 176768, 'salute_igiene': 0},\n",
            " {'hotel_id': 80230,\n",
            "  'salute_igiene': 'Dispositivi per la sicurezza-4 misure-Pulizia-5 '\n",
            "                   'misure-Distanziamento fisico-4 misure-Sicurezza per cibo e '\n",
            "                   'bevande-3 misure'},\n",
            " {'hotel_id': 1287307, 'salute_igiene': 0},\n",
            " {'hotel_id': 2279390, 'salute_igiene': 0},\n",
            " {'hotel_id': 18927,\n",
            "  'salute_igiene': 'Dispositivi per la sicurezza-5 misure-Pulizia-6 '\n",
            "                   'misure-Distanziamento fisico-4 misure-Sicurezza per cibo e '\n",
            "                   'bevande-3 misure'},\n",
            " {'hotel_id': 5146226,\n",
            "  'salute_igiene': 'Dispositivi per la sicurezza-3 misure-Pulizia-5 '\n",
            "                   'misure-Distanziamento fisico-1 misure'},\n",
            " {'hotel_id': 3642420, 'salute_igiene': 0},\n",
            " {'hotel_id': 2031640, 'salute_igiene': 0},\n",
            " {'hotel_id': 48935, 'salute_igiene': 0},\n",
            " {'hotel_id': 239163, 'salute_igiene': 0},\n",
            " {'hotel_id': 83868,\n",
            "  'salute_igiene': 'Dispositivi per la sicurezza-5 misure-Pulizia-5 '\n",
            "                   'misure-Distanziamento fisico-4 misure-Sicurezza per cibo e '\n",
            "                   'bevande-3 misure'},\n",
            " {'hotel_id': 4196893, 'salute_igiene': 0},\n",
            " {'hotel_id': 827636, 'salute_igiene': 0},\n",
            " {'hotel_id': 271180, 'salute_igiene': 0},\n",
            " {'hotel_id': 83345, 'salute_igiene': 0},\n",
            " {'hotel_id': 361473, 'salute_igiene': 0},\n",
            " {'hotel_id': 4870561, 'salute_igiene': 0},\n",
            " {'hotel_id': 4523478, 'salute_igiene': 0},\n",
            " {'hotel_id': 1630439,\n",
            "  'salute_igiene': 'Dispositivi per la sicurezza-3 misure-Pulizia-3 '\n",
            "                   'misure-Distanziamento fisico-2 misure-Sicurezza per cibo e '\n",
            "                   'bevande-2 misure'},\n",
            " {'hotel_id': 280616, 'salute_igiene': 0},\n",
            " {'hotel_id': 84684, 'salute_igiene': 0},\n",
            " {'hotel_id': 1389158, 'salute_igiene': 0},\n",
            " {'hotel_id': 3925800, 'salute_igiene': 0},\n",
            " {'hotel_id': 81460,\n",
            "  'salute_igiene': 'Dispositivi per la sicurezza-5 misure-Pulizia-4 '\n",
            "                   'misure-Distanziamento fisico-3 misure-Sicurezza per cibo e '\n",
            "                   'bevande-2 misure'},\n",
            " {'hotel_id': 5304699, 'salute_igiene': 0},\n",
            " {'hotel_id': 82878,\n",
            "  'salute_igiene': 'Dispositivi per la sicurezza-2 misure-Pulizia-4 '\n",
            "                   'misure-Distanziamento fisico-2 misure'},\n",
            " {'hotel_id': 81318, 'salute_igiene': 0},\n",
            " {'hotel_id': 82935, 'salute_igiene': 0},\n",
            " {'hotel_id': 871432, 'salute_igiene': 0},\n",
            " {'hotel_id': 2207799, 'salute_igiene': 0},\n",
            " {'hotel_id': 2815733, 'salute_igiene': 0},\n",
            " {'hotel_id': 1327843,\n",
            "  'salute_igiene': 'Dispositivi per la sicurezza-4 misure-Pulizia-3 '\n",
            "                   'misure-Distanziamento fisico-3 misure-Sicurezza per cibo e '\n",
            "                   'bevande-3 misure'},\n",
            " {'hotel_id': 3526703, 'salute_igiene': 0},\n",
            " {'hotel_id': 460961,\n",
            "  'salute_igiene': 'Dispositivi per la sicurezza-3 misure-Pulizia-6 '\n",
            "                   'misure-Distanziamento fisico-2 misure-Sicurezza per cibo e '\n",
            "                   'bevande-2 misure'},\n",
            " {'hotel_id': 2331600, 'salute_igiene': 0},\n",
            " {'hotel_id': 1085475, 'salute_igiene': 0},\n",
            " {'hotel_id': 80691, 'salute_igiene': 0},\n",
            " {'hotel_id': 1308690, 'salute_igiene': 0},\n",
            " {'hotel_id': 5069804,\n",
            "  'salute_igiene': 'Dispositivi per la sicurezza-2 misure-Pulizia-4 misure'},\n",
            " {'hotel_id': 2657902,\n",
            "  'salute_igiene': 'Dispositivi per la sicurezza-2 misure-Pulizia-5 misure'},\n",
            " {'hotel_id': 2029522, 'salute_igiene': 0},\n",
            " {'hotel_id': 81295, 'salute_igiene': 0},\n",
            " {'hotel_id': 83406, 'salute_igiene': 0},\n",
            " {'hotel_id': 4463750, 'salute_igiene': 0},\n",
            " {'hotel_id': 2221208, 'salute_igiene': 0},\n",
            " {'hotel_id': 2875902, 'salute_igiene': 0},\n",
            " {'hotel_id': 83697,\n",
            "  'salute_igiene': 'Dispositivi per la sicurezza-4 misure-Pulizia-4 '\n",
            "                   'misure-Distanziamento fisico-4 misure-Sicurezza per cibo e '\n",
            "                   'bevande-3 misure'},\n",
            " {'hotel_id': 1369633, 'salute_igiene': 0},\n",
            " {'hotel_id': 80804, 'salute_igiene': 0},\n",
            " {'hotel_id': 26454, 'salute_igiene': 0},\n",
            " {'hotel_id': 2924848, 'salute_igiene': 0},\n",
            " {'hotel_id': 4416544,\n",
            "  'salute_igiene': 'Dispositivi per la sicurezza-5 misure-Pulizia-5 '\n",
            "                   'misure-Distanziamento fisico-3 misure-Sicurezza per cibo e '\n",
            "                   'bevande-3 misure'},\n",
            " {'hotel_id': 3066573, 'salute_igiene': 0},\n",
            " {'hotel_id': 1058766,\n",
            "  'salute_igiene': 'Dispositivi per la sicurezza-4 misure-Pulizia-5 '\n",
            "                   'misure-Distanziamento fisico-4 misure-Sicurezza per cibo e '\n",
            "                   'bevande-3 misure'},\n",
            " {'hotel_id': 27804, 'salute_igiene': 0},\n",
            " {'hotel_id': 1578739, 'salute_igiene': 0},\n",
            " {'hotel_id': 311882, 'salute_igiene': 0},\n",
            " {'hotel_id': 1331961,\n",
            "  'salute_igiene': 'Dispositivi per la sicurezza-5 misure-Pulizia-6 '\n",
            "                   'misure-Distanziamento fisico-3 misure-Sicurezza per cibo e '\n",
            "                   'bevande-3 misure'},\n",
            " {'hotel_id': 2478488, 'salute_igiene': 0},\n",
            " {'hotel_id': 1770066, 'salute_igiene': 0},\n",
            " {'hotel_id': 2086430, 'salute_igiene': 0},\n",
            " {'hotel_id': 2474703, 'salute_igiene': 0},\n",
            " {'hotel_id': 4339366,\n",
            "  'salute_igiene': 'Dispositivi per la sicurezza-4 misure-Pulizia-5 '\n",
            "                   'misure-Distanziamento fisico-4 misure-Sicurezza per cibo e '\n",
            "                   'bevande-1 misure'},\n",
            " {'hotel_id': 2317002, 'salute_igiene': 0},\n",
            " {'hotel_id': 85644, 'salute_igiene': 0},\n",
            " {'hotel_id': 3680493, 'salute_igiene': 0},\n",
            " {'hotel_id': 5208244,\n",
            "  'salute_igiene': 'Dispositivi per la sicurezza-4 misure-Pulizia-5 '\n",
            "                   'misure-Distanziamento fisico-5 misure-Sicurezza per cibo e '\n",
            "                   'bevande-3 misure'},\n",
            " {'hotel_id': 245678,\n",
            "  'salute_igiene': 'Dispositivi per la sicurezza-5 misure-Pulizia-6 '\n",
            "                   'misure-Distanziamento fisico-4 misure-Sicurezza per cibo e '\n",
            "                   'bevande-3 misure'},\n",
            " {'hotel_id': 885080, 'salute_igiene': 0},\n",
            " {'hotel_id': 2379645, 'salute_igiene': 0},\n",
            " {'hotel_id': 4855101,\n",
            "  'salute_igiene': 'Dispositivi per la sicurezza-5 misure-Pulizia-4 '\n",
            "                   'misure-Distanziamento fisico-3 misure-Sicurezza per cibo e '\n",
            "                   'bevande-1 misure'},\n",
            " {'hotel_id': 1126243, 'salute_igiene': 0},\n",
            " {'hotel_id': 5330850, 'salute_igiene': 0},\n",
            " {'hotel_id': 301609, 'salute_igiene': 0},\n",
            " {'hotel_id': 2431291, 'salute_igiene': 0},\n",
            " {'hotel_id': 2131032,\n",
            "  'salute_igiene': 'Dispositivi per la sicurezza-2 misure-Pulizia-4 '\n",
            "                   'misure-Distanziamento fisico-2 misure-Sicurezza per cibo e '\n",
            "                   'bevande-1 misure'},\n",
            " {'hotel_id': 175487, 'salute_igiene': 0},\n",
            " {'hotel_id': 368552, 'salute_igiene': 0},\n",
            " {'hotel_id': 3866767, 'salute_igiene': 0},\n",
            " {'hotel_id': 1514332,\n",
            "  'salute_igiene': 'Dispositivi per la sicurezza-4 misure-Pulizia-6 '\n",
            "                   'misure-Distanziamento fisico-2 misure'},\n",
            " {'hotel_id': 295869, 'salute_igiene': 0},\n",
            " {'hotel_id': 80747, 'salute_igiene': 0},\n",
            " {'hotel_id': 4908083,\n",
            "  'salute_igiene': 'Dispositivi per la sicurezza-3 misure-Pulizia-5 '\n",
            "                   'misure-Distanziamento fisico-2 misure-Sicurezza per cibo e '\n",
            "                   'bevande-1 misure'},\n",
            " {'hotel_id': 48382, 'salute_igiene': 0},\n",
            " {'hotel_id': 84941, 'salute_igiene': 0},\n",
            " {'hotel_id': 83027,\n",
            "  'salute_igiene': 'Dispositivi per la sicurezza-4 misure-Pulizia-5 '\n",
            "                   'misure-Distanziamento fisico-3 misure-Sicurezza per cibo e '\n",
            "                   'bevande-3 misure'},\n",
            " {'hotel_id': 2820601, 'salute_igiene': 0},\n",
            " {'hotel_id': 2093972, 'salute_igiene': 0},\n",
            " {'hotel_id': 3182836, 'salute_igiene': 0},\n",
            " {'hotel_id': 2240286,\n",
            "  'salute_igiene': 'Dispositivi per la sicurezza-3 misure-Pulizia-4 '\n",
            "                   'misure-Distanziamento fisico-1 misure-Sicurezza per cibo e '\n",
            "                   'bevande-1 misure'},\n",
            " {'hotel_id': 6230333, 'salute_igiene': 0},\n",
            " {'hotel_id': 2748029, 'salute_igiene': 0},\n",
            " {'hotel_id': 4619639,\n",
            "  'salute_igiene': 'Dispositivi per la sicurezza-3 misure-Pulizia-4 '\n",
            "                   'misure-Distanziamento fisico-3 misure'},\n",
            " {'hotel_id': 13004,\n",
            "  'salute_igiene': 'Dispositivi per la sicurezza-5 misure-Pulizia-3 '\n",
            "                   'misure-Distanziamento fisico-4 misure-Sicurezza per cibo e '\n",
            "                   'bevande-3 misure'},\n",
            " {'hotel_id': 2073696, 'salute_igiene': 0},\n",
            " {'hotel_id': 701382, 'salute_igiene': 0},\n",
            " {'hotel_id': 377398,\n",
            "  'salute_igiene': 'Dispositivi per la sicurezza-4 misure-Pulizia-3 '\n",
            "                   'misure-Distanziamento fisico-2 misure-Sicurezza per cibo e '\n",
            "                   'bevande-3 misure'},\n",
            " {'hotel_id': 81432, 'salute_igiene': 0},\n",
            " {'hotel_id': 3863783, 'salute_igiene': 0},\n",
            " {'hotel_id': 1699936, 'salute_igiene': 0},\n",
            " {'hotel_id': 1390367, 'salute_igiene': 0},\n",
            " {'hotel_id': 848455, 'salute_igiene': 0},\n",
            " {'hotel_id': 187835, 'salute_igiene': 0},\n",
            " {'hotel_id': 85693,\n",
            "  'salute_igiene': 'Dispositivi per la sicurezza-4 misure-Pulizia-5 '\n",
            "                   'misure-Distanziamento fisico-3 misure-Sicurezza per cibo e '\n",
            "                   'bevande-3 misure'},\n",
            " {'hotel_id': 2281324, 'salute_igiene': 0},\n",
            " {'hotel_id': 4197678, 'salute_igiene': 0},\n",
            " {'hotel_id': 1693666, 'salute_igiene': 0},\n",
            " {'hotel_id': 3813523, 'salute_igiene': 0},\n",
            " {'hotel_id': 89396, 'salute_igiene': 0},\n",
            " {'hotel_id': 3564699, 'salute_igiene': 0},\n",
            " {'hotel_id': 84602,\n",
            "  'salute_igiene': 'Pulizia-1 misure-Distanziamento fisico-3 misure'},\n",
            " {'hotel_id': 80280,\n",
            "  'salute_igiene': 'Dispositivi per la sicurezza-5 misure-Pulizia-5 '\n",
            "                   'misure-Distanziamento fisico-4 misure-Sicurezza per cibo e '\n",
            "                   'bevande-3 misure'},\n",
            " {'hotel_id': 19443, 'salute_igiene': 0},\n",
            " {'hotel_id': 4068596, 'salute_igiene': 0},\n",
            " {'hotel_id': 2762782, 'salute_igiene': 0},\n",
            " {'hotel_id': 1696101, 'salute_igiene': 0},\n",
            " {'hotel_id': 1730733,\n",
            "  'salute_igiene': 'Dispositivi per la sicurezza-5 misure-Pulizia-5 '\n",
            "                   'misure-Distanziamento fisico-4 misure-Sicurezza per cibo e '\n",
            "                   'bevande-2 misure'},\n",
            " {'hotel_id': 2747082, 'salute_igiene': 0},\n",
            " {'hotel_id': 82862, 'salute_igiene': 0},\n",
            " {'hotel_id': 3100660, 'salute_igiene': 0},\n",
            " {'hotel_id': 1276113, 'salute_igiene': 0},\n",
            " {'hotel_id': 2070278, 'salute_igiene': 0},\n",
            " {'hotel_id': 5070115, 'salute_igiene': 0},\n",
            " {'hotel_id': 176762,\n",
            "  'salute_igiene': 'Dispositivi per la sicurezza-2 misure-Pulizia-5 '\n",
            "                   'misure-Distanziamento fisico-3 misure-Sicurezza per cibo e '\n",
            "                   'bevande-3 misure'},\n",
            " {'hotel_id': 2679538, 'salute_igiene': 0},\n",
            " {'hotel_id': 556422, 'salute_igiene': 'Pulizia-1 misure'},\n",
            " {'hotel_id': 1842644, 'salute_igiene': 0},\n",
            " {'hotel_id': 88076, 'salute_igiene': 0},\n",
            " {'hotel_id': 1733772, 'salute_igiene': 'Pulizia-1 misure'},\n",
            " {'hotel_id': 5694019, 'salute_igiene': 0},\n",
            " {'hotel_id': 1106047, 'salute_igiene': 0},\n",
            " {'hotel_id': 371788, 'salute_igiene': 0},\n",
            " {'hotel_id': 312214, 'salute_igiene': 0},\n",
            " {'hotel_id': 4058615, 'salute_igiene': 0},\n",
            " {'hotel_id': 81635, 'salute_igiene': 0},\n",
            " {'hotel_id': 3089774, 'salute_igiene': 0},\n",
            " {'hotel_id': 2164454, 'salute_igiene': 0},\n",
            " {'hotel_id': 268462, 'salute_igiene': 0},\n",
            " {'hotel_id': 1377578,\n",
            "  'salute_igiene': 'Dispositivi per la sicurezza-3 misure-Pulizia-4 '\n",
            "                   'misure-Distanziamento fisico-3 misure'},\n",
            " {'hotel_id': 283706, 'salute_igiene': 0},\n",
            " {'hotel_id': 5160598,\n",
            "  'salute_igiene': 'Dispositivi per la sicurezza-1 misure-Pulizia-3 '\n",
            "                   'misure-Distanziamento fisico-1 misure'},\n",
            " {'hotel_id': 2562366,\n",
            "  'salute_igiene': 'Dispositivi per la sicurezza-2 misure-Pulizia-4 '\n",
            "                   'misure-Distanziamento fisico-1 misure'},\n",
            " {'hotel_id': 3397178, 'salute_igiene': 0},\n",
            " {'hotel_id': 1706501,\n",
            "  'salute_igiene': 'Dispositivi per la sicurezza-5 misure-Pulizia-4 '\n",
            "                   'misure-Distanziamento fisico-3 misure-Sicurezza per cibo e '\n",
            "                   'bevande-1 misure'},\n",
            " {'hotel_id': 5609562, 'salute_igiene': 0},\n",
            " {'hotel_id': 86865,\n",
            "  'salute_igiene': 'Dispositivi per la sicurezza-5 misure-Pulizia-5 '\n",
            "                   'misure-Distanziamento fisico-4 misure-Sicurezza per cibo e '\n",
            "                   'bevande-3 misure'},\n",
            " {'hotel_id': 4088300, 'salute_igiene': 0},\n",
            " {'hotel_id': 267048, 'salute_igiene': 0},\n",
            " {'hotel_id': 172674, 'salute_igiene': 0},\n",
            " {'hotel_id': 85797, 'salute_igiene': 0},\n",
            " {'hotel_id': 84488, 'salute_igiene': 0},\n",
            " {'hotel_id': 1921438,\n",
            "  'salute_igiene': 'Dispositivi per la sicurezza-3 misure-Pulizia-5 '\n",
            "                   'misure-Distanziamento fisico-1 misure-Sicurezza per cibo e '\n",
            "                   'bevande-1 misure'},\n",
            " {'hotel_id': 2578055, 'salute_igiene': 0},\n",
            " {'hotel_id': 83547, 'salute_igiene': 0},\n",
            " {'hotel_id': 2660356, 'salute_igiene': 0},\n",
            " {'hotel_id': 2809191, 'salute_igiene': 0},\n",
            " {'hotel_id': 3854385, 'salute_igiene': 0},\n",
            " {'hotel_id': 873987, 'salute_igiene': 0},\n",
            " {'hotel_id': 3240271, 'salute_igiene': 0},\n",
            " {'hotel_id': 1972372, 'salute_igiene': 0},\n",
            " {'hotel_id': 4768449, 'salute_igiene': 0},\n",
            " {'hotel_id': 1166996, 'salute_igiene': 0},\n",
            " {'hotel_id': 572284, 'salute_igiene': 0}]\n"
          ],
          "name": "stdout"
        }
      ]
    },
    {
      "cell_type": "code",
      "metadata": {
        "id": "dtE4IxXiOzV7",
        "colab_type": "code",
        "colab": {
          "base_uri": "https://localhost:8080/",
          "height": 204
        },
        "outputId": "64b6b841-89e5-4ffc-d464-2b2d793a16be"
      },
      "source": [
        "import pandas as pd\n",
        "ds_details = pd.DataFrame(details)\n",
        "ds_details.set_index(\"hotel_id\")\n",
        "ds_details.head()"
      ],
      "execution_count": null,
      "outputs": [
        {
          "output_type": "execute_result",
          "data": {
            "text/html": [
              "<div>\n",
              "<style scoped>\n",
              "    .dataframe tbody tr th:only-of-type {\n",
              "        vertical-align: middle;\n",
              "    }\n",
              "\n",
              "    .dataframe tbody tr th {\n",
              "        vertical-align: top;\n",
              "    }\n",
              "\n",
              "    .dataframe thead th {\n",
              "        text-align: right;\n",
              "    }\n",
              "</style>\n",
              "<table border=\"1\" class=\"dataframe\">\n",
              "  <thead>\n",
              "    <tr style=\"text-align: right;\">\n",
              "      <th></th>\n",
              "      <th>hotel_id</th>\n",
              "      <th>salute_igiene</th>\n",
              "    </tr>\n",
              "  </thead>\n",
              "  <tbody>\n",
              "    <tr>\n",
              "      <th>0</th>\n",
              "      <td>82855</td>\n",
              "      <td>Dispositivi per la sicurezza-4 misure-Pulizia-...</td>\n",
              "    </tr>\n",
              "    <tr>\n",
              "      <th>1</th>\n",
              "      <td>4944541</td>\n",
              "      <td>Dispositivi per la sicurezza-1 misure-Pulizia-...</td>\n",
              "    </tr>\n",
              "    <tr>\n",
              "      <th>2</th>\n",
              "      <td>88393</td>\n",
              "      <td>0</td>\n",
              "    </tr>\n",
              "    <tr>\n",
              "      <th>3</th>\n",
              "      <td>355785</td>\n",
              "      <td>0</td>\n",
              "    </tr>\n",
              "    <tr>\n",
              "      <th>4</th>\n",
              "      <td>480073</td>\n",
              "      <td>0</td>\n",
              "    </tr>\n",
              "  </tbody>\n",
              "</table>\n",
              "</div>"
            ],
            "text/plain": [
              "   hotel_id                                      salute_igiene\n",
              "0     82855  Dispositivi per la sicurezza-4 misure-Pulizia-...\n",
              "1   4944541  Dispositivi per la sicurezza-1 misure-Pulizia-...\n",
              "2     88393                                                  0\n",
              "3    355785                                                  0\n",
              "4    480073                                                  0"
            ]
          },
          "metadata": {
            "tags": []
          },
          "execution_count": 111
        }
      ]
    },
    {
      "cell_type": "code",
      "metadata": {
        "id": "GBKxdAO6PEYv",
        "colab_type": "code",
        "colab": {
          "base_uri": "https://localhost:8080/",
          "height": 170
        },
        "outputId": "eda1a603-e301-41d2-816e-86d5ab258735"
      },
      "source": [
        "ds_details.info()"
      ],
      "execution_count": null,
      "outputs": [
        {
          "output_type": "stream",
          "text": [
            "<class 'pandas.core.frame.DataFrame'>\n",
            "RangeIndex: 295 entries, 0 to 294\n",
            "Data columns (total 2 columns):\n",
            " #   Column         Non-Null Count  Dtype \n",
            "---  ------         --------------  ----- \n",
            " 0   hotel_id       295 non-null    int64 \n",
            " 1   salute_igiene  295 non-null    object\n",
            "dtypes: int64(1), object(1)\n",
            "memory usage: 4.7+ KB\n"
          ],
          "name": "stdout"
        }
      ]
    },
    {
      "cell_type": "code",
      "metadata": {
        "id": "fwXVzn6gPKIi",
        "colab_type": "code",
        "colab": {}
      },
      "source": [
        "ds_details.to_csv(\"ds_hotel_details_salute_igiene.csv\")"
      ],
      "execution_count": null,
      "outputs": []
    },
    {
      "cell_type": "markdown",
      "metadata": {
        "id": "aId_CWOBlokI",
        "colab_type": "text"
      },
      "source": [
        "Estraggo le immagini."
      ]
    },
    {
      "cell_type": "code",
      "metadata": {
        "id": "evGyO348D5UT",
        "colab_type": "code",
        "colab": {
          "base_uri": "https://localhost:8080/",
          "height": 117,
          "referenced_widgets": [
            "a0e67e8caa4945bea26692db2d687a0b",
            "a66f705fae90427099c95a21a2c74d72",
            "f0b6db0042b440ceb7e09b98a4ee2f60",
            "87f42f02519347aea609e33aeff7f602",
            "b83145fdff5a4ffc926c6d7b76c16e88",
            "99527ead09fd4b80b4f9afea7d00a855",
            "63a5128e982c4d1e95636ffa5e4f5992",
            "7046fbe00e334094ba7e4d2984099c8c"
          ]
        },
        "outputId": "fe30a3ba-b141-4762-80db-db0c228bb94d"
      },
      "source": [
        "import time\n",
        "import requests\n",
        "\n",
        "detail_hotel = []\n",
        "list_images = []\n",
        "\n",
        "for num in tqdm(range(0, 26, 25)):\n",
        "  time.sleep(1)\n",
        "  wd.get(f\"https://www.booking.com/searchresults.it.html?aid=304142&label=gen173nr-1FCAEoggI46AdIM1gEaHGIAQGYARS4ARfIAQzYAQHoAQH4AQuIAgGoAgO4ApzakPgFwAIB0gIkZGU3ZDYxMDMtZTQ1OC00Y2E2LTkxM2EtZTViNTJlYzk0NWU52AIG4AIB&sid=f7fc04c8a03b4db3566a73d422abcde1&tmpl=searchresults&ac_click_type=b&ac_position=0&checkin_month=8&checkin_monthday=3&checkin_year=2020&checkout_month=8&checkout_monthday=9&checkout_year=2020&class_interval=1&dest_id=910&dest_type=region&from_sf=1&group_adults=2&group_children=0&label_click=undef&nflt=class%3D3%3B&no_rooms=1&raw_dest_type=region&room1=A%2CA&sb_price_type=total&search_selected=1&shw_aparth=1&slp_r_match=0&src=index&srpvid=ff6f391d537100b9&ss=Toscana%2C%20Italia&ss_raw=tos&ssb=empty&top_ufis=1&rows=25&offset={num}\")\n",
        "  list_hotel = wd.find_elements_by_css_selector(\"div.sr_item\")\n",
        "  for hotel in list_hotel:\n",
        "    try:\n",
        "      hotel_id = hotel.get_attribute(\"data-hotelid\")\n",
        "      src = hotel.find_element_by_css_selector(\"img.hotel_image\").get_attribute(\"src\")\n",
        "      list_images.append({\"hotel_id\": hotel_id,\n",
        "                          \"img_file\": \"img_\" + str(hotel_id) + \".jpg\"})\n",
        "      img_file = requests.get(src, stream=True)\n",
        "      if img_file.status_code == 200:\n",
        "        with open(\"/content/images/img_\" + str(hotel_id) + \".jpg\", 'wb') as f:   #creo una new folder chiamata images\n",
        "          f.write(img_file.content)\n",
        "    except Exception as e:\n",
        "      print(e)"
      ],
      "execution_count": null,
      "outputs": [
        {
          "output_type": "stream",
          "text": [
            "/usr/local/lib/python3.6/dist-packages/ipykernel_launcher.py:7: TqdmDeprecationWarning: This function will be removed in tqdm==5.0.0\n",
            "Please use `tqdm.notebook.tqdm` instead of `tqdm.tqdm_notebook`\n",
            "  import sys\n"
          ],
          "name": "stderr"
        },
        {
          "output_type": "display_data",
          "data": {
            "application/vnd.jupyter.widget-view+json": {
              "model_id": "a0e67e8caa4945bea26692db2d687a0b",
              "version_minor": 0,
              "version_major": 2
            },
            "text/plain": [
              "HBox(children=(FloatProgress(value=0.0, max=2.0), HTML(value='')))"
            ]
          },
          "metadata": {
            "tags": []
          }
        },
        {
          "output_type": "stream",
          "text": [
            "\n"
          ],
          "name": "stdout"
        }
      ]
    },
    {
      "cell_type": "code",
      "metadata": {
        "id": "HYsJj29OEXuy",
        "colab_type": "code",
        "colab": {
          "base_uri": "https://localhost:8080/",
          "height": 34
        },
        "outputId": "a7c74908-4ec5-43c4-d188-60ba18a918c9"
      },
      "source": [
        "print(len(list_images))"
      ],
      "execution_count": null,
      "outputs": [
        {
          "output_type": "stream",
          "text": [
            "55\n"
          ],
          "name": "stdout"
        }
      ]
    },
    {
      "cell_type": "code",
      "metadata": {
        "id": "-fgnxRUUEal5",
        "colab_type": "code",
        "colab": {
          "base_uri": "https://localhost:8080/",
          "height": 337
        },
        "outputId": "75a7e5f1-1950-44ac-b8a8-1bbcedbd6946"
      },
      "source": [
        "%pylab inline\n",
        "import matplotlib.pyplot as plt\n",
        "import matplotlib.image as mpimg\n",
        "img=mpimg.imread('/content/images/img_19443.jpg')\n",
        "imgplot = plt.imshow(img)\n",
        "plt.show()"
      ],
      "execution_count": null,
      "outputs": [
        {
          "output_type": "stream",
          "text": [
            "Populating the interactive namespace from numpy and matplotlib\n"
          ],
          "name": "stdout"
        },
        {
          "output_type": "stream",
          "text": [
            "/usr/local/lib/python3.6/dist-packages/IPython/core/magics/pylab.py:161: UserWarning: pylab import has clobbered these variables: ['title', 'f']\n",
            "`%matplotlib` prevents importing * from pylab and numpy\n",
            "  \"\\n`%matplotlib` prevents importing * from pylab and numpy\"\n"
          ],
          "name": "stderr"
        },
        {
          "output_type": "display_data",
          "data": {
            "image/png": "[encoded data removed]",
            "text/plain": [
              "<Figure size 432x288 with 1 Axes>"
            ]
          },
          "metadata": {
            "tags": [],
            "needs_background": "light"
          }
        }
      ]
    },
    {
      "cell_type": "code",
      "metadata": {
        "id": "-6dy03yhEdSe",
        "colab_type": "code",
        "colab": {
          "base_uri": "https://localhost:8080/",
          "height": 204
        },
        "outputId": "df54bb33-4e09-4e5a-cb41-67d8524e3259"
      },
      "source": [
        "import pandas as pd\n",
        "ds_images = pd.DataFrame(list_images)\n",
        "ds_images.set_index(\"hotel_id\")\n",
        "ds_images.head()"
      ],
      "execution_count": null,
      "outputs": [
        {
          "output_type": "execute_result",
          "data": {
            "text/html": [
              "<div>\n",
              "<style scoped>\n",
              "    .dataframe tbody tr th:only-of-type {\n",
              "        vertical-align: middle;\n",
              "    }\n",
              "\n",
              "    .dataframe tbody tr th {\n",
              "        vertical-align: top;\n",
              "    }\n",
              "\n",
              "    .dataframe thead th {\n",
              "        text-align: right;\n",
              "    }\n",
              "</style>\n",
              "<table border=\"1\" class=\"dataframe\">\n",
              "  <thead>\n",
              "    <tr style=\"text-align: right;\">\n",
              "      <th></th>\n",
              "      <th>hotel_id</th>\n",
              "      <th>img_file</th>\n",
              "    </tr>\n",
              "  </thead>\n",
              "  <tbody>\n",
              "    <tr>\n",
              "      <th>0</th>\n",
              "      <td>572284</td>\n",
              "      <td>img_572284.jpg</td>\n",
              "    </tr>\n",
              "    <tr>\n",
              "      <th>1</th>\n",
              "      <td>82855</td>\n",
              "      <td>img_82855.jpg</td>\n",
              "    </tr>\n",
              "    <tr>\n",
              "      <th>2</th>\n",
              "      <td>1166996</td>\n",
              "      <td>img_1166996.jpg</td>\n",
              "    </tr>\n",
              "    <tr>\n",
              "      <th>3</th>\n",
              "      <td>460961</td>\n",
              "      <td>img_460961.jpg</td>\n",
              "    </tr>\n",
              "    <tr>\n",
              "      <th>4</th>\n",
              "      <td>4768449</td>\n",
              "      <td>img_4768449.jpg</td>\n",
              "    </tr>\n",
              "  </tbody>\n",
              "</table>\n",
              "</div>"
            ],
            "text/plain": [
              "  hotel_id         img_file\n",
              "0   572284   img_572284.jpg\n",
              "1    82855    img_82855.jpg\n",
              "2  1166996  img_1166996.jpg\n",
              "3   460961   img_460961.jpg\n",
              "4  4768449  img_4768449.jpg"
            ]
          },
          "metadata": {
            "tags": []
          },
          "execution_count": 43
        }
      ]
    },
    {
      "cell_type": "code",
      "metadata": {
        "id": "xVa1W6s5EfJq",
        "colab_type": "code",
        "colab": {
          "base_uri": "https://localhost:8080/",
          "height": 170
        },
        "outputId": "3bbd1e4e-01b5-4fac-d0eb-12959920e9a2"
      },
      "source": [
        "ds_images.info()"
      ],
      "execution_count": null,
      "outputs": [
        {
          "output_type": "stream",
          "text": [
            "<class 'pandas.core.frame.DataFrame'>\n",
            "RangeIndex: 55 entries, 0 to 54\n",
            "Data columns (total 2 columns):\n",
            " #   Column    Non-Null Count  Dtype \n",
            "---  ------    --------------  ----- \n",
            " 0   hotel_id  55 non-null     object\n",
            " 1   img_file  55 non-null     object\n",
            "dtypes: object(2)\n",
            "memory usage: 1008.0+ bytes\n"
          ],
          "name": "stdout"
        }
      ]
    },
    {
      "cell_type": "code",
      "metadata": {
        "id": "Pc8zR4ieEhcw",
        "colab_type": "code",
        "colab": {}
      },
      "source": [
        "ds_images.to_csv(\"ds_images_agosto1.csv\")"
      ],
      "execution_count": null,
      "outputs": []
    },
    {
      "cell_type": "code",
      "metadata": {
        "id": "mbfuz5AGEjfN",
        "colab_type": "code",
        "colab": {
          "base_uri": "https://localhost:8080/",
          "height": 918
        },
        "outputId": "a363c788-6327-4b56-ead4-aaa003606006"
      },
      "source": [
        "!zip -r \"/content/images.zip\" \"/content/images/\""
      ],
      "execution_count": null,
      "outputs": [
        {
          "output_type": "stream",
          "text": [
            "  adding: content/images/ (stored 0%)\n",
            "  adding: content/images/img_2427590.jpg (stored 0%)\n",
            "  adding: content/images/img_82855.jpg (stored 0%)\n",
            "  adding: content/images/img_268462.jpg (stored 0%)\n",
            "  adding: content/images/img_83887.jpg (stored 0%)\n",
            "  adding: content/images/img_1972372.jpg (stored 0%)\n",
            "  adding: content/images/img_377398.jpg (stored 0%)\n",
            "  adding: content/images/img_4301121.jpg (stored 0%)\n",
            "  adding: content/images/img_80200.jpg (stored 0%)\n",
            "  adding: content/images/img_81430.jpg (stored 0%)\n",
            "  adding: content/images/img_88076.jpg (stored 0%)\n",
            "  adding: content/images/img_85797.jpg (stored 0%)\n",
            "  adding: content/images/img_460961.jpg (stored 0%)\n",
            "  adding: content/images/img_5609562.jpg (stored 0%)\n",
            "  adding: content/images/img_83547.jpg (stored 0%)\n",
            "  adding: content/images/img_84488.jpg (stored 0%)\n",
            "  adding: content/images/img_3278839.jpg (stored 0%)\n",
            "  adding: content/images/img_1276113.jpg (stored 0%)\n",
            "  adding: content/images/img_2031640.jpg (stored 0%)\n",
            "  adding: content/images/img_85339.jpg (stored 0%)\n",
            "  adding: content/images/img_236844.jpg (stored 0%)\n",
            "  adding: content/images/img_89396.jpg (stored 0%)\n",
            "  adding: content/images/img_81446.jpg (stored 0%)\n",
            "  adding: content/images/img_2562366.jpg (stored 0%)\n",
            "  adding: content/images/img_172674.jpg (stored 0%)\n",
            "  adding: content/images/img_19443.jpg (stored 0%)\n",
            "  adding: content/images/img_3240271.jpg (stored 0%)\n",
            "  adding: content/images/img_4768449.jpg (stored 0%)\n",
            "  adding: content/images/img_2762782.jpg (stored 0%)\n",
            "  adding: content/images/img_2747082.jpg (stored 0%)\n",
            "  adding: content/images/img_80431.jpg (stored 0%)\n",
            "  adding: content/images/img_1166996.jpg (stored 0%)\n",
            "  adding: content/images/img_572284.jpg (stored 0%)\n",
            "  adding: content/images/img_1706501.jpg (stored 0%)\n",
            "  adding: content/images/img_2660356.jpg (stored 0%)\n",
            "  adding: content/images/img_48935.jpg (stored 0%)\n",
            "  adding: content/images/img_4088300.jpg (stored 0%)\n",
            "  adding: content/images/img_3105808.jpg (stored 0%)\n",
            "  adding: content/images/img_5160598.jpg (stored 0%)\n",
            "  adding: content/images/img_80230.jpg (stored 0%)\n",
            "  adding: content/images/img_81044.jpg (stored 0%)\n",
            "  adding: content/images/img_2809191.jpg (stored 0%)\n",
            "  adding: content/images/img_187261.jpg (stored 0%)\n",
            "  adding: content/images/img_80746.jpg (stored 0%)\n",
            "  adding: content/images/img_873987.jpg (stored 0%)\n",
            "  adding: content/images/img_3397178.jpg (stored 0%)\n",
            "  adding: content/images/img_1921438.jpg (stored 0%)\n",
            "  adding: content/images/img_1514332.jpg (stored 0%)\n",
            "  adding: content/images/img_3854385.jpg (stored 0%)\n",
            "  adding: content/images/img_80978.jpg (stored 0%)\n",
            "  adding: content/images/img_2578055.jpg (stored 0%)\n",
            "  adding: content/images/img_312214.jpg (stored 0%)\n",
            "  adding: content/images/img_3182836.jpg (stored 0%)\n"
          ],
          "name": "stdout"
        }
      ]
    },
    {
      "cell_type": "markdown",
      "metadata": {
        "id": "YpnfiTHFdVEI",
        "colab_type": "text"
      },
      "source": [
        "CLARIFAI"
      ]
    },
    {
      "cell_type": "code",
      "metadata": {
        "id": "c_gAp-7fc9hc",
        "colab_type": "code",
        "colab": {
          "base_uri": "https://localhost:8080/",
          "height": 275
        },
        "outputId": "0f80f7be-7fa9-48f7-b713-ae164ce04b95"
      },
      "source": [
        "!pip install clarifai"
      ],
      "execution_count": null,
      "outputs": [
        {
          "output_type": "stream",
          "text": [
            "Requirement already satisfied: clarifai in /usr/local/lib/python3.6/dist-packages (2.6.2)\n",
            "Requirement already satisfied: requests<3,>=2.13 in /usr/local/lib/python3.6/dist-packages (from clarifai) (2.23.0)\n",
            "Requirement already satisfied: googleapis-common-protos<2,>=1.5.0 in /usr/local/lib/python3.6/dist-packages (from clarifai) (1.52.0)\n",
            "Requirement already satisfied: grpcio<2,>=1.13.0 in /usr/local/lib/python3.6/dist-packages (from clarifai) (1.30.0)\n",
            "Requirement already satisfied: protobuf<4,>=3.6 in /usr/local/lib/python3.6/dist-packages (from clarifai) (3.10.0)\n",
            "Requirement already satisfied: jsonschema<3,>=2.5 in /usr/local/lib/python3.6/dist-packages (from clarifai) (2.6.0)\n",
            "Requirement already satisfied: configparser<4,>=3.5 in /usr/local/lib/python3.6/dist-packages (from clarifai) (3.8.1)\n",
            "Requirement already satisfied: future<2,>=0.15 in /usr/local/lib/python3.6/dist-packages (from clarifai) (0.16.0)\n",
            "Requirement already satisfied: chardet<4,>=3.0.2 in /usr/local/lib/python3.6/dist-packages (from requests<3,>=2.13->clarifai) (3.0.4)\n",
            "Requirement already satisfied: certifi>=2017.4.17 in /usr/local/lib/python3.6/dist-packages (from requests<3,>=2.13->clarifai) (2020.6.20)\n",
            "Requirement already satisfied: idna<3,>=2.5 in /usr/local/lib/python3.6/dist-packages (from requests<3,>=2.13->clarifai) (2.9)\n",
            "Requirement already satisfied: urllib3!=1.25.0,!=1.25.1,<1.26,>=1.21.1 in /usr/local/lib/python3.6/dist-packages (from requests<3,>=2.13->clarifai) (1.24.3)\n",
            "Requirement already satisfied: six>=1.5.2 in /usr/local/lib/python3.6/dist-packages (from grpcio<2,>=1.13.0->clarifai) (1.12.0)\n",
            "Requirement already satisfied: setuptools in /usr/local/lib/python3.6/dist-packages (from protobuf<4,>=3.6->clarifai) (47.3.1)\n"
          ],
          "name": "stdout"
        }
      ]
    },
    {
      "cell_type": "code",
      "metadata": {
        "id": "4vzpkyxgdCJl",
        "colab_type": "code",
        "colab": {}
      },
      "source": [
        "from clarifai.rest import ClarifaiApp\n",
        "\n",
        "# setup your key!!!\n",
        "clarifai_key = \"810cedec3053464a9a7161435f69c318\"\n",
        "app = ClarifaiApp(api_key=clarifai_key)\n",
        "\n",
        "# and use the general model\n",
        "model = app.public_models.general_model"
      ],
      "execution_count": null,
      "outputs": []
    },
    {
      "cell_type": "code",
      "metadata": {
        "id": "a8CG-NlcdEkK",
        "colab_type": "code",
        "colab": {}
      },
      "source": [
        "response = model.predict_by_filename(\"/content/images/img_18794.jpg\")"
      ],
      "execution_count": null,
      "outputs": []
    },
    {
      "cell_type": "code",
      "metadata": {
        "id": "cij68SbmdGlo",
        "colab_type": "code",
        "colab": {
          "base_uri": "https://localhost:8080/",
          "height": 1000
        },
        "outputId": "8b2c262c-f345-4bd2-9942-ed4a18d9212a"
      },
      "source": [
        "pprint.pprint(response)"
      ],
      "execution_count": null,
      "outputs": [
        {
          "output_type": "stream",
          "text": [
            "{'outputs': [{'created_at': '2020-07-02T17:06:21.305470360Z',\n",
            "              'data': {'concepts': [{'app_id': 'main',\n",
            "                                     'id': 'ai_ccZ7tNd3',\n",
            "                                     'name': 'illuminated',\n",
            "                                     'value': 0.9899150729179382},\n",
            "                                    {'app_id': 'main',\n",
            "                                     'id': 'ai_n9vjC1jB',\n",
            "                                     'name': 'light',\n",
            "                                     'value': 0.9875596761703491},\n",
            "                                    {'app_id': 'main',\n",
            "                                     'id': 'ai_WBQfVV0p',\n",
            "                                     'name': 'city',\n",
            "                                     'value': 0.9873274564743042},\n",
            "                                    {'app_id': 'main',\n",
            "                                     'id': 'ai_FWCjC8jZ',\n",
            "                                     'name': 'architecture',\n",
            "                                     'value': 0.9854905605316162},\n",
            "                                    {'app_id': 'main',\n",
            "                                     'id': 'ai_GjVpxXrs',\n",
            "                                     'name': 'street',\n",
            "                                     'value': 0.9809445142745972},\n",
            "                                    {'app_id': 'main',\n",
            "                                     'id': 'ai_rsX6XWc2',\n",
            "                                     'name': 'building',\n",
            "                                     'value': 0.9761334657669067},\n",
            "                                    {'app_id': 'main',\n",
            "                                     'id': 'ai_CpFBRWzD',\n",
            "                                     'name': 'urban',\n",
            "                                     'value': 0.9731789231300354},\n",
            "                                    {'app_id': 'main',\n",
            "                                     'id': 'ai_jqbMlN2c',\n",
            "                                     'name': 'hotel',\n",
            "                                     'value': 0.9683263301849365},\n",
            "                                    {'app_id': 'main',\n",
            "                                     'id': 'ai_PJQHT1jg',\n",
            "                                     'name': 'evening',\n",
            "                                     'value': 0.9666874408721924},\n",
            "                                    {'app_id': 'main',\n",
            "                                     'id': 'ai_4Qjv5PTH',\n",
            "                                     'name': 'modern',\n",
            "                                     'value': 0.9658728241920471},\n",
            "                                    {'app_id': 'main',\n",
            "                                     'id': 'ai_Zmhsv0Ch',\n",
            "                                     'name': 'outdoors',\n",
            "                                     'value': 0.9649425745010376},\n",
            "                                    {'app_id': 'main',\n",
            "                                     'id': 'ai_VRmbGVWh',\n",
            "                                     'name': 'travel',\n",
            "                                     'value': 0.9587843418121338},\n",
            "                                    {'app_id': 'main',\n",
            "                                     'id': 'ai_cTv1BBXG',\n",
            "                                     'name': 'expression',\n",
            "                                     'value': 0.9509699940681458},\n",
            "                                    {'app_id': 'main',\n",
            "                                     'id': 'ai_786Zr311',\n",
            "                                     'name': 'no person',\n",
            "                                     'value': 0.9509602189064026},\n",
            "                                    {'app_id': 'main',\n",
            "                                     'id': 'ai_23p8Lb8k',\n",
            "                                     'name': 'dusk',\n",
            "                                     'value': 0.950647234916687},\n",
            "                                    {'app_id': 'main',\n",
            "                                     'id': 'ai_9Dcdh0PK',\n",
            "                                     'name': 'house',\n",
            "                                     'value': 0.9434216022491455},\n",
            "                                    {'app_id': 'main',\n",
            "                                     'id': 'ai_ll97lFvS',\n",
            "                                     'name': 'office',\n",
            "                                     'value': 0.9359667301177979},\n",
            "                                    {'app_id': 'main',\n",
            "                                     'id': 'ai_lNsKfmXb',\n",
            "                                     'name': 'sky',\n",
            "                                     'value': 0.9328747987747192},\n",
            "                                    {'app_id': 'main',\n",
            "                                     'id': 'ai_jvwJ2H7f',\n",
            "                                     'name': 'sight',\n",
            "                                     'value': 0.9323348999023438},\n",
            "                                    {'app_id': 'main',\n",
            "                                     'id': 'ai_m8rrtkhG',\n",
            "                                     'name': 'town',\n",
            "                                     'value': 0.9275779724121094}]},\n",
            "              'id': 'e862853b6fd24444a981234d508b7fc9',\n",
            "              'input': {'data': {'image': {'base64': 'dHJ1ZQ==',\n",
            "                                           'url': 'https://samples.clarifai.com/placeholder.gif'}},\n",
            "                        'id': '62a05682b74c42378e199dce2b183f58'},\n",
            "              'model': {'app_id': 'main',\n",
            "                        'created_at': '2016-03-09T17:11:39.608845Z',\n",
            "                        'display_name': 'General',\n",
            "                        'id': 'aaa03c23b3724a16a56b629203edc62c',\n",
            "                        'model_version': {'created_at': '2018-03-06T21:10:24.454834Z',\n",
            "                                          'id': 'aa7f35c01e0642fda5cf400f543e7c40',\n",
            "                                          'status': {'code': 21100,\n",
            "                                                     'description': 'Model is '\n",
            "                                                                    'trained '\n",
            "                                                                    'and '\n",
            "                                                                    'ready'}},\n",
            "                        'name': 'general',\n",
            "                        'output_info': {'message': 'Show output_info with: GET '\n",
            "                                                   '/models/{model_id}/output_info',\n",
            "                                        'output_config': {'closed_environment': False,\n",
            "                                                          'concepts_mutually_exclusive': False,\n",
            "                                                          'max_concepts': 0,\n",
            "                                                          'min_value': 0.0},\n",
            "                                        'type': 'concept',\n",
            "                                        'type_ext': 'concept'}},\n",
            "              'status': {'code': 10000, 'description': 'Ok'}}],\n",
            " 'status': {'code': 10000,\n",
            "            'description': 'Ok',\n",
            "            'req_id': '93da88dfbf3d4acfb54eecfbfd69dc2e'}}\n"
          ],
          "name": "stdout"
        }
      ]
    },
    {
      "cell_type": "code",
      "metadata": {
        "id": "CiwLJ8KxdJn6",
        "colab_type": "code",
        "colab": {
          "base_uri": "https://localhost:8080/",
          "height": 357
        },
        "outputId": "42183bee-ebee-4946-e991-7f10587c3ea4"
      },
      "source": [
        "if(response['status']['description'] == \"Ok\"):\n",
        "    for concept in response[\"outputs\"][0][\"data\"][\"concepts\"]:\n",
        "        name = concept[\"name\"]\n",
        "        value = concept[\"value\"]\n",
        "        print(name + \" \" + str(value))"
      ],
      "execution_count": null,
      "outputs": [
        {
          "output_type": "stream",
          "text": [
            "illuminated 0.9899150729179382\n",
            "light 0.9875596761703491\n",
            "city 0.9873274564743042\n",
            "architecture 0.9854905605316162\n",
            "street 0.9809445142745972\n",
            "building 0.9761334657669067\n",
            "urban 0.9731789231300354\n",
            "hotel 0.9683263301849365\n",
            "evening 0.9666874408721924\n",
            "modern 0.9658728241920471\n",
            "outdoors 0.9649425745010376\n",
            "travel 0.9587843418121338\n",
            "expression 0.9509699940681458\n",
            "no person 0.9509602189064026\n",
            "dusk 0.950647234916687\n",
            "house 0.9434216022491455\n",
            "office 0.9359667301177979\n",
            "sky 0.9328747987747192\n",
            "sight 0.9323348999023438\n",
            "town 0.9275779724121094\n"
          ],
          "name": "stdout"
        }
      ]
    },
    {
      "cell_type": "code",
      "metadata": {
        "id": "x7MzzhDRdMXo",
        "colab_type": "code",
        "colab": {
          "base_uri": "https://localhost:8080/",
          "height": 134,
          "referenced_widgets": [
            "a3cd2f2f699640dab40b2af27cd5d540",
            "f64e66210de34f63bf071eced0e3d2a0",
            "1e05be2eb5ae4690b63f8d8480977643",
            "2771b49306d24853beefd1a4bb3ffaab",
            "ba31c361048743c8bc1aaa383b86b593",
            "e80dfb62518244aebe8c59065fd1b5d2",
            "9cef7b7c26e947cd955b96c652da799f",
            "ca4fd7fcf32541169d5ca49fc4ab4463"
          ]
        },
        "outputId": "ae8e4e7e-2d3a-4f8f-c621-1c806219ceb2"
      },
      "source": [
        "ds_images = pd.read_csv(\"ds_images_luglio.csv\", index_col=\"project_id\")\n",
        "\n",
        "img_details = []\n",
        "for project_id, image in tqdm(ds_images.iterrows(), total=ds_images.shape[0]):\n",
        "  try:\n",
        "    response = model.predict_by_filename(\"/content/images/\" + image['img_file'])\n",
        "    if(response['status']['description'] == \"Ok\"):\n",
        "      for concept in response[\"outputs\"][0][\"data\"][\"concepts\"]:\n",
        "          name = concept[\"name\"]\n",
        "          value = concept[\"value\"]\n",
        "          img_details.append({\n",
        "            \"project_id\": project_id,\n",
        "            \"image\": image['img_file'],\n",
        "            \"name\": name,\n",
        "            \"value\": value\n",
        "          })\n",
        "  except Exception as e:\n",
        "    print(e)\n",
        "\n",
        "print(len(img_details))"
      ],
      "execution_count": null,
      "outputs": [
        {
          "output_type": "stream",
          "text": [
            "/usr/local/lib/python3.6/dist-packages/ipykernel_launcher.py:4: TqdmDeprecationWarning: This function will be removed in tqdm==5.0.0\n",
            "Please use `tqdm.notebook.tqdm` instead of `tqdm.tqdm_notebook`\n",
            "  after removing the cwd from sys.path.\n"
          ],
          "name": "stderr"
        },
        {
          "output_type": "display_data",
          "data": {
            "application/vnd.jupyter.widget-view+json": {
              "model_id": "a3cd2f2f699640dab40b2af27cd5d540",
              "version_minor": 0,
              "version_major": 2
            },
            "text/plain": [
              "HBox(children=(FloatProgress(value=0.0, max=78.0), HTML(value='')))"
            ]
          },
          "metadata": {
            "tags": []
          }
        },
        {
          "output_type": "stream",
          "text": [
            "\n",
            "1560\n"
          ],
          "name": "stdout"
        }
      ]
    },
    {
      "cell_type": "code",
      "metadata": {
        "id": "2aENQf-OdO1v",
        "colab_type": "code",
        "colab": {
          "base_uri": "https://localhost:8080/",
          "height": 204
        },
        "outputId": "22c01c21-e670-4a9b-9ba3-a7439151aebe"
      },
      "source": [
        "import pandas as pd\n",
        "ds_img_details = pd.DataFrame(img_details)\n",
        "ds_img_details.set_index(\"image\")\n",
        "ds_img_details.head()"
      ],
      "execution_count": null,
      "outputs": [
        {
          "output_type": "execute_result",
          "data": {
            "text/html": [
              "<div>\n",
              "<style scoped>\n",
              "    .dataframe tbody tr th:only-of-type {\n",
              "        vertical-align: middle;\n",
              "    }\n",
              "\n",
              "    .dataframe tbody tr th {\n",
              "        vertical-align: top;\n",
              "    }\n",
              "\n",
              "    .dataframe thead th {\n",
              "        text-align: right;\n",
              "    }\n",
              "</style>\n",
              "<table border=\"1\" class=\"dataframe\">\n",
              "  <thead>\n",
              "    <tr style=\"text-align: right;\">\n",
              "      <th></th>\n",
              "      <th>project_id</th>\n",
              "      <th>image</th>\n",
              "      <th>name</th>\n",
              "      <th>value</th>\n",
              "    </tr>\n",
              "  </thead>\n",
              "  <tbody>\n",
              "    <tr>\n",
              "      <th>0</th>\n",
              "      <td>353976</td>\n",
              "      <td>img_353976.jpg</td>\n",
              "      <td>horizontal plane</td>\n",
              "      <td>0.997749</td>\n",
              "    </tr>\n",
              "    <tr>\n",
              "      <th>1</th>\n",
              "      <td>353976</td>\n",
              "      <td>img_353976.jpg</td>\n",
              "      <td>outdoors</td>\n",
              "      <td>0.995706</td>\n",
              "    </tr>\n",
              "    <tr>\n",
              "      <th>2</th>\n",
              "      <td>353976</td>\n",
              "      <td>img_353976.jpg</td>\n",
              "      <td>city</td>\n",
              "      <td>0.987726</td>\n",
              "    </tr>\n",
              "    <tr>\n",
              "      <th>3</th>\n",
              "      <td>353976</td>\n",
              "      <td>img_353976.jpg</td>\n",
              "      <td>water</td>\n",
              "      <td>0.985181</td>\n",
              "    </tr>\n",
              "    <tr>\n",
              "      <th>4</th>\n",
              "      <td>353976</td>\n",
              "      <td>img_353976.jpg</td>\n",
              "      <td>architecture</td>\n",
              "      <td>0.983850</td>\n",
              "    </tr>\n",
              "  </tbody>\n",
              "</table>\n",
              "</div>"
            ],
            "text/plain": [
              "   project_id           image              name     value\n",
              "0      353976  img_353976.jpg  horizontal plane  0.997749\n",
              "1      353976  img_353976.jpg          outdoors  0.995706\n",
              "2      353976  img_353976.jpg              city  0.987726\n",
              "3      353976  img_353976.jpg             water  0.985181\n",
              "4      353976  img_353976.jpg      architecture  0.983850"
            ]
          },
          "metadata": {
            "tags": []
          },
          "execution_count": 45
        }
      ]
    },
    {
      "cell_type": "code",
      "metadata": {
        "id": "FYigVWpsdR47",
        "colab_type": "code",
        "colab": {
          "base_uri": "https://localhost:8080/",
          "height": 204
        },
        "outputId": "ef65ad4e-f286-40c5-ae14-42aade15e114"
      },
      "source": [
        "ds_img_details.info()"
      ],
      "execution_count": null,
      "outputs": [
        {
          "output_type": "stream",
          "text": [
            "<class 'pandas.core.frame.DataFrame'>\n",
            "RangeIndex: 1560 entries, 0 to 1559\n",
            "Data columns (total 4 columns):\n",
            " #   Column      Non-Null Count  Dtype  \n",
            "---  ------      --------------  -----  \n",
            " 0   project_id  1560 non-null   int64  \n",
            " 1   image       1560 non-null   object \n",
            " 2   name        1560 non-null   object \n",
            " 3   value       1560 non-null   float64\n",
            "dtypes: float64(1), int64(1), object(2)\n",
            "memory usage: 48.9+ KB\n"
          ],
          "name": "stdout"
        }
      ]
    },
    {
      "cell_type": "markdown",
      "metadata": {
        "id": "RhNFRqwodXtw",
        "colab_type": "text"
      },
      "source": [
        "GEOCODING"
      ]
    },
    {
      "cell_type": "code",
      "metadata": {
        "id": "d1gXO7iLdZS4",
        "colab_type": "code",
        "colab": {
          "base_uri": "https://localhost:8080/",
          "height": 139
        },
        "outputId": "ad06a29f-5c47-4ce6-f469-0fdc93cb9a12"
      },
      "source": [
        "import requests\n",
        "import json\n",
        "\n",
        "address = \"Via Marsiglia 26, Pesaro\"\n",
        "key = \"QDtJijTy03kIQIGxttVh92fCYZS5A5gH\"\n",
        "geocode_url = f\"http://www.mapquestapi.com/geocoding/v1/address?key={key}&location={address}\"\n",
        "response = requests.get(geocode_url)\n",
        "\n",
        "import json\n",
        "geo = json.loads(response.text)\n",
        "pprint.pprint(response.text)"
      ],
      "execution_count": null,
      "outputs": [
        {
          "output_type": "stream",
          "text": [
            "('{\"info\":{\"statuscode\":0,\"copyright\":{\"text\":\"\\\\u00A9 2020 MapQuest, '\n",
            " 'Inc.\",\"imageUrl\":\"http://api.mqcdn.com/res/mqlogo.gif\",\"imageAltText\":\"\\\\u00A9 '\n",
            " '2020 MapQuest, '\n",
            " 'Inc.\"},\"messages\":[]},\"options\":{\"maxResults\":-1,\"thumbMaps\":true,\"ignoreLatLngInput\":false},\"results\":[{\"providedLocation\":{\"location\":\"Via '\n",
            " 'Marsiglia 26, Pesaro\"},\"locations\":[{\"street\":\"Via '\n",
            " 'Marsiglia\",\"adminArea6\":\"\",\"adminArea6Type\":\"Neighborhood\",\"adminArea5\":\"Pesaro\",\"adminArea5Type\":\"City\",\"adminArea4\":\"PU\",\"adminArea4Type\":\"County\",\"adminArea3\":\"MAR\",\"adminArea3Type\":\"State\",\"adminArea1\":\"IT\",\"adminArea1Type\":\"Country\",\"postalCode\":\"61121\",\"geocodeQualityCode\":\"B1AAX\",\"geocodeQuality\":\"STREET\",\"dragPoint\":false,\"sideOfStreet\":\"N\",\"linkId\":\"0\",\"unknownInput\":\"\",\"type\":\"s\",\"latLng\":{\"lat\":43.892429,\"lng\":12.896724},\"displayLatLng\":{\"lat\":43.892429,\"lng\":12.896724},\"mapUrl\":\"http://www.mapquestapi.com/staticmap/v5/map?key=QDtJijTy03kIQIGxttVh92fCYZS5A5gH&type=map&size=225,160&locations=43.8924291,12.8967237|marker-sm-50318A-1&scalebar=true&zoom=15&rand=2079791287\"}]}]}')\n"
          ],
          "name": "stdout"
        }
      ]
    },
    {
      "cell_type": "code",
      "metadata": {
        "id": "Ds3FmjaZddkX",
        "colab_type": "code",
        "colab": {
          "base_uri": "https://localhost:8080/",
          "height": 51
        },
        "outputId": "c3fb019b-2994-433f-a402-9cfd2dd7159b"
      },
      "source": [
        "print(geo['results'][0]['locations'][0]['latLng']['lat'])\n",
        "print(geo['results'][0]['locations'][0]['latLng']['lng'])"
      ],
      "execution_count": null,
      "outputs": [
        {
          "output_type": "stream",
          "text": [
            "43.892429\n",
            "12.896724\n"
          ],
          "name": "stdout"
        }
      ]
    },
    {
      "cell_type": "code",
      "metadata": {
        "id": "1lXHWFk5df05",
        "colab_type": "code",
        "colab": {
          "base_uri": "https://localhost:8080/",
          "height": 170
        },
        "outputId": "15806654-c17d-4919-8af1-a99344acd473"
      },
      "source": [
        "ds_hotel = pd.read_csv(\"ds_hotel_details_address1.csv\", index_col=\"hotel_id\")\n",
        "ds_hotel.info()"
      ],
      "execution_count": null,
      "outputs": [
        {
          "output_type": "stream",
          "text": [
            "<class 'pandas.core.frame.DataFrame'>\n",
            "Int64Index: 295 entries, 82855 to 572284\n",
            "Data columns (total 2 columns):\n",
            " #   Column      Non-Null Count  Dtype \n",
            "---  ------      --------------  ----- \n",
            " 0   Unnamed: 0  295 non-null    int64 \n",
            " 1   address     295 non-null    object\n",
            "dtypes: int64(1), object(1)\n",
            "memory usage: 6.9+ KB\n"
          ],
          "name": "stdout"
        }
      ]
    },
    {
      "cell_type": "code",
      "metadata": {
        "id": "Y0MISGHGdkXG",
        "colab_type": "code",
        "colab": {
          "base_uri": "https://localhost:8080/",
          "height": 134,
          "referenced_widgets": [
            "f8b15f8622e74c2aa540982ed2dd3c33",
            "99c5f3bfad17400291e669842c59d3fa",
            "0c3bb00253574ff5b268ae7117a2a02e",
            "ba9cd2e9fc0d4affb03ecedb6e524be9",
            "a0d7eee1afe74148b44cd0960c30297f",
            "0dc04104c60241daa3487e56eee2d1e9",
            "b060fdb09ea54ffba9a196d88db80480",
            "61fdeba898c24409a154cb0f799d24d3"
          ]
        },
        "outputId": "eca03e1d-4330-491a-f6e5-ebb931b6e129"
      },
      "source": [
        "ds_hotel = pd.read_csv(\"ds_hotel_details_address1.csv\", index_col=\"hotel_id\")\n",
        "\n",
        "import time\n",
        "hotel_location = []\n",
        "for hotel_id, hotel in tqdm(ds_hotel.iterrows(), total=ds_hotel.shape[0]):\n",
        "  geocod = hotel['address']\n",
        "  if(geocod is None):# or geocod == NaN):\n",
        "    print(str(hotel_id) + \"- \" + hotel['address'])\n",
        "  else:\n",
        "    key = \"r3xgNwBAviBMdOj4Op90kvyy2iO1CDGz\"\n",
        "    try:\n",
        "      geocode_url = f\"http://www.mapquestapi.com/geocoding/v1/address?key={key}&location={geocod}\"\n",
        "      response = requests.get(geocode_url)\n",
        "      if(response.status_code == 200):\n",
        "        geo = json.loads(response.text)\n",
        "        lat = geo['results'][0]['locations'][0]['latLng']['lat']\n",
        "        lng = geo['results'][0]['locations'][0]['latLng']['lng']\n",
        "        hotel_location.append({\n",
        "              \"hotel_id\": hotel_id,\n",
        "              \"lat\": lat,\n",
        "              \"lng\": lng\n",
        "            })\n",
        "    except Exception as e:\n",
        "      print(e)\n",
        "    \n",
        "\n",
        "print(len(hotel_location))"
      ],
      "execution_count": null,
      "outputs": [
        {
          "output_type": "stream",
          "text": [
            "/usr/local/lib/python3.6/dist-packages/ipykernel_launcher.py:5: TqdmDeprecationWarning: This function will be removed in tqdm==5.0.0\n",
            "Please use `tqdm.notebook.tqdm` instead of `tqdm.tqdm_notebook`\n",
            "  \"\"\"\n"
          ],
          "name": "stderr"
        },
        {
          "output_type": "display_data",
          "data": {
            "application/vnd.jupyter.widget-view+json": {
              "model_id": "f8b15f8622e74c2aa540982ed2dd3c33",
              "version_minor": 0,
              "version_major": 2
            },
            "text/plain": [
              "HBox(children=(FloatProgress(value=0.0, max=295.0), HTML(value='')))"
            ]
          },
          "metadata": {
            "tags": []
          }
        },
        {
          "output_type": "stream",
          "text": [
            "\n",
            "295\n"
          ],
          "name": "stdout"
        }
      ]
    },
    {
      "cell_type": "code",
      "metadata": {
        "id": "9EmEqJ3Pdpls",
        "colab_type": "code",
        "colab": {
          "base_uri": "https://localhost:8080/",
          "height": 669
        },
        "outputId": "875b3f81-8a39-4a83-a411-db880a400e3d"
      },
      "source": [
        "import pandas as pd\n",
        "ds_hotel_location = pd.DataFrame(hotel_location)\n",
        "ds_hotel_location.set_index(\"hotel_id\")\n",
        "ds_hotel_location.head(20)"
      ],
      "execution_count": null,
      "outputs": [
        {
          "output_type": "execute_result",
          "data": {
            "text/html": [
              "<div>\n",
              "<style scoped>\n",
              "    .dataframe tbody tr th:only-of-type {\n",
              "        vertical-align: middle;\n",
              "    }\n",
              "\n",
              "    .dataframe tbody tr th {\n",
              "        vertical-align: top;\n",
              "    }\n",
              "\n",
              "    .dataframe thead th {\n",
              "        text-align: right;\n",
              "    }\n",
              "</style>\n",
              "<table border=\"1\" class=\"dataframe\">\n",
              "  <thead>\n",
              "    <tr style=\"text-align: right;\">\n",
              "      <th></th>\n",
              "      <th>hotel_id</th>\n",
              "      <th>lat</th>\n",
              "      <th>lng</th>\n",
              "    </tr>\n",
              "  </thead>\n",
              "  <tbody>\n",
              "    <tr>\n",
              "      <th>0</th>\n",
              "      <td>82855</td>\n",
              "      <td>43.73789</td>\n",
              "      <td>10.43343</td>\n",
              "    </tr>\n",
              "    <tr>\n",
              "      <th>1</th>\n",
              "      <td>4944541</td>\n",
              "      <td>43.47165</td>\n",
              "      <td>11.14547</td>\n",
              "    </tr>\n",
              "    <tr>\n",
              "      <th>2</th>\n",
              "      <td>88393</td>\n",
              "      <td>37.66666</td>\n",
              "      <td>12.78959</td>\n",
              "    </tr>\n",
              "    <tr>\n",
              "      <th>3</th>\n",
              "      <td>355785</td>\n",
              "      <td>43.98254</td>\n",
              "      <td>11.21285</td>\n",
              "    </tr>\n",
              "    <tr>\n",
              "      <th>4</th>\n",
              "      <td>480073</td>\n",
              "      <td>43.87809</td>\n",
              "      <td>11.10123</td>\n",
              "    </tr>\n",
              "    <tr>\n",
              "      <th>5</th>\n",
              "      <td>3278485</td>\n",
              "      <td>43.87743</td>\n",
              "      <td>11.15911</td>\n",
              "    </tr>\n",
              "    <tr>\n",
              "      <th>6</th>\n",
              "      <td>80651</td>\n",
              "      <td>43.77808</td>\n",
              "      <td>11.25356</td>\n",
              "    </tr>\n",
              "    <tr>\n",
              "      <th>7</th>\n",
              "      <td>24998</td>\n",
              "      <td>43.77433</td>\n",
              "      <td>11.25055</td>\n",
              "    </tr>\n",
              "    <tr>\n",
              "      <th>8</th>\n",
              "      <td>80746</td>\n",
              "      <td>43.70984</td>\n",
              "      <td>10.40303</td>\n",
              "    </tr>\n",
              "    <tr>\n",
              "      <th>9</th>\n",
              "      <td>80574</td>\n",
              "      <td>43.77376</td>\n",
              "      <td>11.24314</td>\n",
              "    </tr>\n",
              "    <tr>\n",
              "      <th>10</th>\n",
              "      <td>42202</td>\n",
              "      <td>43.77316</td>\n",
              "      <td>11.24894</td>\n",
              "    </tr>\n",
              "    <tr>\n",
              "      <th>11</th>\n",
              "      <td>250028</td>\n",
              "      <td>43.77548</td>\n",
              "      <td>11.25245</td>\n",
              "    </tr>\n",
              "    <tr>\n",
              "      <th>12</th>\n",
              "      <td>80858</td>\n",
              "      <td>43.77625</td>\n",
              "      <td>11.25071</td>\n",
              "    </tr>\n",
              "    <tr>\n",
              "      <th>13</th>\n",
              "      <td>81446</td>\n",
              "      <td>43.84511</td>\n",
              "      <td>11.14075</td>\n",
              "    </tr>\n",
              "    <tr>\n",
              "      <th>14</th>\n",
              "      <td>80200</td>\n",
              "      <td>43.79783</td>\n",
              "      <td>11.21552</td>\n",
              "    </tr>\n",
              "    <tr>\n",
              "      <th>15</th>\n",
              "      <td>81430</td>\n",
              "      <td>43.76573</td>\n",
              "      <td>11.27414</td>\n",
              "    </tr>\n",
              "    <tr>\n",
              "      <th>16</th>\n",
              "      <td>4166303</td>\n",
              "      <td>43.46823</td>\n",
              "      <td>11.14585</td>\n",
              "    </tr>\n",
              "    <tr>\n",
              "      <th>17</th>\n",
              "      <td>4301121</td>\n",
              "      <td>43.77017</td>\n",
              "      <td>11.25295</td>\n",
              "    </tr>\n",
              "    <tr>\n",
              "      <th>18</th>\n",
              "      <td>573199</td>\n",
              "      <td>43.77844</td>\n",
              "      <td>11.25616</td>\n",
              "    </tr>\n",
              "    <tr>\n",
              "      <th>19</th>\n",
              "      <td>82002</td>\n",
              "      <td>43.77724</td>\n",
              "      <td>11.25223</td>\n",
              "    </tr>\n",
              "  </tbody>\n",
              "</table>\n",
              "</div>"
            ],
            "text/plain": [
              "    hotel_id       lat       lng\n",
              "0      82855  43.73789  10.43343\n",
              "1    4944541  43.47165  11.14547\n",
              "2      88393  37.66666  12.78959\n",
              "3     355785  43.98254  11.21285\n",
              "4     480073  43.87809  11.10123\n",
              "5    3278485  43.87743  11.15911\n",
              "6      80651  43.77808  11.25356\n",
              "7      24998  43.77433  11.25055\n",
              "8      80746  43.70984  10.40303\n",
              "9      80574  43.77376  11.24314\n",
              "10     42202  43.77316  11.24894\n",
              "11    250028  43.77548  11.25245\n",
              "12     80858  43.77625  11.25071\n",
              "13     81446  43.84511  11.14075\n",
              "14     80200  43.79783  11.21552\n",
              "15     81430  43.76573  11.27414\n",
              "16   4166303  43.46823  11.14585\n",
              "17   4301121  43.77017  11.25295\n",
              "18    573199  43.77844  11.25616\n",
              "19     82002  43.77724  11.25223"
            ]
          },
          "metadata": {
            "tags": []
          },
          "execution_count": 49
        }
      ]
    },
    {
      "cell_type": "code",
      "metadata": {
        "id": "beEnvuh2drPS",
        "colab_type": "code",
        "colab": {
          "base_uri": "https://localhost:8080/",
          "height": 187
        },
        "outputId": "017694fd-b407-4ba1-8257-324dfb1fe2ce"
      },
      "source": [
        "ds_hotel_location.info()"
      ],
      "execution_count": null,
      "outputs": [
        {
          "output_type": "stream",
          "text": [
            "<class 'pandas.core.frame.DataFrame'>\n",
            "RangeIndex: 295 entries, 0 to 294\n",
            "Data columns (total 3 columns):\n",
            " #   Column    Non-Null Count  Dtype  \n",
            "---  ------    --------------  -----  \n",
            " 0   hotel_id  295 non-null    int64  \n",
            " 1   lat       295 non-null    float64\n",
            " 2   lng       295 non-null    float64\n",
            "dtypes: float64(2), int64(1)\n",
            "memory usage: 7.0 KB\n"
          ],
          "name": "stdout"
        }
      ]
    },
    {
      "cell_type": "code",
      "metadata": {
        "id": "-Tv43Uw2dszb",
        "colab_type": "code",
        "colab": {}
      },
      "source": [
        "ds_hotel_location.to_csv('ds_hotel_location1.csv')"
      ],
      "execution_count": null,
      "outputs": []
    }
  ]
}